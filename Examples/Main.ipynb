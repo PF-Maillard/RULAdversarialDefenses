{
 "cells": [
  {
   "cell_type": "code",
   "execution_count": 1,
   "id": "b10920c7",
   "metadata": {
    "execution": {
     "iopub.execute_input": "2022-11-23T15:41:07.424260Z",
     "iopub.status.busy": "2022-11-23T15:41:07.423547Z",
     "iopub.status.idle": "2022-11-23T15:41:09.327810Z",
     "shell.execute_reply": "2022-11-23T15:41:09.326355Z"
    },
    "papermill": {
     "duration": 1.918804,
     "end_time": "2022-11-23T15:41:09.331049",
     "exception": false,
     "start_time": "2022-11-23T15:41:07.412245",
     "status": "completed"
    },
    "tags": []
   },
   "outputs": [],
   "source": [
    "from os import listdir\n",
    "import pandas as pd\n",
    "import numpy as np\n",
    "from sklearn.metrics import mean_squared_error\n",
    "\n",
    "import torch\n",
    "from torch.utils.data import DataLoader\n",
    "\n",
    "import Sources.DataNasaFan as DataTool\n",
    "from Sources.ModelsNasaFan import RNNModel, GRUModel, LSTMModel\n",
    "\n",
    "import AdversarialRulLib.Utils as UtilsTool\n",
    "import AdversarialRulLib.Attacks as AttacksTool\n",
    "import AdversarialRulLib.Defense as DefenseTool"
   ]
  },
  {
   "cell_type": "code",
   "execution_count": 2,
   "id": "85000d04",
   "metadata": {},
   "outputs": [],
   "source": [
    "pd.set_option('display.max_columns', 50)\n",
    "pd.set_option('display.max_rows', 50)\n",
    "\n",
    "TrainMode = 0\n",
    "\n",
    "DatasetPath = 'DatasetRUL/'\n",
    "ModelPath = 'Models/'\n",
    "Window = 80"
   ]
  },
  {
   "cell_type": "code",
   "execution_count": 3,
   "id": "99a09448",
   "metadata": {},
   "outputs": [
    {
     "name": "stdout",
     "output_type": "stream",
     "text": [
      "Using device: cuda\n"
     ]
    }
   ],
   "source": [
    "Device = torch.device(\"cuda\" if torch.cuda.is_available() else \"cpu\")\n",
    "print(f\"Using device: {Device}\")"
   ]
  },
  {
   "cell_type": "code",
   "execution_count": 4,
   "id": "727cd407",
   "metadata": {
    "execution": {
     "iopub.execute_input": "2022-11-23T15:41:09.371162Z",
     "iopub.status.busy": "2022-11-23T15:41:09.369654Z",
     "iopub.status.idle": "2022-11-23T15:41:09.688330Z",
     "shell.execute_reply": "2022-11-23T15:41:09.687086Z"
    },
    "papermill": {
     "duration": 0.331643,
     "end_time": "2022-11-23T15:41:09.690880",
     "exception": false,
     "start_time": "2022-11-23T15:41:09.359237",
     "status": "completed"
    },
    "tags": []
   },
   "outputs": [],
   "source": [
    "listdir(DatasetPath)\n",
    "\n",
    "DfTrain = pd.read_csv(DatasetPath + 'train_FD001.txt', header = None, sep = ' ')\n",
    "DfTest = pd.read_csv(DatasetPath + 'test_FD001.txt', header = None, sep = ' ')\n",
    "RulTest = pd.read_csv(DatasetPath + 'RUL_FD001.txt', header = None)"
   ]
  },
  {
   "cell_type": "code",
   "execution_count": 5,
   "id": "b064a33d",
   "metadata": {
    "execution": {
     "iopub.execute_input": "2022-11-23T15:41:09.736166Z",
     "iopub.status.busy": "2022-11-23T15:41:09.735740Z",
     "iopub.status.idle": "2022-11-23T15:41:09.812797Z",
     "shell.execute_reply": "2022-11-23T15:41:09.811536Z"
    },
    "papermill": {
     "duration": 0.091155,
     "end_time": "2022-11-23T15:41:09.815373",
     "exception": false,
     "start_time": "2022-11-23T15:41:09.724218",
     "status": "completed"
    },
    "tags": []
   },
   "outputs": [],
   "source": [
    "DfTrain, DfTest, RulTest = DataTool.SetDatasets(DfTrain, DfTest, RulTest)"
   ]
  },
  {
   "cell_type": "code",
   "execution_count": 6,
   "id": "ea46a2d8",
   "metadata": {
    "execution": {
     "iopub.execute_input": "2022-11-23T15:41:14.752510Z",
     "iopub.status.busy": "2022-11-23T15:41:14.752105Z",
     "iopub.status.idle": "2022-11-23T15:41:14.816285Z",
     "shell.execute_reply": "2022-11-23T15:41:14.815113Z"
    },
    "papermill": {
     "duration": 0.091725,
     "end_time": "2022-11-23T15:41:14.819125",
     "exception": false,
     "start_time": "2022-11-23T15:41:14.727400",
     "status": "completed"
    },
    "tags": []
   },
   "outputs": [],
   "source": [
    "MinMaxDict = DataTool.GetMinMaxDictionnary(DfTrain)\n",
    "NdfTrain  = DataTool.NormalizeDataset(DfTrain, MinMaxDict)    \n",
    "NdfTest  = DataTool.NormalizeDataset(DfTest, MinMaxDict)   "
   ]
  },
  {
   "cell_type": "code",
   "execution_count": 7,
   "id": "a63fb82b",
   "metadata": {
    "execution": {
     "iopub.execute_input": "2022-11-23T15:41:20.981489Z",
     "iopub.status.busy": "2022-11-23T15:41:20.980892Z",
     "iopub.status.idle": "2022-11-23T15:41:20.987713Z",
     "shell.execute_reply": "2022-11-23T15:41:20.986262Z"
    },
    "papermill": {
     "duration": 0.044458,
     "end_time": "2022-11-23T15:41:20.990277",
     "exception": false,
     "start_time": "2022-11-23T15:41:20.945819",
     "status": "completed"
    },
    "tags": []
   },
   "outputs": [],
   "source": [
    "n_features = len([c for c in NdfTrain.columns if 's' in c])"
   ]
  },
  {
   "cell_type": "code",
   "execution_count": 8,
   "id": "4c6b0dd4",
   "metadata": {
    "execution": {
     "iopub.execute_input": "2022-11-23T15:41:21.126530Z",
     "iopub.status.busy": "2022-11-23T15:41:21.125398Z",
     "iopub.status.idle": "2022-11-23T15:41:21.132885Z",
     "shell.execute_reply": "2022-11-23T15:41:21.131463Z"
    },
    "papermill": {
     "duration": 0.045,
     "end_time": "2022-11-23T15:41:21.135314",
     "exception": false,
     "start_time": "2022-11-23T15:41:21.090314",
     "status": "completed"
    },
    "tags": []
   },
   "outputs": [],
   "source": [
    "np.random.seed(5)\n",
    "torch.manual_seed(5)\n",
    "\n",
    "Units = np.arange(1,101)\n",
    "TrainUnits = list(np.random.choice(Units, 80, replace = False))\n",
    "ValUnits = list(set(Units) - set(TrainUnits))\n",
    "\n",
    "TrainData = NdfTrain[NdfTrain['unit'].isin(TrainUnits)].copy()\n",
    "ValData = NdfTrain[NdfTrain['unit'].isin(ValUnits)].copy()\n",
    "\n",
    "TrainIndices = list(TrainData[(TrainData['rul'] >= (Window - 1)) & (TrainData['time'] > 10)].index)\n",
    "ValIndices = list(ValData[(ValData['rul'] >= (Window - 1)) & (ValData['time'] > 10)].index)\n",
    "\n",
    "TrainDataset = DataTool.data(TrainIndices, NdfTrain, Window)\n",
    "ValidationDataset = DataTool.data(ValIndices, NdfTrain, Window)\n",
    "\n",
    "UnitBySize = NdfTest.groupby('unit')['time'].max().tolist()\n",
    "Units = []\n",
    "for i in range(len(UnitBySize)):\n",
    "    if UnitBySize[i] > Window:\n",
    "        Units.append(i+1)\n",
    "\n",
    "TestDataset = DataTool.test(NdfTest, Window)"
   ]
  },
  {
   "cell_type": "code",
   "execution_count": 9,
   "id": "d80622da",
   "metadata": {},
   "outputs": [
    {
     "name": "stdout",
     "output_type": "stream",
     "text": [
      "Train 9615\n",
      "Val 2116\n",
      "Test 77\n"
     ]
    }
   ],
   "source": [
    "print(\"Train\", len(TrainDataset))\n",
    "print(\"Val\", len(ValidationDataset))\n",
    "print(\"Test\", len(TestDataset))"
   ]
  },
  {
   "cell_type": "code",
   "execution_count": 10,
   "id": "8bc63df6",
   "metadata": {},
   "outputs": [],
   "source": [
    "TrainLoader = DataLoader(TrainDataset, batch_size = 64, shuffle = True)\n",
    "ValidationLoader = DataLoader(ValidationDataset, batch_size = len(ValIndices), shuffle = True)\n",
    "TestLoader = DataLoader(TestDataset, batch_size = 100)"
   ]
  },
  {
   "cell_type": "code",
   "execution_count": 11,
   "id": "2f17f2e2",
   "metadata": {
    "execution": {
     "iopub.execute_input": "2022-11-23T15:41:21.973759Z",
     "iopub.status.busy": "2022-11-23T15:41:21.972943Z",
     "iopub.status.idle": "2022-11-23T16:08:07.459582Z",
     "shell.execute_reply": "2022-11-23T16:08:07.458414Z"
    },
    "papermill": {
     "duration": 1605.563583,
     "end_time": "2022-11-23T16:08:07.502071",
     "exception": false,
     "start_time": "2022-11-23T15:41:21.938488",
     "status": "completed"
    },
    "tags": []
   },
   "outputs": [],
   "source": [
    "if TrainMode == 1:\n",
    "    epochs = 50\n",
    "    learning_rate= 0.001\n",
    "    \n",
    "    MyRNNModel = RNNModel().to(Device)\n",
    "    UtilsTool.InitModel(MyRNNModel, Device)\n",
    "    UtilsTool.TrainModel(MyRNNModel, TrainLoader, ValidationLoader, epochs, learning_rate, Device)        \n",
    "    torch.save(MyRNNModel, ModelPath + 'MyRNNmodel.pth')\n",
    "\n",
    "    MyGRUModel = GRUModel().to(Device)\n",
    "    UtilsTool.InitModel(MyGRUModel, Device)\n",
    "    UtilsTool.TrainModel(MyGRUModel, TrainLoader, ValidationLoader, epochs, learning_rate, Device)        \n",
    "    torch.save(MyGRUModel, ModelPath + 'MyGRUmodel.pth')\n",
    "\n",
    "    MyLSTMModel = LSTMModel().to(Device)\n",
    "    UtilsTool.InitModel(MyLSTMModel, Device)\n",
    "    UtilsTool.TrainModel(MyLSTMModel, TrainLoader, ValidationLoader, epochs, learning_rate, Device)     \n",
    "    torch.save(MyLSTMModel, ModelPath + 'MyLSTMmodel.pth')\n",
    "    \n",
    "else:     \n",
    "    MyRNNModel = torch.load(ModelPath + 'MyRNNmodel.pth').to(Device)\n",
    "    MyGRUModel = torch.load(ModelPath + 'MyGRUmodel.pth').to(Device)\n",
    "    MyLSTMModel = torch.load(ModelPath + 'MyLSTMmodel.pth').to(Device)\n"
   ]
  },
  {
   "cell_type": "markdown",
   "id": "15a2d305",
   "metadata": {
    "papermill": {
     "duration": 0.041459,
     "end_time": "2022-11-23T16:08:48.445943",
     "exception": false,
     "start_time": "2022-11-23T16:08:48.404484",
     "status": "completed"
    },
    "tags": []
   },
   "source": [
    "![](./animation3.gif)"
   ]
  },
  {
   "cell_type": "code",
   "execution_count": 12,
   "id": "2adc90d3",
   "metadata": {
    "execution": {
     "iopub.execute_input": "2022-11-23T16:08:48.617567Z",
     "iopub.status.busy": "2022-11-23T16:08:48.616798Z",
     "iopub.status.idle": "2022-11-23T16:08:48.818815Z",
     "shell.execute_reply": "2022-11-23T16:08:48.817568Z"
    },
    "papermill": {
     "duration": 0.248564,
     "end_time": "2022-11-23T16:08:48.821338",
     "exception": false,
     "start_time": "2022-11-23T16:08:48.572774",
     "status": "completed"
    },
    "tags": []
   },
   "outputs": [
    {
     "name": "stdout",
     "output_type": "stream",
     "text": [
      "RNN: MSE:465.91, L1:15.69, RMSE:21.58\n",
      "GRU: MSE:219.32, L1:9.81, RMSE:14.81\n",
      "LSTM: MSE:245.37, L1:10.68, RMSE:15.66\n"
     ]
    }
   ],
   "source": [
    "Mse, L1, Rrmse, _ , _ = UtilsTool.TestModel(MyRNNModel, TestLoader, Device)\n",
    "print(f'RNN: MSE:{round(Mse,2)}, L1:{round(L1,2)}, RMSE:{round(Rrmse,2)}')\n",
    "Mse, L1, Rrmse, _ , _ = UtilsTool.TestModel(MyGRUModel, TestLoader, Device)\n",
    "print(f'GRU: MSE:{round(Mse,2)}, L1:{round(L1,2)}, RMSE:{round(Rrmse,2)}')\n",
    "Mse, L1, Rrmse, _ , _ = UtilsTool.TestModel(MyLSTMModel, TestLoader, Device)\n",
    "print(f'LSTM: MSE:{round(Mse,2)}, L1:{round(L1,2)}, RMSE:{round(Rrmse,2)}')"
   ]
  },
  {
   "cell_type": "code",
   "execution_count": 13,
   "id": "ba3e1b99",
   "metadata": {},
   "outputs": [
    {
     "name": "stdout",
     "output_type": "stream",
     "text": [
      "RNN\n",
      "FGSM: {'RealRUL': 64.4935073852539, 'Objective': 0, 'PredRUL': 38.010520935058594, 'RMSE_adversarial': 0.05482277274131775, 'RMSE_pred': 35.5657958984375}\n",
      "BIM: {'RealRUL': 64.4935073852539, 'Objective': 0, 'PredRUL': 15.045473098754883, 'RMSE_adversarial': 0.04166153445839882, 'RMSE_pred': 58.6117057800293}\n",
      "CW: {'RealRUL': 64.4935073852539, 'Objective': 0, 'PredRUL': 2.0027589797973633, 'RMSE_adversarial': 0.054351214319467545, 'RMSE_pred': 74.27005767822266}\n",
      "\n",
      "GRU\n",
      "FGSM: {'RealRUL': 64.4935073852539, 'Objective': 0, 'PredRUL': 37.45110321044922, 'RMSE_adversarial': 0.010833751410245895, 'RMSE_pred': 33.85736083984375}\n",
      "BIM: {'RealRUL': 64.4935073852539, 'Objective': 0, 'PredRUL': 35.1286506652832, 'RMSE_adversarial': 0.01041092723608017, 'RMSE_pred': 36.715606689453125}\n",
      "CW: {'RealRUL': 64.4935073852539, 'Objective': 0, 'PredRUL': 17.646066665649414, 'RMSE_adversarial': 0.010300042107701302, 'RMSE_pred': 60.05739974975586}\n",
      "\n",
      "LSTM\n",
      "FGSM: {'RealRUL': 64.4935073852539, 'Objective': 0, 'PredRUL': 65.50241088867188, 'RMSE_adversarial': 0.44161757826805115, 'RMSE_pred': 68.97966003417969}\n",
      "BIM: {'RealRUL': 64.4935073852539, 'Objective': 0, 'PredRUL': 4.814818382263184, 'RMSE_adversarial': 0.05254378914833069, 'RMSE_pred': 70.44662475585938}\n",
      "CW: {'RealRUL': 64.4935073852539, 'Objective': 0, 'PredRUL': 0.4103280305862427, 'RMSE_adversarial': 0.035322386771440506, 'RMSE_pred': 75.62596893310547}\n"
     ]
    }
   ],
   "source": [
    "TestLoaderAttack = DataLoader(TestLoader.dataset, batch_size=100, shuffle=False)\n",
    "X, y = next(iter(TestLoaderAttack))\n",
    "X, y = X.to(Device), y.to(Device)\n",
    "\n",
    "AttacksParameters = {\n",
    "    \"FGSM\": {\n",
    "        \"Objective\": 300,\n",
    "        \"Epsilon\": 0.06\n",
    "    },\n",
    "    \"BIM\": {\n",
    "        \"Objective\": 300,\n",
    "        \"Iterations\": 120,\n",
    "        \"Epsilon\": 0.001\n",
    "    },\n",
    "    \"CW\": {\n",
    "        \"Objective\": 0,\n",
    "        \"Iterations\": 1000,\n",
    "        \"LearningRate\": 0.01,\n",
    "        \"c\": 0.02,\n",
    "    }\n",
    "}\n",
    "\n",
    "print(\"RNN\")\n",
    "RNNAdversarialDataFgsm, RNNAdversarialDataBim, RNNAdversarialDataCW = AttacksTool.TestAttacks(MyRNNModel, X, y, AttacksParameters, Device = Device)\n",
    "print()\n",
    "\n",
    "AttacksParameters = {\n",
    "    \"FGSM\": {\n",
    "        \"Objective\": 300,\n",
    "        \"Epsilon\": 0.012\n",
    "    },\n",
    "    \"BIM\": {\n",
    "        \"Objective\": 300,\n",
    "        \"Iterations\": 120,\n",
    "        \"Epsilon\": 0.0001\n",
    "    },\n",
    "    \"CW\": {\n",
    "        \"Objective\": 0,\n",
    "        \"Iterations\": 1000,\n",
    "        \"LearningRate\": 0.01,\n",
    "        \"c\": 0.0000002,\n",
    "    }\n",
    "}\n",
    "\n",
    "print(\"GRU\")\n",
    "GRUAdversarialDataFgsm, GRUAdversarialDataBim, GRUAdversarialDataCW = AttacksTool.TestAttacks(MyGRUModel, X, y, AttacksParameters, Device = Device)\n",
    "print()\n",
    "\n",
    "AttacksParameters = {\n",
    "    \"FGSM\": {\n",
    "        \"Objective\": 300,\n",
    "        \"Epsilon\": 0.60\n",
    "    },\n",
    "    \"BIM\": {\n",
    "        \"Objective\": 300,\n",
    "        \"Iterations\": 100,\n",
    "        \"Epsilon\": 0.001\n",
    "    },\n",
    "    \"CW\": {\n",
    "        \"Objective\": 0,\n",
    "        \"Iterations\": 1000,\n",
    "        \"LearningRate\": 0.01,\n",
    "        \"c\": 0.0004,\n",
    "    }\n",
    "}\n",
    "\n",
    "print(\"LSTM\")\n",
    "LSTMAdversarialDataFgsm, LSTMAdversarialDataBim, LSTMAdversarialDataCW = AttacksTool.TestAttacks(MyLSTMModel, X, y, AttacksParameters, Device = Device)"
   ]
  },
  {
   "cell_type": "code",
   "execution_count": 26,
   "id": "12c0e62b",
   "metadata": {},
   "outputs": [
    {
     "name": "stdout",
     "output_type": "stream",
     "text": [
      "Defense adversarial training\n",
      "TRAINING: Model\n"
     ]
    },
    {
     "name": "stderr",
     "output_type": "stream",
     "text": [
      "  2%|▏         | 1/50 [00:21<17:28, 21.40s/it]"
     ]
    },
    {
     "name": "stdout",
     "output_type": "stream",
     "text": [
      "Epoch:1, Train loss:6892.523225695882, Validation loss:3894.235107421875\n"
     ]
    },
    {
     "name": "stderr",
     "output_type": "stream",
     "text": [
      "  4%|▍         | 2/50 [00:42<17:06, 21.38s/it]"
     ]
    },
    {
     "name": "stdout",
     "output_type": "stream",
     "text": [
      "Epoch:2, Train loss:3925.260224803394, Validation loss:1668.9677734375\n"
     ]
    },
    {
     "name": "stderr",
     "output_type": "stream",
     "text": [
      "  6%|▌         | 3/50 [01:03<16:39, 21.26s/it]"
     ]
    },
    {
     "name": "stdout",
     "output_type": "stream",
     "text": [
      "Epoch:3, Train loss:2569.9395024381724, Validation loss:1772.652587890625\n"
     ]
    },
    {
     "name": "stderr",
     "output_type": "stream",
     "text": [
      "  8%|▊         | 4/50 [01:24<16:12, 21.14s/it]"
     ]
    },
    {
     "name": "stdout",
     "output_type": "stream",
     "text": [
      "Epoch:4, Train loss:2502.8296949373967, Validation loss:1508.1646728515625\n"
     ]
    },
    {
     "name": "stderr",
     "output_type": "stream",
     "text": [
      " 10%|█         | 5/50 [01:46<15:56, 21.25s/it]"
     ]
    },
    {
     "name": "stdout",
     "output_type": "stream",
     "text": [
      "Epoch:5, Train loss:1853.5977783203125, Validation loss:870.9088134765625\n"
     ]
    },
    {
     "name": "stderr",
     "output_type": "stream",
     "text": [
      " 12%|█▏        | 6/50 [02:07<15:34, 21.23s/it]"
     ]
    },
    {
     "name": "stdout",
     "output_type": "stream",
     "text": [
      "Epoch:6, Train loss:1249.8096679283294, Validation loss:664.9954223632812\n"
     ]
    },
    {
     "name": "stderr",
     "output_type": "stream",
     "text": [
      " 14%|█▍        | 7/50 [02:29<15:17, 21.33s/it]"
     ]
    },
    {
     "name": "stdout",
     "output_type": "stream",
     "text": [
      "Epoch:7, Train loss:1161.7850309460368, Validation loss:691.4446411132812\n"
     ]
    },
    {
     "name": "stderr",
     "output_type": "stream",
     "text": [
      " 16%|█▌        | 8/50 [02:50<14:51, 21.23s/it]"
     ]
    },
    {
     "name": "stdout",
     "output_type": "stream",
     "text": [
      "Epoch:8, Train loss:1138.0408814284974, Validation loss:657.974609375\n"
     ]
    },
    {
     "name": "stderr",
     "output_type": "stream",
     "text": [
      " 18%|█▊        | 9/50 [03:11<14:28, 21.18s/it]"
     ]
    },
    {
     "name": "stdout",
     "output_type": "stream",
     "text": [
      "Epoch:9, Train loss:1094.7130616042787, Validation loss:643.7366333007812\n"
     ]
    },
    {
     "name": "stderr",
     "output_type": "stream",
     "text": [
      " 20%|██        | 10/50 [03:32<14:12, 21.30s/it]"
     ]
    },
    {
     "name": "stdout",
     "output_type": "stream",
     "text": [
      "Epoch:10, Train loss:1074.9295824063536, Validation loss:586.0359497070312\n"
     ]
    },
    {
     "name": "stderr",
     "output_type": "stream",
     "text": [
      " 22%|██▏       | 11/50 [03:54<13:53, 21.37s/it]"
     ]
    },
    {
     "name": "stdout",
     "output_type": "stream",
     "text": [
      "Epoch:11, Train loss:1060.4977024912046, Validation loss:615.7676391601562\n"
     ]
    },
    {
     "name": "stderr",
     "output_type": "stream",
     "text": [
      " 24%|██▍       | 12/50 [04:15<13:34, 21.44s/it]"
     ]
    },
    {
     "name": "stdout",
     "output_type": "stream",
     "text": [
      "Epoch:12, Train loss:1058.9487361276388, Validation loss:603.5460205078125\n"
     ]
    },
    {
     "name": "stderr",
     "output_type": "stream",
     "text": [
      " 26%|██▌       | 13/50 [04:37<13:14, 21.48s/it]"
     ]
    },
    {
     "name": "stdout",
     "output_type": "stream",
     "text": [
      "Epoch:13, Train loss:1053.7418065355314, Validation loss:574.2184448242188\n"
     ]
    },
    {
     "name": "stderr",
     "output_type": "stream",
     "text": [
      " 28%|██▊       | 14/50 [04:58<12:54, 21.50s/it]"
     ]
    },
    {
     "name": "stdout",
     "output_type": "stream",
     "text": [
      "Epoch:14, Train loss:1067.5655004236082, Validation loss:610.3475952148438\n"
     ]
    },
    {
     "name": "stderr",
     "output_type": "stream",
     "text": [
      " 30%|███       | 15/50 [05:20<12:33, 21.53s/it]"
     ]
    },
    {
     "name": "stdout",
     "output_type": "stream",
     "text": [
      "Epoch:15, Train loss:1049.8692691626138, Validation loss:574.875\n"
     ]
    },
    {
     "name": "stderr",
     "output_type": "stream",
     "text": [
      " 32%|███▏      | 16/50 [05:42<12:12, 21.54s/it]"
     ]
    },
    {
     "name": "stdout",
     "output_type": "stream",
     "text": [
      "Epoch:16, Train loss:1040.524893855417, Validation loss:557.7630615234375\n"
     ]
    },
    {
     "name": "stderr",
     "output_type": "stream",
     "text": [
      " 34%|███▍      | 17/50 [06:03<11:51, 21.57s/it]"
     ]
    },
    {
     "name": "stdout",
     "output_type": "stream",
     "text": [
      "Epoch:17, Train loss:1047.8571930942157, Validation loss:561.1847534179688\n"
     ]
    },
    {
     "name": "stderr",
     "output_type": "stream",
     "text": [
      " 36%|███▌      | 18/50 [06:24<11:24, 21.41s/it]"
     ]
    },
    {
     "name": "stdout",
     "output_type": "stream",
     "text": [
      "Epoch:18, Train loss:1036.49787326838, Validation loss:569.3086547851562\n"
     ]
    },
    {
     "name": "stderr",
     "output_type": "stream",
     "text": [
      " 38%|███▊      | 19/50 [06:46<11:03, 21.41s/it]"
     ]
    },
    {
     "name": "stdout",
     "output_type": "stream",
     "text": [
      "Epoch:19, Train loss:1029.7194244182663, Validation loss:625.9389038085938\n"
     ]
    },
    {
     "name": "stderr",
     "output_type": "stream",
     "text": [
      " 40%|████      | 20/50 [07:07<10:43, 21.43s/it]"
     ]
    },
    {
     "name": "stdout",
     "output_type": "stream",
     "text": [
      "Epoch:20, Train loss:1025.746264931382, Validation loss:592.8929443359375\n"
     ]
    },
    {
     "name": "stderr",
     "output_type": "stream",
     "text": [
      " 42%|████▏     | 21/50 [07:28<10:20, 21.39s/it]"
     ]
    },
    {
     "name": "stdout",
     "output_type": "stream",
     "text": [
      "Epoch:21, Train loss:1018.4074569601097, Validation loss:549.51171875\n"
     ]
    },
    {
     "name": "stderr",
     "output_type": "stream",
     "text": [
      " 44%|████▍     | 22/50 [07:49<09:49, 21.06s/it]"
     ]
    },
    {
     "name": "stdout",
     "output_type": "stream",
     "text": [
      "Epoch:22, Train loss:1007.9719133187604, Validation loss:538.5759887695312\n"
     ]
    },
    {
     "name": "stderr",
     "output_type": "stream",
     "text": [
      " 46%|████▌     | 23/50 [08:09<09:22, 20.82s/it]"
     ]
    },
    {
     "name": "stdout",
     "output_type": "stream",
     "text": [
      "Epoch:23, Train loss:983.5751272037329, Validation loss:532.3295288085938\n"
     ]
    },
    {
     "name": "stderr",
     "output_type": "stream",
     "text": [
      " 48%|████▊     | 24/50 [08:30<08:59, 20.76s/it]"
     ]
    },
    {
     "name": "stdout",
     "output_type": "stream",
     "text": [
      "Epoch:24, Train loss:964.9160758517436, Validation loss:543.298828125\n"
     ]
    },
    {
     "name": "stderr",
     "output_type": "stream",
     "text": [
      " 50%|█████     | 25/50 [08:50<08:39, 20.80s/it]"
     ]
    },
    {
     "name": "stdout",
     "output_type": "stream",
     "text": [
      "Epoch:25, Train loss:956.6147220434732, Validation loss:553.3135986328125\n"
     ]
    },
    {
     "name": "stderr",
     "output_type": "stream",
     "text": [
      " 52%|█████▏    | 26/50 [09:11<08:19, 20.81s/it]"
     ]
    },
    {
     "name": "stdout",
     "output_type": "stream",
     "text": [
      "Epoch:26, Train loss:945.2116719429067, Validation loss:587.2235717773438\n"
     ]
    },
    {
     "name": "stderr",
     "output_type": "stream",
     "text": [
      " 54%|█████▍    | 27/50 [09:32<07:59, 20.84s/it]"
     ]
    },
    {
     "name": "stdout",
     "output_type": "stream",
     "text": [
      "Epoch:27, Train loss:940.296120750983, Validation loss:532.3464965820312\n"
     ]
    },
    {
     "name": "stderr",
     "output_type": "stream",
     "text": [
      " 56%|█████▌    | 28/50 [09:53<07:38, 20.82s/it]"
     ]
    },
    {
     "name": "stdout",
     "output_type": "stream",
     "text": [
      "Epoch:28, Train loss:932.0257628990325, Validation loss:531.99560546875\n"
     ]
    },
    {
     "name": "stderr",
     "output_type": "stream",
     "text": [
      " 58%|█████▊    | 29/50 [10:14<07:17, 20.85s/it]"
     ]
    },
    {
     "name": "stdout",
     "output_type": "stream",
     "text": [
      "Epoch:29, Train loss:924.3940065901801, Validation loss:565.13134765625\n"
     ]
    },
    {
     "name": "stderr",
     "output_type": "stream",
     "text": [
      " 60%|██████    | 30/50 [10:35<06:56, 20.85s/it]"
     ]
    },
    {
     "name": "stdout",
     "output_type": "stream",
     "text": [
      "Epoch:30, Train loss:924.3496793026956, Validation loss:558.583251953125\n"
     ]
    },
    {
     "name": "stderr",
     "output_type": "stream",
     "text": [
      " 62%|██████▏   | 31/50 [10:55<06:33, 20.72s/it]"
     ]
    },
    {
     "name": "stdout",
     "output_type": "stream",
     "text": [
      "Epoch:31, Train loss:922.110034664735, Validation loss:582.624755859375\n"
     ]
    },
    {
     "name": "stderr",
     "output_type": "stream",
     "text": [
      " 64%|██████▍   | 32/50 [11:16<06:13, 20.74s/it]"
     ]
    },
    {
     "name": "stdout",
     "output_type": "stream",
     "text": [
      "Epoch:32, Train loss:915.2338838893056, Validation loss:526.9004516601562\n"
     ]
    },
    {
     "name": "stderr",
     "output_type": "stream",
     "text": [
      " 66%|██████▌   | 33/50 [11:37<05:52, 20.76s/it]"
     ]
    },
    {
     "name": "stdout",
     "output_type": "stream",
     "text": [
      "Epoch:33, Train loss:913.2069849683749, Validation loss:515.5003662109375\n"
     ]
    },
    {
     "name": "stderr",
     "output_type": "stream",
     "text": [
      " 68%|██████▊   | 34/50 [11:57<05:31, 20.69s/it]"
     ]
    },
    {
     "name": "stdout",
     "output_type": "stream",
     "text": [
      "Epoch:34, Train loss:913.1177515699374, Validation loss:551.6716918945312\n"
     ]
    },
    {
     "name": "stderr",
     "output_type": "stream",
     "text": [
      " 70%|███████   | 35/50 [12:18<05:12, 20.83s/it]"
     ]
    },
    {
     "name": "stdout",
     "output_type": "stream",
     "text": [
      "Epoch:35, Train loss:904.0704836813819, Validation loss:562.9683227539062\n"
     ]
    },
    {
     "name": "stderr",
     "output_type": "stream",
     "text": [
      " 72%|███████▏  | 36/50 [12:40<04:52, 20.89s/it]"
     ]
    },
    {
     "name": "stdout",
     "output_type": "stream",
     "text": [
      "Epoch:36, Train loss:891.0970717676428, Validation loss:515.2696533203125\n"
     ]
    },
    {
     "name": "stderr",
     "output_type": "stream",
     "text": [
      " 74%|███████▍  | 37/50 [13:01<04:31, 20.92s/it]"
     ]
    },
    {
     "name": "stdout",
     "output_type": "stream",
     "text": [
      "Epoch:37, Train loss:1006.3470628751035, Validation loss:596.0761108398438\n"
     ]
    },
    {
     "name": "stderr",
     "output_type": "stream",
     "text": [
      " 76%|███████▌  | 38/50 [13:21<04:11, 20.92s/it]"
     ]
    },
    {
     "name": "stdout",
     "output_type": "stream",
     "text": [
      "Epoch:38, Train loss:999.172725248021, Validation loss:589.59228515625\n"
     ]
    },
    {
     "name": "stderr",
     "output_type": "stream",
     "text": [
      " 78%|███████▊  | 39/50 [13:42<03:50, 20.92s/it]"
     ]
    },
    {
     "name": "stdout",
     "output_type": "stream",
     "text": [
      "Epoch:39, Train loss:897.2849816328643, Validation loss:529.9708862304688\n"
     ]
    },
    {
     "name": "stderr",
     "output_type": "stream",
     "text": [
      " 80%|████████  | 40/50 [14:04<03:30, 21.05s/it]"
     ]
    },
    {
     "name": "stdout",
     "output_type": "stream",
     "text": [
      "Epoch:40, Train loss:891.1276338084645, Validation loss:574.1723022460938\n"
     ]
    },
    {
     "name": "stderr",
     "output_type": "stream",
     "text": [
      " 82%|████████▏ | 41/50 [14:24<03:08, 20.94s/it]"
     ]
    },
    {
     "name": "stdout",
     "output_type": "stream",
     "text": [
      "Epoch:41, Train loss:888.5185342750802, Validation loss:551.0382080078125\n"
     ]
    },
    {
     "name": "stderr",
     "output_type": "stream",
     "text": [
      " 84%|████████▍ | 42/50 [14:45<02:46, 20.87s/it]"
     ]
    },
    {
     "name": "stdout",
     "output_type": "stream",
     "text": [
      "Epoch:42, Train loss:881.0677726695079, Validation loss:553.4390258789062\n"
     ]
    },
    {
     "name": "stderr",
     "output_type": "stream",
     "text": [
      " 86%|████████▌ | 43/50 [15:06<02:26, 20.88s/it]"
     ]
    },
    {
     "name": "stdout",
     "output_type": "stream",
     "text": [
      "Epoch:43, Train loss:870.2607991805929, Validation loss:527.8399047851562\n"
     ]
    },
    {
     "name": "stderr",
     "output_type": "stream",
     "text": [
      " 88%|████████▊ | 44/50 [15:27<02:05, 20.93s/it]"
     ]
    },
    {
     "name": "stdout",
     "output_type": "stream",
     "text": [
      "Epoch:44, Train loss:873.7318929710135, Validation loss:549.0723266601562\n"
     ]
    },
    {
     "name": "stderr",
     "output_type": "stream",
     "text": [
      " 90%|█████████ | 45/50 [15:48<01:44, 20.94s/it]"
     ]
    },
    {
     "name": "stdout",
     "output_type": "stream",
     "text": [
      "Epoch:45, Train loss:901.4223735885115, Validation loss:544.2601928710938\n"
     ]
    },
    {
     "name": "stderr",
     "output_type": "stream",
     "text": [
      " 92%|█████████▏| 46/50 [16:09<01:23, 20.93s/it]"
     ]
    },
    {
     "name": "stdout",
     "output_type": "stream",
     "text": [
      "Epoch:46, Train loss:869.6723972345819, Validation loss:544.7483520507812\n"
     ]
    },
    {
     "name": "stderr",
     "output_type": "stream",
     "text": [
      " 94%|█████████▍| 47/50 [16:30<01:02, 20.93s/it]"
     ]
    },
    {
     "name": "stdout",
     "output_type": "stream",
     "text": [
      "Epoch:47, Train loss:871.0050788525714, Validation loss:538.7097778320312\n"
     ]
    },
    {
     "name": "stderr",
     "output_type": "stream",
     "text": [
      " 96%|█████████▌| 48/50 [16:51<00:41, 20.92s/it]"
     ]
    },
    {
     "name": "stdout",
     "output_type": "stream",
     "text": [
      "Epoch:48, Train loss:868.1290638904698, Validation loss:522.52978515625\n"
     ]
    },
    {
     "name": "stderr",
     "output_type": "stream",
     "text": [
      " 98%|█████████▊| 49/50 [17:12<00:20, 20.92s/it]"
     ]
    },
    {
     "name": "stdout",
     "output_type": "stream",
     "text": [
      "Epoch:49, Train loss:889.1695977015211, Validation loss:516.2553100585938\n"
     ]
    },
    {
     "name": "stderr",
     "output_type": "stream",
     "text": [
      "100%|██████████| 50/50 [17:33<00:00, 21.06s/it]"
     ]
    },
    {
     "name": "stdout",
     "output_type": "stream",
     "text": [
      "Epoch:50, Train loss:858.0057079997284, Validation loss:513.0545043945312\n",
      "MSE:534.27, L1:18.45, RMSE:23.11\n"
     ]
    },
    {
     "name": "stderr",
     "output_type": "stream",
     "text": [
      "\n"
     ]
    }
   ],
   "source": [
    "AttackParameters = {\n",
    "        \"Epsilon\": 0.02\n",
    "    }\n",
    "\n",
    "CurrentModel = GRUModel(n_features, 12).to(Device)\n",
    "#Model_AdvTrainingFgsm = DefenseTool.AdversarialTraining(CurrentModel, TrainLoader, ValidationLoader, TestLoader, AdversarialMethod = \"Fgsm\", AttackParameters = AttackParameters,  Epochs = 80, Device=\"cuda\", Verbose=1)\n",
    "\n",
    "AttackParameters = {\n",
    "        \"Iterations\": 30,\n",
    "        \"Epsilon\": 0.003\n",
    "    }\n",
    "CurrentModel = GRUModel(n_features, 12).to(Device)\n",
    "#Model_AdvTrainingBim = DefenseTool.AdversarialTraining(CurrentModel, TrainLoader, ValidationLoader, TestLoader, AdversarialMethod = \"Bim\", AttackParameters = AttackParameters,  Epochs = 100, LearningRate= 0.01, Device=\"cuda\", Verbose=1)\n",
    "\n",
    "AttackParameters = {\n",
    "        \"Iterations\": 50,\n",
    "        \"LearningRate\": 0.01,\n",
    "        \"c\": 0.0000002,\n",
    "    }\n",
    "\n",
    "CurrentModel = GRUModel(n_features, 12).to(Device)\n",
    "Model_AdvTrainingCw = DefenseTool.AdversarialTraining(CurrentModel, TrainLoader, ValidationLoader, TestLoader, AdversarialMethod = \"CW\", AttackParameters = AttackParameters, LearningRate= 0.01,  Epochs = 50 , Device=\"cuda\", Verbose=1)"
   ]
  },
  {
   "cell_type": "code",
   "execution_count": 27,
   "id": "d3d7791c",
   "metadata": {},
   "outputs": [
    {
     "name": "stdout",
     "output_type": "stream",
     "text": [
      "Defense ensemble squeezing\n"
     ]
    },
    {
     "name": "stderr",
     "output_type": "stream",
     "text": [
      "  0%|          | 0/30 [00:02<?, ?it/s]\n"
     ]
    },
    {
     "ename": "KeyboardInterrupt",
     "evalue": "",
     "output_type": "error",
     "traceback": [
      "\u001b[0;31m---------------------------------------------------------------------------\u001b[0m",
      "\u001b[0;31mKeyboardInterrupt\u001b[0m                         Traceback (most recent call last)",
      "Cell \u001b[0;32mIn[27], line 2\u001b[0m\n\u001b[1;32m      1\u001b[0m CurrentModel \u001b[38;5;241m=\u001b[39m GRUModel(n_features, \u001b[38;5;241m12\u001b[39m)\u001b[38;5;241m.\u001b[39mto(Device)\n\u001b[0;32m----> 2\u001b[0m Model_EnsembleInputSqueezing \u001b[38;5;241m=\u001b[39m \u001b[43mDefenseTool\u001b[49m\u001b[38;5;241;43m.\u001b[39;49m\u001b[43mEnsembleInputSqueezing\u001b[49m\u001b[43m(\u001b[49m\u001b[43mCurrentModel\u001b[49m\u001b[43m,\u001b[49m\u001b[43m \u001b[49m\u001b[43mTrainLoader\u001b[49m\u001b[43m,\u001b[49m\u001b[43m \u001b[49m\u001b[43mValidationLoader\u001b[49m\u001b[43m,\u001b[49m\u001b[43m \u001b[49m\u001b[43mTestLoader\u001b[49m\u001b[43m,\u001b[49m\u001b[43m \u001b[49m\u001b[43mEpochs\u001b[49m\u001b[43m \u001b[49m\u001b[38;5;241;43m=\u001b[39;49m\u001b[43m \u001b[49m\u001b[38;5;241;43m30\u001b[39;49m\u001b[43m,\u001b[49m\u001b[43m \u001b[49m\u001b[43mDevice\u001b[49m\u001b[38;5;241;43m=\u001b[39;49m\u001b[38;5;124;43m\"\u001b[39;49m\u001b[38;5;124;43mcuda\u001b[39;49m\u001b[38;5;124;43m\"\u001b[39;49m\u001b[43m,\u001b[49m\u001b[43m \u001b[49m\u001b[43mVerbose\u001b[49m\u001b[38;5;241;43m=\u001b[39;49m\u001b[38;5;241;43m1\u001b[39;49m\u001b[43m,\u001b[49m\u001b[43m \u001b[49m\u001b[43mMaxCoefficient\u001b[49m\u001b[38;5;241;43m=\u001b[39;49m\u001b[38;5;241;43m2\u001b[39;49m\u001b[43m)\u001b[49m\n\u001b[1;32m      4\u001b[0m CurrentModel \u001b[38;5;241m=\u001b[39m GRUModel(n_features, \u001b[38;5;241m12\u001b[39m)\u001b[38;5;241m.\u001b[39mto(Device)\n\u001b[1;32m      5\u001b[0m Model_InputSqueezing \u001b[38;5;241m=\u001b[39m DefenseTool\u001b[38;5;241m.\u001b[39mInputSqueezing(CurrentModel, TrainLoader, ValidationLoader, TestLoader, Epochs \u001b[38;5;241m=\u001b[39m \u001b[38;5;241m30\u001b[39m, Device\u001b[38;5;241m=\u001b[39m\u001b[38;5;124m\"\u001b[39m\u001b[38;5;124mcuda\u001b[39m\u001b[38;5;124m\"\u001b[39m, Verbose\u001b[38;5;241m=\u001b[39m\u001b[38;5;241m1\u001b[39m)\n",
      "File \u001b[0;32m~/.local/lib/python3.10/site-packages/AdversarialRulLib/Defense.py:40\u001b[0m, in \u001b[0;36mEnsembleInputSqueezing\u001b[0;34m(Model, TrainLoader, ValidationLoader, TestLoader, MaxCoefficient, Epochs, LearningRate, Device, Verbose)\u001b[0m\n\u001b[1;32m     37\u001b[0m NewModel \u001b[38;5;241m=\u001b[39m EnsembleRoundDefenseModel(NewModel, MaxCoefficient, Device)\u001b[38;5;241m.\u001b[39mto(Device)\n\u001b[1;32m     39\u001b[0m UtilsTool\u001b[38;5;241m.\u001b[39mInitModel(NewModel, Device)\n\u001b[0;32m---> 40\u001b[0m \u001b[43mClassicalTraining\u001b[49m\u001b[43m(\u001b[49m\u001b[43mNewModel\u001b[49m\u001b[43m,\u001b[49m\u001b[43m \u001b[49m\u001b[43mTrainLoader\u001b[49m\u001b[43m,\u001b[49m\u001b[43m \u001b[49m\u001b[43mValidationLoader\u001b[49m\u001b[43m,\u001b[49m\u001b[43m \u001b[49m\u001b[43mEpochs\u001b[49m\u001b[43m \u001b[49m\u001b[38;5;241;43m=\u001b[39;49m\u001b[43m \u001b[49m\u001b[43mEpochs\u001b[49m\u001b[43m,\u001b[49m\u001b[43m \u001b[49m\u001b[43mLearningRate\u001b[49m\u001b[43m \u001b[49m\u001b[38;5;241;43m=\u001b[39;49m\u001b[43m \u001b[49m\u001b[43mLearningRate\u001b[49m\u001b[43m,\u001b[49m\u001b[43m \u001b[49m\u001b[43mDevice\u001b[49m\u001b[43m \u001b[49m\u001b[38;5;241;43m=\u001b[39;49m\u001b[43m \u001b[49m\u001b[43mDevice\u001b[49m\u001b[43m,\u001b[49m\u001b[43m \u001b[49m\u001b[43mVerbose\u001b[49m\u001b[43m \u001b[49m\u001b[38;5;241;43m=\u001b[39;49m\u001b[43m \u001b[49m\u001b[43mVerbose\u001b[49m\u001b[43m)\u001b[49m  \n\u001b[1;32m     42\u001b[0m \u001b[38;5;28;01mif\u001b[39;00m Verbose \u001b[38;5;241m==\u001b[39m \u001b[38;5;241m1\u001b[39m:\n\u001b[1;32m     43\u001b[0m     Mse, L1, Rrmse, _, _ \u001b[38;5;241m=\u001b[39m UtilsTool\u001b[38;5;241m.\u001b[39mTestModel(NewModel, TestLoader, Device)\n",
      "File \u001b[0;32m~/.local/lib/python3.10/site-packages/AdversarialRulLib/Defense.py:409\u001b[0m, in \u001b[0;36mClassicalTraining\u001b[0;34m(Model, TrainLoader, ValidationLoader, Epochs, LearningRate, Device, Verbose)\u001b[0m\n\u001b[1;32m    407\u001b[0m TrainLoss \u001b[38;5;241m=\u001b[39m \u001b[38;5;241m0\u001b[39m\n\u001b[1;32m    408\u001b[0m Model\u001b[38;5;241m.\u001b[39mtrain()\n\u001b[0;32m--> 409\u001b[0m \u001b[38;5;28;01mfor\u001b[39;00m batch, (X,y) \u001b[38;5;129;01min\u001b[39;00m \u001b[38;5;28menumerate\u001b[39m(TrainLoader):\n\u001b[1;32m    410\u001b[0m     X, y \u001b[38;5;241m=\u001b[39m X\u001b[38;5;241m.\u001b[39mto(Device)\u001b[38;5;241m.\u001b[39mto(torch\u001b[38;5;241m.\u001b[39mfloat32), y\u001b[38;5;241m.\u001b[39mto(Device)\u001b[38;5;241m.\u001b[39mto(torch\u001b[38;5;241m.\u001b[39mfloat32)\n\u001b[1;32m    412\u001b[0m     y_pred \u001b[38;5;241m=\u001b[39m Model(X)\n",
      "File \u001b[0;32m~/.local/lib/python3.10/site-packages/torch/utils/data/dataloader.py:631\u001b[0m, in \u001b[0;36m_BaseDataLoaderIter.__next__\u001b[0;34m(self)\u001b[0m\n\u001b[1;32m    628\u001b[0m \u001b[38;5;28;01mif\u001b[39;00m \u001b[38;5;28mself\u001b[39m\u001b[38;5;241m.\u001b[39m_sampler_iter \u001b[38;5;129;01mis\u001b[39;00m \u001b[38;5;28;01mNone\u001b[39;00m:\n\u001b[1;32m    629\u001b[0m     \u001b[38;5;66;03m# TODO(https://github.com/pytorch/pytorch/issues/76750)\u001b[39;00m\n\u001b[1;32m    630\u001b[0m     \u001b[38;5;28mself\u001b[39m\u001b[38;5;241m.\u001b[39m_reset()  \u001b[38;5;66;03m# type: ignore[call-arg]\u001b[39;00m\n\u001b[0;32m--> 631\u001b[0m data \u001b[38;5;241m=\u001b[39m \u001b[38;5;28;43mself\u001b[39;49m\u001b[38;5;241;43m.\u001b[39;49m\u001b[43m_next_data\u001b[49m\u001b[43m(\u001b[49m\u001b[43m)\u001b[49m\n\u001b[1;32m    632\u001b[0m \u001b[38;5;28mself\u001b[39m\u001b[38;5;241m.\u001b[39m_num_yielded \u001b[38;5;241m+\u001b[39m\u001b[38;5;241m=\u001b[39m \u001b[38;5;241m1\u001b[39m\n\u001b[1;32m    633\u001b[0m \u001b[38;5;28;01mif\u001b[39;00m \u001b[38;5;28mself\u001b[39m\u001b[38;5;241m.\u001b[39m_dataset_kind \u001b[38;5;241m==\u001b[39m _DatasetKind\u001b[38;5;241m.\u001b[39mIterable \u001b[38;5;129;01mand\u001b[39;00m \\\n\u001b[1;32m    634\u001b[0m         \u001b[38;5;28mself\u001b[39m\u001b[38;5;241m.\u001b[39m_IterableDataset_len_called \u001b[38;5;129;01mis\u001b[39;00m \u001b[38;5;129;01mnot\u001b[39;00m \u001b[38;5;28;01mNone\u001b[39;00m \u001b[38;5;129;01mand\u001b[39;00m \\\n\u001b[1;32m    635\u001b[0m         \u001b[38;5;28mself\u001b[39m\u001b[38;5;241m.\u001b[39m_num_yielded \u001b[38;5;241m>\u001b[39m \u001b[38;5;28mself\u001b[39m\u001b[38;5;241m.\u001b[39m_IterableDataset_len_called:\n",
      "File \u001b[0;32m~/.local/lib/python3.10/site-packages/torch/utils/data/dataloader.py:675\u001b[0m, in \u001b[0;36m_SingleProcessDataLoaderIter._next_data\u001b[0;34m(self)\u001b[0m\n\u001b[1;32m    673\u001b[0m \u001b[38;5;28;01mdef\u001b[39;00m \u001b[38;5;21m_next_data\u001b[39m(\u001b[38;5;28mself\u001b[39m):\n\u001b[1;32m    674\u001b[0m     index \u001b[38;5;241m=\u001b[39m \u001b[38;5;28mself\u001b[39m\u001b[38;5;241m.\u001b[39m_next_index()  \u001b[38;5;66;03m# may raise StopIteration\u001b[39;00m\n\u001b[0;32m--> 675\u001b[0m     data \u001b[38;5;241m=\u001b[39m \u001b[38;5;28;43mself\u001b[39;49m\u001b[38;5;241;43m.\u001b[39;49m\u001b[43m_dataset_fetcher\u001b[49m\u001b[38;5;241;43m.\u001b[39;49m\u001b[43mfetch\u001b[49m\u001b[43m(\u001b[49m\u001b[43mindex\u001b[49m\u001b[43m)\u001b[49m  \u001b[38;5;66;03m# may raise StopIteration\u001b[39;00m\n\u001b[1;32m    676\u001b[0m     \u001b[38;5;28;01mif\u001b[39;00m \u001b[38;5;28mself\u001b[39m\u001b[38;5;241m.\u001b[39m_pin_memory:\n\u001b[1;32m    677\u001b[0m         data \u001b[38;5;241m=\u001b[39m _utils\u001b[38;5;241m.\u001b[39mpin_memory\u001b[38;5;241m.\u001b[39mpin_memory(data, \u001b[38;5;28mself\u001b[39m\u001b[38;5;241m.\u001b[39m_pin_memory_device)\n",
      "File \u001b[0;32m~/.local/lib/python3.10/site-packages/torch/utils/data/_utils/fetch.py:51\u001b[0m, in \u001b[0;36m_MapDatasetFetcher.fetch\u001b[0;34m(self, possibly_batched_index)\u001b[0m\n\u001b[1;32m     49\u001b[0m         data \u001b[38;5;241m=\u001b[39m \u001b[38;5;28mself\u001b[39m\u001b[38;5;241m.\u001b[39mdataset\u001b[38;5;241m.\u001b[39m__getitems__(possibly_batched_index)\n\u001b[1;32m     50\u001b[0m     \u001b[38;5;28;01melse\u001b[39;00m:\n\u001b[0;32m---> 51\u001b[0m         data \u001b[38;5;241m=\u001b[39m [\u001b[38;5;28mself\u001b[39m\u001b[38;5;241m.\u001b[39mdataset[idx] \u001b[38;5;28;01mfor\u001b[39;00m idx \u001b[38;5;129;01min\u001b[39;00m possibly_batched_index]\n\u001b[1;32m     52\u001b[0m \u001b[38;5;28;01melse\u001b[39;00m:\n\u001b[1;32m     53\u001b[0m     data \u001b[38;5;241m=\u001b[39m \u001b[38;5;28mself\u001b[39m\u001b[38;5;241m.\u001b[39mdataset[possibly_batched_index]\n",
      "File \u001b[0;32m~/.local/lib/python3.10/site-packages/torch/utils/data/_utils/fetch.py:51\u001b[0m, in \u001b[0;36m<listcomp>\u001b[0;34m(.0)\u001b[0m\n\u001b[1;32m     49\u001b[0m         data \u001b[38;5;241m=\u001b[39m \u001b[38;5;28mself\u001b[39m\u001b[38;5;241m.\u001b[39mdataset\u001b[38;5;241m.\u001b[39m__getitems__(possibly_batched_index)\n\u001b[1;32m     50\u001b[0m     \u001b[38;5;28;01melse\u001b[39;00m:\n\u001b[0;32m---> 51\u001b[0m         data \u001b[38;5;241m=\u001b[39m [\u001b[38;5;28;43mself\u001b[39;49m\u001b[38;5;241;43m.\u001b[39;49m\u001b[43mdataset\u001b[49m\u001b[43m[\u001b[49m\u001b[43midx\u001b[49m\u001b[43m]\u001b[49m \u001b[38;5;28;01mfor\u001b[39;00m idx \u001b[38;5;129;01min\u001b[39;00m possibly_batched_index]\n\u001b[1;32m     52\u001b[0m \u001b[38;5;28;01melse\u001b[39;00m:\n\u001b[1;32m     53\u001b[0m     data \u001b[38;5;241m=\u001b[39m \u001b[38;5;28mself\u001b[39m\u001b[38;5;241m.\u001b[39mdataset[possibly_batched_index]\n",
      "File \u001b[0;32m~/Sources/Data.py:19\u001b[0m, in \u001b[0;36mdata.__getitem__\u001b[0;34m(self, idx)\u001b[0m\n\u001b[1;32m     16\u001b[0m \u001b[38;5;28;01mdef\u001b[39;00m \u001b[38;5;21m__getitem__\u001b[39m(\u001b[38;5;28mself\u001b[39m, idx):\n\u001b[1;32m     18\u001b[0m     ind \u001b[38;5;241m=\u001b[39m \u001b[38;5;28mself\u001b[39m\u001b[38;5;241m.\u001b[39mindices[idx]\n\u001b[0;32m---> 19\u001b[0m     X_ \u001b[38;5;241m=\u001b[39m \u001b[38;5;28;43mself\u001b[39;49m\u001b[38;5;241;43m.\u001b[39;49m\u001b[43mdf\u001b[49m\u001b[38;5;241;43m.\u001b[39;49m\u001b[43miloc\u001b[49m\u001b[43m[\u001b[49m\u001b[43mind\u001b[49m\u001b[43m \u001b[49m\u001b[43m:\u001b[49m\u001b[43m \u001b[49m\u001b[43mind\u001b[49m\u001b[43m \u001b[49m\u001b[38;5;241;43m+\u001b[39;49m\u001b[43m \u001b[49m\u001b[38;5;28;43mself\u001b[39;49m\u001b[38;5;241;43m.\u001b[39;49m\u001b[43mwindow\u001b[49m\u001b[43m,\u001b[49m\u001b[43m \u001b[49m\u001b[43m:\u001b[49m\u001b[43m]\u001b[49m\u001b[38;5;241;43m.\u001b[39;49m\u001b[43mdrop\u001b[49m\u001b[43m(\u001b[49m\u001b[43m[\u001b[49m\u001b[38;5;124;43m'\u001b[39;49m\u001b[38;5;124;43mtime\u001b[39;49m\u001b[38;5;124;43m'\u001b[39;49m\u001b[43m,\u001b[49m\u001b[38;5;124;43m'\u001b[39;49m\u001b[38;5;124;43munit\u001b[39;49m\u001b[38;5;124;43m'\u001b[39;49m\u001b[43m,\u001b[49m\u001b[38;5;124;43m'\u001b[39;49m\u001b[38;5;124;43mrul\u001b[39;49m\u001b[38;5;124;43m'\u001b[39;49m\u001b[43m]\u001b[49m\u001b[43m,\u001b[49m\u001b[43m \u001b[49m\u001b[43maxis\u001b[49m\u001b[43m \u001b[49m\u001b[38;5;241;43m=\u001b[39;49m\u001b[43m \u001b[49m\u001b[38;5;241;43m1\u001b[39;49m\u001b[43m)\u001b[49m\u001b[38;5;241m.\u001b[39mcopy()\u001b[38;5;241m.\u001b[39mto_numpy()\n\u001b[1;32m     20\u001b[0m     y_ \u001b[38;5;241m=\u001b[39m \u001b[38;5;28mself\u001b[39m\u001b[38;5;241m.\u001b[39mdf\u001b[38;5;241m.\u001b[39miloc[ind \u001b[38;5;241m+\u001b[39m \u001b[38;5;28mself\u001b[39m\u001b[38;5;241m.\u001b[39mwindow \u001b[38;5;241m-\u001b[39m \u001b[38;5;241m1\u001b[39m][\u001b[38;5;124m'\u001b[39m\u001b[38;5;124mrul\u001b[39m\u001b[38;5;124m'\u001b[39m]\n\u001b[1;32m     22\u001b[0m     \u001b[38;5;28;01mreturn\u001b[39;00m X_, y_\n",
      "File \u001b[0;32m~/.local/lib/python3.10/site-packages/pandas/core/frame.py:5347\u001b[0m, in \u001b[0;36mDataFrame.drop\u001b[0;34m(self, labels, axis, index, columns, level, inplace, errors)\u001b[0m\n\u001b[1;32m   5199\u001b[0m \u001b[38;5;28;01mdef\u001b[39;00m \u001b[38;5;21mdrop\u001b[39m(\n\u001b[1;32m   5200\u001b[0m     \u001b[38;5;28mself\u001b[39m,\n\u001b[1;32m   5201\u001b[0m     labels: IndexLabel \u001b[38;5;241m|\u001b[39m \u001b[38;5;28;01mNone\u001b[39;00m \u001b[38;5;241m=\u001b[39m \u001b[38;5;28;01mNone\u001b[39;00m,\n\u001b[0;32m   (...)\u001b[0m\n\u001b[1;32m   5208\u001b[0m     errors: IgnoreRaise \u001b[38;5;241m=\u001b[39m \u001b[38;5;124m\"\u001b[39m\u001b[38;5;124mraise\u001b[39m\u001b[38;5;124m\"\u001b[39m,\n\u001b[1;32m   5209\u001b[0m ) \u001b[38;5;241m-\u001b[39m\u001b[38;5;241m>\u001b[39m DataFrame \u001b[38;5;241m|\u001b[39m \u001b[38;5;28;01mNone\u001b[39;00m:\n\u001b[1;32m   5210\u001b[0m \u001b[38;5;250m    \u001b[39m\u001b[38;5;124;03m\"\"\"\u001b[39;00m\n\u001b[1;32m   5211\u001b[0m \u001b[38;5;124;03m    Drop specified labels from rows or columns.\u001b[39;00m\n\u001b[1;32m   5212\u001b[0m \n\u001b[0;32m   (...)\u001b[0m\n\u001b[1;32m   5345\u001b[0m \u001b[38;5;124;03m            weight  1.0     0.8\u001b[39;00m\n\u001b[1;32m   5346\u001b[0m \u001b[38;5;124;03m    \"\"\"\u001b[39;00m\n\u001b[0;32m-> 5347\u001b[0m     \u001b[38;5;28;01mreturn\u001b[39;00m \u001b[38;5;28;43msuper\u001b[39;49m\u001b[43m(\u001b[49m\u001b[43m)\u001b[49m\u001b[38;5;241;43m.\u001b[39;49m\u001b[43mdrop\u001b[49m\u001b[43m(\u001b[49m\n\u001b[1;32m   5348\u001b[0m \u001b[43m        \u001b[49m\u001b[43mlabels\u001b[49m\u001b[38;5;241;43m=\u001b[39;49m\u001b[43mlabels\u001b[49m\u001b[43m,\u001b[49m\n\u001b[1;32m   5349\u001b[0m \u001b[43m        \u001b[49m\u001b[43maxis\u001b[49m\u001b[38;5;241;43m=\u001b[39;49m\u001b[43maxis\u001b[49m\u001b[43m,\u001b[49m\n\u001b[1;32m   5350\u001b[0m \u001b[43m        \u001b[49m\u001b[43mindex\u001b[49m\u001b[38;5;241;43m=\u001b[39;49m\u001b[43mindex\u001b[49m\u001b[43m,\u001b[49m\n\u001b[1;32m   5351\u001b[0m \u001b[43m        \u001b[49m\u001b[43mcolumns\u001b[49m\u001b[38;5;241;43m=\u001b[39;49m\u001b[43mcolumns\u001b[49m\u001b[43m,\u001b[49m\n\u001b[1;32m   5352\u001b[0m \u001b[43m        \u001b[49m\u001b[43mlevel\u001b[49m\u001b[38;5;241;43m=\u001b[39;49m\u001b[43mlevel\u001b[49m\u001b[43m,\u001b[49m\n\u001b[1;32m   5353\u001b[0m \u001b[43m        \u001b[49m\u001b[43minplace\u001b[49m\u001b[38;5;241;43m=\u001b[39;49m\u001b[43minplace\u001b[49m\u001b[43m,\u001b[49m\n\u001b[1;32m   5354\u001b[0m \u001b[43m        \u001b[49m\u001b[43merrors\u001b[49m\u001b[38;5;241;43m=\u001b[39;49m\u001b[43merrors\u001b[49m\u001b[43m,\u001b[49m\n\u001b[1;32m   5355\u001b[0m \u001b[43m    \u001b[49m\u001b[43m)\u001b[49m\n",
      "File \u001b[0;32m~/.local/lib/python3.10/site-packages/pandas/core/generic.py:4711\u001b[0m, in \u001b[0;36mNDFrame.drop\u001b[0;34m(self, labels, axis, index, columns, level, inplace, errors)\u001b[0m\n\u001b[1;32m   4709\u001b[0m \u001b[38;5;28;01mfor\u001b[39;00m axis, labels \u001b[38;5;129;01min\u001b[39;00m axes\u001b[38;5;241m.\u001b[39mitems():\n\u001b[1;32m   4710\u001b[0m     \u001b[38;5;28;01mif\u001b[39;00m labels \u001b[38;5;129;01mis\u001b[39;00m \u001b[38;5;129;01mnot\u001b[39;00m \u001b[38;5;28;01mNone\u001b[39;00m:\n\u001b[0;32m-> 4711\u001b[0m         obj \u001b[38;5;241m=\u001b[39m \u001b[43mobj\u001b[49m\u001b[38;5;241;43m.\u001b[39;49m\u001b[43m_drop_axis\u001b[49m\u001b[43m(\u001b[49m\u001b[43mlabels\u001b[49m\u001b[43m,\u001b[49m\u001b[43m \u001b[49m\u001b[43maxis\u001b[49m\u001b[43m,\u001b[49m\u001b[43m \u001b[49m\u001b[43mlevel\u001b[49m\u001b[38;5;241;43m=\u001b[39;49m\u001b[43mlevel\u001b[49m\u001b[43m,\u001b[49m\u001b[43m \u001b[49m\u001b[43merrors\u001b[49m\u001b[38;5;241;43m=\u001b[39;49m\u001b[43merrors\u001b[49m\u001b[43m)\u001b[49m\n\u001b[1;32m   4713\u001b[0m \u001b[38;5;28;01mif\u001b[39;00m inplace:\n\u001b[1;32m   4714\u001b[0m     \u001b[38;5;28mself\u001b[39m\u001b[38;5;241m.\u001b[39m_update_inplace(obj)\n",
      "File \u001b[0;32m~/.local/lib/python3.10/site-packages/pandas/core/generic.py:4792\u001b[0m, in \u001b[0;36mNDFrame._drop_axis\u001b[0;34m(self, labels, axis, level, errors, only_slice)\u001b[0m\n\u001b[1;32m   4789\u001b[0m     new_axis \u001b[38;5;241m=\u001b[39m axis\u001b[38;5;241m.\u001b[39mtake(indexer)\n\u001b[1;32m   4791\u001b[0m bm_axis \u001b[38;5;241m=\u001b[39m \u001b[38;5;28mself\u001b[39m\u001b[38;5;241m.\u001b[39mndim \u001b[38;5;241m-\u001b[39m axis_num \u001b[38;5;241m-\u001b[39m \u001b[38;5;241m1\u001b[39m\n\u001b[0;32m-> 4792\u001b[0m new_mgr \u001b[38;5;241m=\u001b[39m \u001b[38;5;28;43mself\u001b[39;49m\u001b[38;5;241;43m.\u001b[39;49m\u001b[43m_mgr\u001b[49m\u001b[38;5;241;43m.\u001b[39;49m\u001b[43mreindex_indexer\u001b[49m\u001b[43m(\u001b[49m\n\u001b[1;32m   4793\u001b[0m \u001b[43m    \u001b[49m\u001b[43mnew_axis\u001b[49m\u001b[43m,\u001b[49m\n\u001b[1;32m   4794\u001b[0m \u001b[43m    \u001b[49m\u001b[43mindexer\u001b[49m\u001b[43m,\u001b[49m\n\u001b[1;32m   4795\u001b[0m \u001b[43m    \u001b[49m\u001b[43maxis\u001b[49m\u001b[38;5;241;43m=\u001b[39;49m\u001b[43mbm_axis\u001b[49m\u001b[43m,\u001b[49m\n\u001b[1;32m   4796\u001b[0m \u001b[43m    \u001b[49m\u001b[43mallow_dups\u001b[49m\u001b[38;5;241;43m=\u001b[39;49m\u001b[38;5;28;43;01mTrue\u001b[39;49;00m\u001b[43m,\u001b[49m\n\u001b[1;32m   4797\u001b[0m \u001b[43m    \u001b[49m\u001b[43mcopy\u001b[49m\u001b[38;5;241;43m=\u001b[39;49m\u001b[38;5;28;43;01mNone\u001b[39;49;00m\u001b[43m,\u001b[49m\n\u001b[1;32m   4798\u001b[0m \u001b[43m    \u001b[49m\u001b[43monly_slice\u001b[49m\u001b[38;5;241;43m=\u001b[39;49m\u001b[43monly_slice\u001b[49m\u001b[43m,\u001b[49m\n\u001b[1;32m   4799\u001b[0m \u001b[43m\u001b[49m\u001b[43m)\u001b[49m\n\u001b[1;32m   4800\u001b[0m result \u001b[38;5;241m=\u001b[39m \u001b[38;5;28mself\u001b[39m\u001b[38;5;241m.\u001b[39m_constructor_from_mgr(new_mgr, axes\u001b[38;5;241m=\u001b[39mnew_mgr\u001b[38;5;241m.\u001b[39maxes)\n\u001b[1;32m   4801\u001b[0m \u001b[38;5;28;01mif\u001b[39;00m \u001b[38;5;28mself\u001b[39m\u001b[38;5;241m.\u001b[39mndim \u001b[38;5;241m==\u001b[39m \u001b[38;5;241m1\u001b[39m:\n",
      "File \u001b[0;32m~/.local/lib/python3.10/site-packages/pandas/core/internals/managers.py:663\u001b[0m, in \u001b[0;36mBaseBlockManager.reindex_indexer\u001b[0;34m(self, new_axis, indexer, axis, fill_value, allow_dups, copy, only_slice, use_na_proxy)\u001b[0m\n\u001b[1;32m    660\u001b[0m     \u001b[38;5;28;01mraise\u001b[39;00m \u001b[38;5;167;01mIndexError\u001b[39;00m(\u001b[38;5;124m\"\u001b[39m\u001b[38;5;124mRequested axis not found in manager\u001b[39m\u001b[38;5;124m\"\u001b[39m)\n\u001b[1;32m    662\u001b[0m \u001b[38;5;28;01mif\u001b[39;00m axis \u001b[38;5;241m==\u001b[39m \u001b[38;5;241m0\u001b[39m:\n\u001b[0;32m--> 663\u001b[0m     new_blocks \u001b[38;5;241m=\u001b[39m \u001b[38;5;28;43mself\u001b[39;49m\u001b[38;5;241;43m.\u001b[39;49m\u001b[43m_slice_take_blocks_ax0\u001b[49m\u001b[43m(\u001b[49m\n\u001b[1;32m    664\u001b[0m \u001b[43m        \u001b[49m\u001b[43mindexer\u001b[49m\u001b[43m,\u001b[49m\n\u001b[1;32m    665\u001b[0m \u001b[43m        \u001b[49m\u001b[43mfill_value\u001b[49m\u001b[38;5;241;43m=\u001b[39;49m\u001b[43mfill_value\u001b[49m\u001b[43m,\u001b[49m\n\u001b[1;32m    666\u001b[0m \u001b[43m        \u001b[49m\u001b[43monly_slice\u001b[49m\u001b[38;5;241;43m=\u001b[39;49m\u001b[43monly_slice\u001b[49m\u001b[43m,\u001b[49m\n\u001b[1;32m    667\u001b[0m \u001b[43m        \u001b[49m\u001b[43muse_na_proxy\u001b[49m\u001b[38;5;241;43m=\u001b[39;49m\u001b[43muse_na_proxy\u001b[49m\u001b[43m,\u001b[49m\n\u001b[1;32m    668\u001b[0m \u001b[43m    \u001b[49m\u001b[43m)\u001b[49m\n\u001b[1;32m    669\u001b[0m \u001b[38;5;28;01melse\u001b[39;00m:\n\u001b[1;32m    670\u001b[0m     new_blocks \u001b[38;5;241m=\u001b[39m [\n\u001b[1;32m    671\u001b[0m         blk\u001b[38;5;241m.\u001b[39mtake_nd(\n\u001b[1;32m    672\u001b[0m             indexer,\n\u001b[0;32m   (...)\u001b[0m\n\u001b[1;32m    678\u001b[0m         \u001b[38;5;28;01mfor\u001b[39;00m blk \u001b[38;5;129;01min\u001b[39;00m \u001b[38;5;28mself\u001b[39m\u001b[38;5;241m.\u001b[39mblocks\n\u001b[1;32m    679\u001b[0m     ]\n",
      "File \u001b[0;32m~/.local/lib/python3.10/site-packages/pandas/core/internals/managers.py:826\u001b[0m, in \u001b[0;36mBaseBlockManager._slice_take_blocks_ax0\u001b[0;34m(self, slice_or_indexer, fill_value, only_slice, use_na_proxy, ref_inplace_op)\u001b[0m\n\u001b[1;32m    824\u001b[0m                     blocks\u001b[38;5;241m.\u001b[39mappend(nb)\n\u001b[1;32m    825\u001b[0m             \u001b[38;5;28;01melse\u001b[39;00m:\n\u001b[0;32m--> 826\u001b[0m                 nb \u001b[38;5;241m=\u001b[39m \u001b[43mblk\u001b[49m\u001b[38;5;241;43m.\u001b[39;49m\u001b[43mtake_nd\u001b[49m\u001b[43m(\u001b[49m\u001b[43mtaker\u001b[49m\u001b[43m,\u001b[49m\u001b[43m \u001b[49m\u001b[43maxis\u001b[49m\u001b[38;5;241;43m=\u001b[39;49m\u001b[38;5;241;43m0\u001b[39;49m\u001b[43m,\u001b[49m\u001b[43m \u001b[49m\u001b[43mnew_mgr_locs\u001b[49m\u001b[38;5;241;43m=\u001b[39;49m\u001b[43mmgr_locs\u001b[49m\u001b[43m)\u001b[49m\n\u001b[1;32m    827\u001b[0m                 blocks\u001b[38;5;241m.\u001b[39mappend(nb)\n\u001b[1;32m    829\u001b[0m \u001b[38;5;28;01mreturn\u001b[39;00m blocks\n",
      "File \u001b[0;32m~/.local/lib/python3.10/site-packages/pandas/core/internals/blocks.py:1061\u001b[0m, in \u001b[0;36mBlock.take_nd\u001b[0;34m(self, indexer, axis, new_mgr_locs, fill_value)\u001b[0m\n\u001b[1;32m   1058\u001b[0m     allow_fill \u001b[38;5;241m=\u001b[39m \u001b[38;5;28;01mTrue\u001b[39;00m\n\u001b[1;32m   1060\u001b[0m \u001b[38;5;66;03m# Note: algos.take_nd has upcast logic similar to coerce_to_target_dtype\u001b[39;00m\n\u001b[0;32m-> 1061\u001b[0m new_values \u001b[38;5;241m=\u001b[39m \u001b[43malgos\u001b[49m\u001b[38;5;241;43m.\u001b[39;49m\u001b[43mtake_nd\u001b[49m\u001b[43m(\u001b[49m\n\u001b[1;32m   1062\u001b[0m \u001b[43m    \u001b[49m\u001b[43mvalues\u001b[49m\u001b[43m,\u001b[49m\u001b[43m \u001b[49m\u001b[43mindexer\u001b[49m\u001b[43m,\u001b[49m\u001b[43m \u001b[49m\u001b[43maxis\u001b[49m\u001b[38;5;241;43m=\u001b[39;49m\u001b[43maxis\u001b[49m\u001b[43m,\u001b[49m\u001b[43m \u001b[49m\u001b[43mallow_fill\u001b[49m\u001b[38;5;241;43m=\u001b[39;49m\u001b[43mallow_fill\u001b[49m\u001b[43m,\u001b[49m\u001b[43m \u001b[49m\u001b[43mfill_value\u001b[49m\u001b[38;5;241;43m=\u001b[39;49m\u001b[43mfill_value\u001b[49m\n\u001b[1;32m   1063\u001b[0m \u001b[43m\u001b[49m\u001b[43m)\u001b[49m\n\u001b[1;32m   1065\u001b[0m \u001b[38;5;66;03m# Called from three places in managers, all of which satisfy\u001b[39;00m\n\u001b[1;32m   1066\u001b[0m \u001b[38;5;66;03m#  these assertions\u001b[39;00m\n\u001b[1;32m   1067\u001b[0m \u001b[38;5;28;01mif\u001b[39;00m \u001b[38;5;28misinstance\u001b[39m(\u001b[38;5;28mself\u001b[39m, ExtensionBlock):\n\u001b[1;32m   1068\u001b[0m     \u001b[38;5;66;03m# NB: in this case, the 'axis' kwarg will be ignored in the\u001b[39;00m\n\u001b[1;32m   1069\u001b[0m     \u001b[38;5;66;03m#  algos.take_nd call above.\u001b[39;00m\n",
      "File \u001b[0;32m~/.local/lib/python3.10/site-packages/pandas/core/array_algos/take.py:118\u001b[0m, in \u001b[0;36mtake_nd\u001b[0;34m(arr, indexer, axis, fill_value, allow_fill)\u001b[0m\n\u001b[1;32m    115\u001b[0m     \u001b[38;5;28;01mreturn\u001b[39;00m arr\u001b[38;5;241m.\u001b[39mtake(indexer, fill_value\u001b[38;5;241m=\u001b[39mfill_value, allow_fill\u001b[38;5;241m=\u001b[39mallow_fill)\n\u001b[1;32m    117\u001b[0m arr \u001b[38;5;241m=\u001b[39m np\u001b[38;5;241m.\u001b[39masarray(arr)\n\u001b[0;32m--> 118\u001b[0m \u001b[38;5;28;01mreturn\u001b[39;00m \u001b[43m_take_nd_ndarray\u001b[49m\u001b[43m(\u001b[49m\u001b[43marr\u001b[49m\u001b[43m,\u001b[49m\u001b[43m \u001b[49m\u001b[43mindexer\u001b[49m\u001b[43m,\u001b[49m\u001b[43m \u001b[49m\u001b[43maxis\u001b[49m\u001b[43m,\u001b[49m\u001b[43m \u001b[49m\u001b[43mfill_value\u001b[49m\u001b[43m,\u001b[49m\u001b[43m \u001b[49m\u001b[43mallow_fill\u001b[49m\u001b[43m)\u001b[49m\n",
      "File \u001b[0;32m~/.local/lib/python3.10/site-packages/pandas/core/array_algos/take.py:148\u001b[0m, in \u001b[0;36m_take_nd_ndarray\u001b[0;34m(arr, indexer, axis, fill_value, allow_fill)\u001b[0m\n\u001b[1;32m    144\u001b[0m     axis \u001b[38;5;241m=\u001b[39m arr\u001b[38;5;241m.\u001b[39mndim \u001b[38;5;241m-\u001b[39m axis \u001b[38;5;241m-\u001b[39m \u001b[38;5;241m1\u001b[39m\n\u001b[1;32m    146\u001b[0m \u001b[38;5;66;03m# at this point, it's guaranteed that dtype can hold both the arr values\u001b[39;00m\n\u001b[1;32m    147\u001b[0m \u001b[38;5;66;03m# and the fill_value\u001b[39;00m\n\u001b[0;32m--> 148\u001b[0m out_shape_ \u001b[38;5;241m=\u001b[39m \u001b[38;5;28;43mlist\u001b[39;49m\u001b[43m(\u001b[49m\u001b[43marr\u001b[49m\u001b[38;5;241;43m.\u001b[39;49m\u001b[43mshape\u001b[49m\u001b[43m)\u001b[49m\n\u001b[1;32m    149\u001b[0m out_shape_[axis] \u001b[38;5;241m=\u001b[39m \u001b[38;5;28mlen\u001b[39m(indexer)\n\u001b[1;32m    150\u001b[0m out_shape \u001b[38;5;241m=\u001b[39m \u001b[38;5;28mtuple\u001b[39m(out_shape_)\n",
      "\u001b[0;31mKeyboardInterrupt\u001b[0m: "
     ]
    }
   ],
   "source": [
    "CurrentModel = GRUModel(n_features, 12).to(Device)\n",
    "Model_EnsembleInputSqueezing = DefenseTool.EnsembleInputSqueezing(CurrentModel, TrainLoader, ValidationLoader, TestLoader, Epochs = 30, Device=\"cuda\", Verbose=1, MaxCoefficient=2)\n",
    "\n",
    "CurrentModel = GRUModel(n_features, 12).to(Device)\n",
    "Model_InputSqueezing = DefenseTool.InputSqueezing(CurrentModel, TrainLoader, ValidationLoader, TestLoader, Epochs = 30, Device=\"cuda\", Verbose=1)\n",
    "\n",
    "CurrentModel = GRUModel(n_features, 12).to(Device)\n",
    "Model_InputRandomization = DefenseTool.InputRandomization(CurrentModel, TrainLoader, ValidationLoader, TestLoader, Epochs = 30, Device=\"cuda\", Verbose=1)\n",
    "\n",
    "CurrentModel = GRUModel(n_features, 12).to(Device)\n",
    "Model_InputPurificationAutoEncoder = DefenseTool.InputPurificationAutoEncoder(CurrentModel, TrainLoader, ValidationLoader, TestLoader, EpochsAutoEncoder = 30, EpochsModel = 30, Device=\"cuda\", Verbose=1)"
   ]
  },
  {
   "cell_type": "code",
   "execution_count": null,
   "id": "2b633f9c",
   "metadata": {},
   "outputs": [],
   "source": [
    "CurrentModel = GRUModel(n_features, 12).to(Device)\n",
    "Model_EnsembleInputSqueezing = DefenseTool.EnsembleInputSqueezing(CurrentModel, TrainLoader, ValidationLoader, TestLoader, Epochs = 30, Device=\"cuda\", Verbose=1, MaxCoefficient=2)\n",
    "\n",
    "CurrentModel = GRUModel(n_features, 12).to(Device)\n",
    "Model_InputSqueezing = DefenseTool.InputSqueezing(CurrentModel, TrainLoader, ValidationLoader, TestLoader, Epochs = 30, Coefficient = 0.1, Device=\"cuda\",  Verbose=1)"
   ]
  },
  {
   "cell_type": "code",
   "execution_count": null,
   "id": "f2ebb35a",
   "metadata": {},
   "outputs": [],
   "source": [
    "AttackParameters = {\n",
    "        \"Epsilon\": 0.01\n",
    "    }\n",
    "\n",
    "CurrentModel = GRUModel(n_features, 12).to(Device)\n",
    "DetectionModel = DefenseTool.GenerateDetectionModel(CurrentModel, TrainLoader, ValidationLoader, Device=\"cuda\", Epochs = 30, LearningRate = 0.001,AttackParameters=AttackParameters, AdversarialMethod=\"Fgsm\", Verbose=1)"
   ]
  },
  {
   "cell_type": "code",
   "execution_count": null,
   "id": "00c2fd5b",
   "metadata": {},
   "outputs": [],
   "source": [
    "Model_Distillation = DefenseTool.DefensiveDistillation(MyGRUModel, TrainLoader, ValidationLoader, TestLoader, Epochs = 30, Device=\"cuda\", Verbose=1)"
   ]
  },
  {
   "cell_type": "code",
   "execution_count": null,
   "id": "435ffa58",
   "metadata": {},
   "outputs": [],
   "source": [
    "RFModel, XGBModel = DefenseTool.EnsembleMethods(TrainLoader, ValidationLoader, TestLoader)"
   ]
  },
  {
   "cell_type": "code",
   "execution_count": 17,
   "id": "c3377d63",
   "metadata": {},
   "outputs": [
    {
     "name": "stdout",
     "output_type": "stream",
     "text": [
      "Classicial : RMSE:14.81\n",
      "Adversarial training FGSM: RMSE:16.56\n",
      "Adversarial training BIM: RMSE:18.0\n",
      "Adversarial training CW: RMSE:22.18\n"
     ]
    },
    {
     "ename": "NameError",
     "evalue": "name 'Model_EnsembleInputSqueezing' is not defined",
     "output_type": "error",
     "traceback": [
      "\u001b[0;31m---------------------------------------------------------------------------\u001b[0m",
      "\u001b[0;31mNameError\u001b[0m                                 Traceback (most recent call last)",
      "Cell \u001b[0;32mIn[17], line 13\u001b[0m\n\u001b[1;32m     10\u001b[0m mse, l1, Rrmse, y_pred_rnn, y \u001b[38;5;241m=\u001b[39m UtilsTool\u001b[38;5;241m.\u001b[39mTestModel(Model_AdvTrainingCw, TestLoader, Device)\n\u001b[1;32m     11\u001b[0m \u001b[38;5;28mprint\u001b[39m(\u001b[38;5;124mf\u001b[39m\u001b[38;5;124m'\u001b[39m\u001b[38;5;124mAdversarial training CW: RMSE:\u001b[39m\u001b[38;5;132;01m{\u001b[39;00m\u001b[38;5;28mround\u001b[39m(Rrmse,\u001b[38;5;241m2\u001b[39m)\u001b[38;5;132;01m}\u001b[39;00m\u001b[38;5;124m'\u001b[39m)\n\u001b[0;32m---> 13\u001b[0m mse, l1, Rrmse, y_pred_rnn, y \u001b[38;5;241m=\u001b[39m UtilsTool\u001b[38;5;241m.\u001b[39mTestModel(\u001b[43mModel_EnsembleInputSqueezing\u001b[49m, TestLoader, Device)\n\u001b[1;32m     14\u001b[0m \u001b[38;5;28mprint\u001b[39m(\u001b[38;5;124mf\u001b[39m\u001b[38;5;124m'\u001b[39m\u001b[38;5;124mEnsemble squeezing : RMSE:\u001b[39m\u001b[38;5;132;01m{\u001b[39;00m\u001b[38;5;28mround\u001b[39m(Rrmse,\u001b[38;5;241m2\u001b[39m)\u001b[38;5;132;01m}\u001b[39;00m\u001b[38;5;124m'\u001b[39m)\n\u001b[1;32m     16\u001b[0m mse, l1, Rrmse, y_pred_rnn, y \u001b[38;5;241m=\u001b[39m UtilsTool\u001b[38;5;241m.\u001b[39mTestModel(Model_InputSqueezing, TestLoader, Device)\n",
      "\u001b[0;31mNameError\u001b[0m: name 'Model_EnsembleInputSqueezing' is not defined"
     ]
    }
   ],
   "source": [
    "mse, l1, Rrmse, y_pred_rnn, y = UtilsTool.TestModel(MyGRUModel, TestLoader, Device)\n",
    "print(f'Classicial : RMSE:{round(Rrmse,2)}')\n",
    "\n",
    "mse, l1, Rrmse, y_pred_rnn, y = UtilsTool.TestModel(Model_AdvTrainingFgsm, TestLoader, Device)\n",
    "print(f'Adversarial training FGSM: RMSE:{round(Rrmse,2)}')\n",
    "\n",
    "mse, l1, Rrmse, y_pred_rnn, y = UtilsTool.TestModel(Model_AdvTrainingBim, TestLoader, Device)\n",
    "print(f'Adversarial training BIM: RMSE:{round(Rrmse,2)}')\n",
    "\n",
    "mse, l1, Rrmse, y_pred_rnn, y = UtilsTool.TestModel(Model_AdvTrainingCw, TestLoader, Device)\n",
    "print(f'Adversarial training CW: RMSE:{round(Rrmse,2)}')\n",
    "\n",
    "mse, l1, Rrmse, y_pred_rnn, y = UtilsTool.TestModel(Model_EnsembleInputSqueezing, TestLoader, Device)\n",
    "print(f'Ensemble squeezing : RMSE:{round(Rrmse,2)}')\n",
    "\n",
    "mse, l1, Rrmse, y_pred_rnn, y = UtilsTool.TestModel(Model_InputSqueezing, TestLoader, Device)\n",
    "print(f'Squeezing: RMSE:{round(Rrmse,2)}')\n",
    "\n",
    "mse, l1, Rrmse, y_pred_rnn, y = UtilsTool.TestModel(Model_InputRandomization, TestLoader, Device)\n",
    "print(f'Randomization: RMSE:{round(Rrmse,2)}')\n",
    "\n",
    "mse, l1, Rrmse, y_pred_rnn, y = UtilsTool.TestModel(Model_InputPurificationAutoEncoder, TestLoader, Device)\n",
    "print(f'AutoEncoder: RMSE:{round(Rrmse,2)}')\n",
    "\n",
    "mse, l1, Rrmse, y_pred_rnn, y = UtilsTool.TestModel(Model_Distillation, TestLoader, Device)\n",
    "print(f'Distillation: RMSE:{round(Rrmse,2)}')\n",
    "\n",
    "DetectionRate = torch.round(DetectionModel(X.float())).sum()/len(X.float())\n",
    "print(\"Detection rate: RMSE \", DetectionRate.item())\n",
    "\n",
    "X_test, y_test = UtilsTool.DataLoaderToNumpy(TestLoader)\n",
    "XTest = UtilsTool.flatten_sequences(X.cpu().numpy())\n",
    "MyRMSE = np.sqrt(mean_squared_error(RFModel.predict(XTest), y_test))\n",
    "print(f'Random Forest test RMSE: {MyRMSE:.2f}')\n",
    "\n",
    "X_test, y_test = UtilsTool.DataLoaderToNumpy(TestLoader)\n",
    "XTest = UtilsTool.flatten_sequences(X.cpu().numpy())\n",
    "MyRMSE = np.sqrt(mean_squared_error(XGBModel.predict(XTest), y_test))\n",
    "print(f'XGB RMSE: {MyRMSE:.2f}')"
   ]
  },
  {
   "cell_type": "code",
   "execution_count": null,
   "id": "768eeb30",
   "metadata": {},
   "outputs": [],
   "source": [
    "AdversarialExamples = [X, GRUAdversarialDataFgsm, GRUAdversarialDataBim, GRUAdversarialDataCW]\n",
    "Models = [MyGRUModel, Model_AdvTrainingFgsm, Model_AdvTrainingBim, Model_AdvTrainingCw, Model_EnsembleInputSqueezing, Model_InputSqueezing, Model_InputRandomization, Model_InputPurificationAutoEncoder, Model_Distillation]\n",
    "ModelsName = [\"Classical\", \"Model_AdvTrainingFgsm\", \"Model_AdvTrainingBim\", \"Model_AdvTrainingCw\", \"Model_EnsembleInputSqueezing\", \"Model_InputSqueezing\", \"Model_InputRandomization\", \"Model_InputPurificationAutoEncoder\", \"Model_Distillation\"]\n",
    "EnsemblModels = [XGBModel, RFModel]\n",
    "EnsemblModelsName = [ \"XFG\", \"RF\"]\n",
    "\n",
    "UtilsTool.DisplayRMSEAll(Models, ModelsName, AdversarialExamples, y)\n",
    "UtilsTool.DisplayDetection(DetectionModel, AdversarialExamples)\n",
    "UtilsTool.DisplayEnsembleModels(EnsemblModels, EnsemblModelsName, AdversarialExamples, y)"
   ]
  },
  {
   "cell_type": "code",
   "execution_count": null,
   "id": "f79041ad",
   "metadata": {},
   "outputs": [],
   "source": [
    "AttacksParameters = {\n",
    "    \"FGSM\": {\n",
    "        \"Objective\": 300,\n",
    "        \"Epsilon\": 0.010\n",
    "    },\n",
    "    \"BIM\": {\n",
    "        \"Objective\": 300,\n",
    "        \"Iterations\": 105,\n",
    "        \"Epsilon\": 0.0001\n",
    "    },\n",
    "    \"CW\": {\n",
    "        \"Objective\": 0,\n",
    "        \"Iterations\": 1000,\n",
    "        \"LearningRate\": 0.01,\n",
    "        \"c\": 0.0000002,\n",
    "    }\n",
    "}\n",
    "print(\"Classical Model\")\n",
    "_, _, _ = AttacksTool.TestAttacks(MyGRUModel, X, y, AttacksParameters, Device = Device)\n",
    "print()\n",
    "print(\"Adversarial Model FGSM\")\n",
    "_, _, _ = AttacksTool.TestAttacks(Model_AdvTrainingFgsm, X, y, AttacksParameters, Device = Device)\n",
    "print()\n",
    "print(\"Adversarial Model BIM\")\n",
    "_, _, _ = AttacksTool.TestAttacks(Model_AdvTrainingBim, X, y, AttacksParameters, Device = Device)\n",
    "print()\n",
    "print(\"Adversarial Model CW\")\n",
    "_, _, _ = AttacksTool.TestAttacks(Model_AdvTrainingCw, X, y, AttacksParameters, Device = Device)\n",
    "print()\n",
    "print(\"Adversarial Model Ensemble squeezing\")\n",
    "_, _, _ = AttacksTool.TestAttacks(Model_EnsembleInputSqueezing, X, y, AttacksParameters, Device = Device)\n",
    "print()\n",
    "print(\"Adversarial Model squeezing\")\n",
    "_, _, _ = AttacksTool.TestAttacks(Model_InputSqueezing, X, y, AttacksParameters, Device = Device)\n",
    "print()\n",
    "\n",
    "AttacksParameters = {\n",
    "    \"FGSM\": {\n",
    "        \"Objective\": 300,\n",
    "        \"Epsilon\": 0.012\n",
    "    },\n",
    "    \"BIM\": {\n",
    "        \"Objective\": 300,\n",
    "        \"Iterations\": 120,\n",
    "        \"Epsilon\": 0.0001\n",
    "    },\n",
    "    \"CW\": {\n",
    "        \"Objective\": 0,\n",
    "        \"Iterations\": 1000,\n",
    "        \"LearningRate\": 0.01,\n",
    "        \"c\": 0.00000015,\n",
    "    }\n",
    "}\n",
    "\n",
    "print(\"Adversarial Distillation\")\n",
    "_, _, _ = AttacksTool.TestAttacks(Model_Distillation, X, y, AttacksParameters, Device = Device)\n",
    "print()\n",
    "\n",
    "AttacksParameters = {\n",
    "    \"FGSM\": {\n",
    "        \"Objective\": 300,\n",
    "        \"Epsilon\": 0.011\n",
    "    },\n",
    "    \"BIM\": {\n",
    "        \"Objective\": 300,\n",
    "        \"Iterations\": 140,\n",
    "        \"Epsilon\": 0.0001\n",
    "    },\n",
    "    \"CW\": {\n",
    "        \"Objective\": 0,\n",
    "        \"Iterations\": 1000,\n",
    "        \"LearningRate\": 0.01,\n",
    "        \"c\": 0.00000007,\n",
    "    }\n",
    "}\n",
    "print(\"Adversarial Randomization\")\n",
    "_, _, _ = AttacksTool.TestAttacks(Model_InputRandomization, X, y, AttacksParameters, Device = Device)\n",
    "print()\n",
    "AttacksParameters = {\n",
    "    \"FGSM\": {\n",
    "        \"Objective\": 300,\n",
    "        \"Epsilon\": 0.012\n",
    "    },\n",
    "    \"BIM\": {\n",
    "        \"Objective\": 300,\n",
    "        \"Iterations\": 130,\n",
    "        \"Epsilon\": 0.00009\n",
    "    },\n",
    "    \"CW\": {\n",
    "        \"Objective\": 0,\n",
    "        \"Iterations\": 1000,\n",
    "        \"LearningRate\": 0.01,\n",
    "        \"c\": 0.00000009,\n",
    "    }\n",
    "}\n",
    "print(\"Adversarial Autoencoder\")\n",
    "_, _, _ = AttacksTool.TestAttacks(Model_InputPurificationAutoEncoder, X, y, AttacksParameters, Device = Device)"
   ]
  },
  {
   "cell_type": "code",
   "execution_count": null,
   "id": "47c1d828",
   "metadata": {},
   "outputs": [],
   "source": [
    "SurrogateModelXGB = AttacksTool.CreateSurrogateModel(XGBModel, Epochs = 100, Device = \"cuda\", Verbose = 1)\n",
    "SurrogateModelRF = AttacksTool.CreateSurrogateModel(RFModel, Epochs = 30, Device = \"cuda\", Verbose = 1)"
   ]
  },
  {
   "cell_type": "code",
   "execution_count": null,
   "id": "fbcd9ad2",
   "metadata": {},
   "outputs": [],
   "source": [
    "AttacksParameters = {\n",
    "    \"FGSM\": {\n",
    "        \"Objective\": 300,\n",
    "        \"Epsilon\": 0.012\n",
    "    },\n",
    "    \"BIM\": {\n",
    "        \"Objective\": 300,\n",
    "        \"Iterations\": 130,\n",
    "        \"Epsilon\": 0.00009\n",
    "    },\n",
    "    \"CW\": {\n",
    "        \"Objective\": 0,\n",
    "        \"Iterations\": 1000,\n",
    "        \"LearningRate\": 0.01,\n",
    "        \"c\": 0.00000009,\n",
    "    }\n",
    "}\n",
    "A, B, C = AttacksTool.TestAttacks(SurrogateModelXGB, X, y, AttacksParameters, Device = Device)\n",
    "AdversarialExamples = [X, GRUAdversarialDataFgsm, GRUAdversarialDataBim, GRUAdversarialDataCW, A, B, C]\n",
    "EnsemblModels = [XGBModel]\n",
    "EnsemblModelNames = [\"XGBModel\"]\n",
    "UtilsTool.DisplayEnsembleModels(EnsemblModels, EnsemblModelsName, AdversarialExamples, y)\n",
    "\n",
    "AttacksParameters = {\n",
    "    \"FGSM\": {\n",
    "        \"Objective\": 300,\n",
    "        \"Epsilon\": 0.012\n",
    "    },\n",
    "    \"BIM\": {\n",
    "        \"Objective\": 300,\n",
    "        \"Iterations\": 130,\n",
    "        \"Epsilon\": 0.00009\n",
    "    },\n",
    "    \"CW\": {\n",
    "        \"Objective\": 0,\n",
    "        \"Iterations\": 1000,\n",
    "        \"LearningRate\": 0.01,\n",
    "        \"c\": 0.00000009,\n",
    "    }\n",
    "}\n",
    "A, B, C = AttacksTool.TestAttacks(SurrogateModelRF, X, y, AttacksParameters, Device = Device)\n",
    "AdversarialExamples = [X, GRUAdversarialDataFgsm, GRUAdversarialDataBim, GRUAdversarialDataCW, A, B, C]\n",
    "EnsemblModels = [RFModel]\n",
    "EnsemblModelNames = [\"RF\"]\n",
    "UtilsTool.DisplayEnsembleModels(EnsemblModels, EnsemblModelNames, AdversarialExamples, y)"
   ]
  },
  {
   "cell_type": "code",
   "execution_count": null,
   "id": "cfa5b179",
   "metadata": {},
   "outputs": [],
   "source": [
    "SurrogateSqueezing = AttacksTool.CreateSurrogateModelSqueezing(Model_InputSqueezing, Epochs = 100, LearningRate=0.001, Device =\"cuda\", Verbose = 1)\n",
    "SurrogateSqueezing2 = AttacksTool.CreateSurrogateModelSqueezing(Model_EnsembleInputSqueezing, Epochs = 100, LearningRate=0.001, Device = \"cuda\", Verbose = 1)"
   ]
  },
  {
   "cell_type": "code",
   "execution_count": null,
   "id": "c51e4cf7",
   "metadata": {},
   "outputs": [],
   "source": [
    "AttacksParameters = {\n",
    "    \"FGSM\": {\n",
    "        \"Objective\": 300,\n",
    "        \"Epsilon\": 0.012\n",
    "    },\n",
    "    \"BIM\": {\n",
    "        \"Objective\": 300,\n",
    "        \"Iterations\": 130,\n",
    "        \"Epsilon\": 0.0001\n",
    "    },\n",
    "    \"CW\": {\n",
    "        \"Objective\": 0,\n",
    "        \"Iterations\": 1000,\n",
    "        \"LearningRate\": 0.01,\n",
    "        \"c\": 0.00000005,\n",
    "    }\n",
    "}\n",
    "\n",
    "A, B, C = AttacksTool.TestAttacks(SurrogateSqueezing, X, y, AttacksParameters, Device = Device)\n",
    "AdversarialExamples = [X, GRUAdversarialDataFgsm, GRUAdversarialDataBim, GRUAdversarialDataCW, A, B, C]\n",
    "Models = [Model_EnsembleInputSqueezing]\n",
    "ModelsName = [\"Model_EnsembleInputSqueezing\"]\n",
    "UtilsTool.DisplayRMSEAll(Models, ModelsName, AdversarialExamples, y)\n",
    "\n",
    "\n",
    "AttacksParameters = {\n",
    "    \"FGSM\": {\n",
    "        \"Objective\": 300,\n",
    "        \"Epsilon\": 0.012\n",
    "    },\n",
    "    \"BIM\": {\n",
    "        \"Objective\": 300,\n",
    "        \"Iterations\": 130,\n",
    "        \"Epsilon\": 0.00009\n",
    "    },\n",
    "    \"CW\": {\n",
    "        \"Objective\": 0,\n",
    "        \"Iterations\": 1000,\n",
    "        \"LearningRate\": 0.01,\n",
    "        \"c\": 0.00002,\n",
    "    }\n",
    "}\n",
    "A, B, C = AttacksTool.TestAttacks(SurrogateSqueezing2, X, y, AttacksParameters, Device = Device)\n",
    "AdversarialExamples = [X, GRUAdversarialDataFgsm, GRUAdversarialDataBim, GRUAdversarialDataCW, A, B, C]\n",
    "Models = [Model_InputSqueezing]\n",
    "ModelsName = [\"Model_InputSqueezing\"]\n",
    "UtilsTool.DisplayRMSEAll(Models, ModelsName, AdversarialExamples, y)"
   ]
  },
  {
   "cell_type": "code",
   "execution_count": null,
   "id": "b9e5f241",
   "metadata": {},
   "outputs": [],
   "source": [
    "Adv = AttacksTool.CwAttackDetection(MyGRUModel, DetectionModel, X, y, LearningRate= 0.00002, c = 1, d = 10000, Device = \"cuda\", Verbose =1)\n",
    "mse = torch.mean((Adv - X) ** 2)\n",
    "rmse = torch.sqrt(mse)\n",
    "print(f\"RMSE: {rmse.item()}\")\n",
    "\n",
    "mse = torch.mean((MyGRUModel(Adv) - y) ** 2)\n",
    "rmse = torch.sqrt(mse)\n",
    "print(f\"RMSE: {rmse.item()}\")\n",
    "UtilsTool.DisplayDetection(DetectionModel, [Adv])"
   ]
  }
 ],
 "metadata": {
  "kernelspec": {
   "display_name": "Python 3 (ipykernel)",
   "language": "python",
   "name": "python3"
  },
  "language_info": {
   "codemirror_mode": {
    "name": "ipython",
    "version": 3
   },
   "file_extension": ".py",
   "mimetype": "text/x-python",
   "name": "python",
   "nbconvert_exporter": "python",
   "pygments_lexer": "ipython3",
   "version": "3.10.12"
  },
  "papermill": {
   "default_parameters": {},
   "duration": 1671.427631,
   "end_time": "2022-11-23T16:08:50.145405",
   "environment_variables": {},
   "exception": null,
   "input_path": "__notebook__.ipynb",
   "output_path": "__notebook__.ipynb",
   "parameters": {},
   "start_time": "2022-11-23T15:40:58.717774",
   "version": "2.3.4"
  }
 },
 "nbformat": 4,
 "nbformat_minor": 5
}
