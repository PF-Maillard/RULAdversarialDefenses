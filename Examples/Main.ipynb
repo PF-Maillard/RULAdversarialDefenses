{
 "cells": [
  {
   "cell_type": "code",
   "execution_count": 1,
   "id": "b10920c7",
   "metadata": {
    "execution": {
     "iopub.execute_input": "2022-11-23T15:41:07.424260Z",
     "iopub.status.busy": "2022-11-23T15:41:07.423547Z",
     "iopub.status.idle": "2022-11-23T15:41:09.327810Z",
     "shell.execute_reply": "2022-11-23T15:41:09.326355Z"
    },
    "papermill": {
     "duration": 1.918804,
     "end_time": "2022-11-23T15:41:09.331049",
     "exception": false,
     "start_time": "2022-11-23T15:41:07.412245",
     "status": "completed"
    },
    "tags": []
   },
   "outputs": [],
   "source": [
    "from os import listdir\n",
    "import pandas as pd\n",
    "import numpy as np\n",
    "from sklearn.metrics import mean_squared_error\n",
    "\n",
    "import torch\n",
    "from torch.utils.data import DataLoader\n",
    "\n",
    "import Sources.DataNasaFan as DataTool\n",
    "from Sources.ModelsNasaFan import RNNModel, GRUModel, LSTMModel\n",
    "\n",
    "import AdversarialRulLib.Utils as UtilsTool\n",
    "import AdversarialRulLib.Attacks as AttacksTool\n",
    "import AdversarialRulLib.Defense as DefenseTool"
   ]
  },
  {
   "cell_type": "code",
   "execution_count": 2,
   "id": "85000d04",
   "metadata": {},
   "outputs": [],
   "source": [
    "pd.set_option('display.max_columns', 50)\n",
    "pd.set_option('display.max_rows', 50)\n",
    "\n",
    "TrainMode = 0\n",
    "\n",
    "DatasetPath = 'DatasetNasaFan/'\n",
    "ModelPath = 'Models/'\n",
    "Window = 80"
   ]
  },
  {
   "cell_type": "code",
   "execution_count": 3,
   "id": "99a09448",
   "metadata": {},
   "outputs": [
    {
     "name": "stdout",
     "output_type": "stream",
     "text": [
      "Using device: cuda\n"
     ]
    }
   ],
   "source": [
    "Device = torch.device(\"cuda\" if torch.cuda.is_available() else \"cpu\")\n",
    "print(f\"Using device: {Device}\")"
   ]
  },
  {
   "cell_type": "code",
   "execution_count": 4,
   "id": "727cd407",
   "metadata": {
    "execution": {
     "iopub.execute_input": "2022-11-23T15:41:09.371162Z",
     "iopub.status.busy": "2022-11-23T15:41:09.369654Z",
     "iopub.status.idle": "2022-11-23T15:41:09.688330Z",
     "shell.execute_reply": "2022-11-23T15:41:09.687086Z"
    },
    "papermill": {
     "duration": 0.331643,
     "end_time": "2022-11-23T15:41:09.690880",
     "exception": false,
     "start_time": "2022-11-23T15:41:09.359237",
     "status": "completed"
    },
    "tags": []
   },
   "outputs": [],
   "source": [
    "listdir(DatasetPath)\n",
    "\n",
    "DfTrain = pd.read_csv(DatasetPath + 'train_FD001.txt', header = None, sep = ' ')\n",
    "DfTest = pd.read_csv(DatasetPath + 'test_FD001.txt', header = None, sep = ' ')\n",
    "RulTest = pd.read_csv(DatasetPath + 'RUL_FD001.txt', header = None)"
   ]
  },
  {
   "cell_type": "code",
   "execution_count": 5,
   "id": "b064a33d",
   "metadata": {
    "execution": {
     "iopub.execute_input": "2022-11-23T15:41:09.736166Z",
     "iopub.status.busy": "2022-11-23T15:41:09.735740Z",
     "iopub.status.idle": "2022-11-23T15:41:09.812797Z",
     "shell.execute_reply": "2022-11-23T15:41:09.811536Z"
    },
    "papermill": {
     "duration": 0.091155,
     "end_time": "2022-11-23T15:41:09.815373",
     "exception": false,
     "start_time": "2022-11-23T15:41:09.724218",
     "status": "completed"
    },
    "tags": []
   },
   "outputs": [],
   "source": [
    "DfTrain, DfTest, RulTest = DataTool.SetDatasets(DfTrain, DfTest, RulTest)"
   ]
  },
  {
   "cell_type": "code",
   "execution_count": 6,
   "id": "ea46a2d8",
   "metadata": {
    "execution": {
     "iopub.execute_input": "2022-11-23T15:41:14.752510Z",
     "iopub.status.busy": "2022-11-23T15:41:14.752105Z",
     "iopub.status.idle": "2022-11-23T15:41:14.816285Z",
     "shell.execute_reply": "2022-11-23T15:41:14.815113Z"
    },
    "papermill": {
     "duration": 0.091725,
     "end_time": "2022-11-23T15:41:14.819125",
     "exception": false,
     "start_time": "2022-11-23T15:41:14.727400",
     "status": "completed"
    },
    "tags": []
   },
   "outputs": [],
   "source": [
    "MinMaxDict = DataTool.GetMinMaxDictionnary(DfTrain)\n",
    "NdfTrain  = DataTool.NormalizeDataset(DfTrain, MinMaxDict)    \n",
    "NdfTest  = DataTool.NormalizeDataset(DfTest, MinMaxDict)   "
   ]
  },
  {
   "cell_type": "code",
   "execution_count": 7,
   "id": "a63fb82b",
   "metadata": {
    "execution": {
     "iopub.execute_input": "2022-11-23T15:41:20.981489Z",
     "iopub.status.busy": "2022-11-23T15:41:20.980892Z",
     "iopub.status.idle": "2022-11-23T15:41:20.987713Z",
     "shell.execute_reply": "2022-11-23T15:41:20.986262Z"
    },
    "papermill": {
     "duration": 0.044458,
     "end_time": "2022-11-23T15:41:20.990277",
     "exception": false,
     "start_time": "2022-11-23T15:41:20.945819",
     "status": "completed"
    },
    "tags": []
   },
   "outputs": [],
   "source": [
    "NbFeatures = len([c for c in NdfTrain.columns if 's' in c])"
   ]
  },
  {
   "cell_type": "code",
   "execution_count": 8,
   "id": "4c6b0dd4",
   "metadata": {
    "execution": {
     "iopub.execute_input": "2022-11-23T15:41:21.126530Z",
     "iopub.status.busy": "2022-11-23T15:41:21.125398Z",
     "iopub.status.idle": "2022-11-23T15:41:21.132885Z",
     "shell.execute_reply": "2022-11-23T15:41:21.131463Z"
    },
    "papermill": {
     "duration": 0.045,
     "end_time": "2022-11-23T15:41:21.135314",
     "exception": false,
     "start_time": "2022-11-23T15:41:21.090314",
     "status": "completed"
    },
    "tags": []
   },
   "outputs": [],
   "source": [
    "np.random.seed(5)\n",
    "torch.manual_seed(5)\n",
    "\n",
    "Units = np.arange(1,101)\n",
    "TrainUnits = list(np.random.choice(Units, 80, replace = False))\n",
    "ValUnits = list(set(Units) - set(TrainUnits))\n",
    "\n",
    "TrainData = NdfTrain[NdfTrain['unit'].isin(TrainUnits)].copy()\n",
    "ValData = NdfTrain[NdfTrain['unit'].isin(ValUnits)].copy()\n",
    "\n",
    "TrainIndices = list(TrainData[(TrainData['rul'] >= (Window - 1)) & (TrainData['time'] > 10)].index)\n",
    "ValIndices = list(ValData[(ValData['rul'] >= (Window - 1)) & (ValData['time'] > 10)].index)\n",
    "\n",
    "TrainDataset = DataTool.data(TrainIndices, NdfTrain, Window)\n",
    "ValidationDataset = DataTool.data(ValIndices, NdfTrain, Window)\n",
    "\n",
    "UnitBySize = NdfTest.groupby('unit')['time'].max().tolist()\n",
    "Units = []\n",
    "for i in range(len(UnitBySize)):\n",
    "    if UnitBySize[i] > Window:\n",
    "        Units.append(i+1)\n",
    "\n",
    "TestDataset = DataTool.test(NdfTest, Window)"
   ]
  },
  {
   "cell_type": "code",
   "execution_count": 9,
   "id": "d80622da",
   "metadata": {},
   "outputs": [
    {
     "name": "stdout",
     "output_type": "stream",
     "text": [
      "Train 9615\n",
      "Val 2116\n",
      "Test 77\n"
     ]
    }
   ],
   "source": [
    "print(\"Train\", len(TrainDataset))\n",
    "print(\"Val\", len(ValidationDataset))\n",
    "print(\"Test\", len(TestDataset))"
   ]
  },
  {
   "cell_type": "code",
   "execution_count": 10,
   "id": "8bc63df6",
   "metadata": {},
   "outputs": [],
   "source": [
    "TrainLoader = DataLoader(TrainDataset, batch_size = 64, shuffle = True)\n",
    "ValidationLoader = DataLoader(ValidationDataset, batch_size = len(ValIndices), shuffle = True)\n",
    "TestLoader = DataLoader(TestDataset, batch_size = 100)"
   ]
  },
  {
   "cell_type": "code",
   "execution_count": 11,
   "id": "2f17f2e2",
   "metadata": {
    "execution": {
     "iopub.execute_input": "2022-11-23T15:41:21.973759Z",
     "iopub.status.busy": "2022-11-23T15:41:21.972943Z",
     "iopub.status.idle": "2022-11-23T16:08:07.459582Z",
     "shell.execute_reply": "2022-11-23T16:08:07.458414Z"
    },
    "papermill": {
     "duration": 1605.563583,
     "end_time": "2022-11-23T16:08:07.502071",
     "exception": false,
     "start_time": "2022-11-23T15:41:21.938488",
     "status": "completed"
    },
    "tags": []
   },
   "outputs": [],
   "source": [
    "if TrainMode == 1:\n",
    "    epochs = 40\n",
    "    learning_rate= 0.01\n",
    "    \n",
    "    MyRNNModel = RNNModel().to(Device)\n",
    "    UtilsTool.InitModel(MyRNNModel, Device)\n",
    "    UtilsTool.TrainModel(MyRNNModel, TrainLoader, ValidationLoader, epochs, learning_rate, Device)        \n",
    "    torch.save(MyRNNModel, ModelPath + 'MyRNNmodel.pth')\n",
    "\n",
    "    MyGRUModel = GRUModel().to(Device)\n",
    "    UtilsTool.InitModel(MyGRUModel, Device)\n",
    "    UtilsTool.TrainModel(MyGRUModel, TrainLoader, ValidationLoader, epochs, learning_rate, Device)        \n",
    "    torch.save(MyGRUModel, ModelPath + 'MyGRUmodel.pth')\n",
    "\n",
    "    MyLSTMModel = LSTMModel().to(Device)\n",
    "    UtilsTool.InitModel(MyLSTMModel, Device)\n",
    "    UtilsTool.TrainModel(MyLSTMModel, TrainLoader, ValidationLoader, epochs, learning_rate, Device)     \n",
    "    torch.save(MyLSTMModel, ModelPath + 'MyLSTMmodel.pth')\n",
    "    \n",
    "else:     \n",
    "    MyRNNModel = torch.load(ModelPath + 'MyRNNmodel.pth').to(Device)\n",
    "    MyGRUModel = torch.load(ModelPath + 'MyGRUmodel.pth').to(Device)\n",
    "    MyLSTMModel = torch.load(ModelPath + 'MyLSTMmodel.pth').to(Device)\n"
   ]
  },
  {
   "cell_type": "markdown",
   "id": "15a2d305",
   "metadata": {
    "papermill": {
     "duration": 0.041459,
     "end_time": "2022-11-23T16:08:48.445943",
     "exception": false,
     "start_time": "2022-11-23T16:08:48.404484",
     "status": "completed"
    },
    "tags": []
   },
   "source": [
    "![](./animation3.gif)"
   ]
  },
  {
   "cell_type": "code",
   "execution_count": 12,
   "id": "2adc90d3",
   "metadata": {
    "execution": {
     "iopub.execute_input": "2022-11-23T16:08:48.617567Z",
     "iopub.status.busy": "2022-11-23T16:08:48.616798Z",
     "iopub.status.idle": "2022-11-23T16:08:48.818815Z",
     "shell.execute_reply": "2022-11-23T16:08:48.817568Z"
    },
    "papermill": {
     "duration": 0.248564,
     "end_time": "2022-11-23T16:08:48.821338",
     "exception": false,
     "start_time": "2022-11-23T16:08:48.572774",
     "status": "completed"
    },
    "tags": []
   },
   "outputs": [
    {
     "name": "stdout",
     "output_type": "stream",
     "text": [
      "RNN: MSE:447.7, L1:15.27, RMSE:21.16\n",
      "GRU: MSE:206.27, L1:9.65, RMSE:14.36\n",
      "LSTM: MSE:360.85, L1:13.55, RMSE:19.0\n"
     ]
    }
   ],
   "source": [
    "Mse, L1, Rrmse, _ , _ = UtilsTool.TestModel(MyRNNModel, TestLoader, Device)\n",
    "print(f'RNN: MSE:{round(Mse,2)}, L1:{round(L1,2)}, RMSE:{round(Rrmse,2)}')\n",
    "Mse, L1, Rrmse, _ , _ = UtilsTool.TestModel(MyGRUModel, TestLoader, Device)\n",
    "print(f'GRU: MSE:{round(Mse,2)}, L1:{round(L1,2)}, RMSE:{round(Rrmse,2)}')\n",
    "Mse, L1, Rrmse, _ , _ = UtilsTool.TestModel(MyLSTMModel, TestLoader, Device)\n",
    "print(f'LSTM: MSE:{round(Mse,2)}, L1:{round(L1,2)}, RMSE:{round(Rrmse,2)}')"
   ]
  },
  {
   "cell_type": "code",
   "execution_count": 13,
   "id": "ba3e1b99",
   "metadata": {},
   "outputs": [
    {
     "name": "stdout",
     "output_type": "stream",
     "text": [
      "RNN\n",
      "FGSM: {'RealRUL': 64.4935073852539, 'Objective': 0, 'PredRUL': 37.9299430847168, 'RMSE_adversarial': 0.05423940345644951, 'RMSE_pred': 35.62411880493164}\n",
      "BIM: {'RealRUL': 64.4935073852539, 'Objective': 0, 'PredRUL': 11.520668029785156, 'RMSE_adversarial': 0.03503989800810814, 'RMSE_pred': 63.54457473754883}\n",
      "CW: {'RealRUL': 64.4935073852539, 'Objective': 0, 'PredRUL': 2.08231782913208, 'RMSE_adversarial': 0.034313660115003586, 'RMSE_pred': 74.24449920654297}\n",
      "\n",
      "GRU\n",
      "FGSM: {'RealRUL': 64.4935073852539, 'Objective': 0, 'PredRUL': 41.70381546020508, 'RMSE_adversarial': 0.011127319186925888, 'RMSE_pred': 29.44731903076172}\n",
      "BIM: {'RealRUL': 64.4935073852539, 'Objective': 0, 'PredRUL': 40.320762634277344, 'RMSE_adversarial': 0.010623765178024769, 'RMSE_pred': 31.117568969726562}\n",
      "CW: {'RealRUL': 64.4935073852539, 'Objective': 0, 'PredRUL': 22.986116409301758, 'RMSE_adversarial': 0.011925701051950455, 'RMSE_pred': 53.595619201660156}\n",
      "\n",
      "LSTM\n",
      "FGSM: {'RealRUL': 64.4935073852539, 'Objective': 0, 'PredRUL': 1.4888137578964233, 'RMSE_adversarial': 0.4733925461769104, 'RMSE_pred': 73.90192413330078}\n",
      "BIM: {'RealRUL': 64.4935073852539, 'Objective': 0, 'PredRUL': 20.43792724609375, 'RMSE_adversarial': 0.056004106998443604, 'RMSE_pred': 52.35823059082031}\n",
      "CW: {'RealRUL': 64.4935073852539, 'Objective': 0, 'PredRUL': 0.8896071910858154, 'RMSE_adversarial': 0.031809549778699875, 'RMSE_pred': 75.1151123046875}\n"
     ]
    }
   ],
   "source": [
    "TestLoaderAttack = DataLoader(TestLoader.dataset, batch_size=100, shuffle=False)\n",
    "X, y = next(iter(TestLoaderAttack))\n",
    "X, y = X.to(Device), y.to(Device)\n",
    "\n",
    "AttacksParameters = {\n",
    "    \"FGSM\": {\n",
    "        \"Objective\": 300,\n",
    "        \"Epsilon\": 0.06\n",
    "    },\n",
    "    \"BIM\": {\n",
    "        \"Objective\": 300,\n",
    "        \"Iterations\": 120,\n",
    "        \"Epsilon\": 0.001\n",
    "    },\n",
    "    \"CW\": {\n",
    "        \"Objective\": 0,\n",
    "        \"Iterations\": 1000,\n",
    "        \"LearningRate\": 0.01,\n",
    "        \"c\": 0.02,\n",
    "    }\n",
    "}\n",
    "\n",
    "print(\"RNN\")\n",
    "RNNAdversarialDataFgsm, RNNAdversarialDataBim, RNNAdversarialDataCW = AttacksTool.TestAttacks(MyRNNModel, X, y, AttacksParameters, Device = Device)\n",
    "print()\n",
    "\n",
    "AttacksParameters = {\n",
    "    \"FGSM\": {\n",
    "        \"Objective\": 300,\n",
    "        \"Epsilon\": 0.012\n",
    "    },\n",
    "    \"BIM\": {\n",
    "        \"Objective\": 300,\n",
    "        \"Iterations\": 120,\n",
    "        \"Epsilon\": 0.0001\n",
    "    },\n",
    "    \"CW\": {\n",
    "        \"Objective\": 0,\n",
    "        \"Iterations\": 1000,\n",
    "        \"LearningRate\": 0.01,\n",
    "        \"c\": 0.0000002,\n",
    "    }\n",
    "}\n",
    "\n",
    "print(\"GRU\")\n",
    "GRUAdversarialDataFgsm, GRUAdversarialDataBim, GRUAdversarialDataCW = AttacksTool.TestAttacks(MyGRUModel, X, y, AttacksParameters, Device = Device)\n",
    "print()\n",
    "\n",
    "AttacksParameters = {\n",
    "    \"FGSM\": {\n",
    "        \"Objective\": 300,\n",
    "        \"Epsilon\": 0.60\n",
    "    },\n",
    "    \"BIM\": {\n",
    "        \"Objective\": 300,\n",
    "        \"Iterations\": 100,\n",
    "        \"Epsilon\": 0.001\n",
    "    },\n",
    "    \"CW\": {\n",
    "        \"Objective\": 0,\n",
    "        \"Iterations\": 1000,\n",
    "        \"LearningRate\": 0.01,\n",
    "        \"c\": 0.0004,\n",
    "    }\n",
    "}\n",
    "\n",
    "print(\"LSTM\")\n",
    "LSTMAdversarialDataFgsm, LSTMAdversarialDataBim, LSTMAdversarialDataCW = AttacksTool.TestAttacks(MyLSTMModel, X, y, AttacksParameters, Device = Device)"
   ]
  },
  {
   "cell_type": "code",
   "execution_count": 32,
   "id": "12c0e62b",
   "metadata": {},
   "outputs": [
    {
     "name": "stderr",
     "output_type": "stream",
     "text": [
      "100%|██████████| 80/80 [16:37<00:00, 12.47s/it]\n"
     ]
    }
   ],
   "source": [
    "AttackParameters = {\n",
    "        \"Epsilon\": 0.02\n",
    "    }\n",
    "\n",
    "CurrentModel = GRUModel(NbFeatures, 12).to(Device)\n",
    "Model_AdvTrainingFgsm = DefenseTool.AdversarialTraining(CurrentModel, TrainLoader, ValidationLoader, TestLoader, AdversarialMethod = \"Fgsm\", AttackParameters = AttackParameters,  Epochs = 80, Device=\"cuda\", Verbose=0)\n",
    "\n",
    "AttackParameters = {\n",
    "        \"Iterations\": 30,\n",
    "        \"Epsilon\": 0.001\n",
    "    }\n",
    "CurrentModel = GRUModel(NbFeatures, 12).to(Device)\n",
    "Model_AdvTrainingBim = DefenseTool.AdversarialTraining(CurrentModel, TrainLoader, ValidationLoader, TestLoader, AdversarialMethod = \"Bim\", AttackParameters = AttackParameters,  Epochs = 80, Device=\"cuda\", Verbose=0)\n",
    "\n",
    "AttackParameters = {\n",
    "        \"Iterations\": 50,\n",
    "        \"LearningRate\": 0.01,\n",
    "        \"c\": 0.0000002,\n",
    "    }\n",
    "\n",
    "CurrentModel = GRUModel(NbFeatures, 12).to(Device)\n",
    "Model_AdvTrainingCw = DefenseTool.AdversarialTraining(CurrentModel, TrainLoader, ValidationLoader, TestLoader, AdversarialMethod = \"CW\", AttackParameters = AttackParameters,  Epochs = 80 , Device=\"cuda\", Verbose=0)"
   ]
  },
  {
   "cell_type": "code",
   "execution_count": 15,
   "id": "d3d7791c",
   "metadata": {},
   "outputs": [
    {
     "name": "stderr",
     "output_type": "stream",
     "text": [
      "100%|██████████| 30/30 [02:16<00:00,  4.55s/it]\n",
      "100%|██████████| 30/30 [02:04<00:00,  4.13s/it]\n",
      "100%|██████████| 30/30 [02:04<00:00,  4.14s/it]\n",
      "100%|██████████| 30/30 [01:59<00:00,  3.98s/it]\n",
      "100%|██████████| 30/30 [02:05<00:00,  4.17s/it]\n"
     ]
    }
   ],
   "source": [
    "CurrentModel = GRUModel(NbFeatures, 12).to(Device)\n",
    "Model_EnsembleInputSqueezing = DefenseTool.EnsembleInputSqueezing(CurrentModel, TrainLoader, ValidationLoader, TestLoader, Epochs = 30, Device=\"cuda\", Verbose=0, MaxCoefficient=2)\n",
    "\n",
    "CurrentModel = GRUModel(NbFeatures, 12).to(Device)\n",
    "Model_InputSqueezing = DefenseTool.InputSqueezing(CurrentModel, TrainLoader, ValidationLoader, TestLoader, Epochs = 30, Device=\"cuda\", Verbose=0)\n",
    "\n",
    "CurrentModel = GRUModel(NbFeatures, 12).to(Device)\n",
    "Model_InputRandomization = DefenseTool.InputRandomization(CurrentModel, TrainLoader, ValidationLoader, TestLoader, Epochs = 30, Device=\"cuda\", Verbose=0)\n",
    "\n",
    "CurrentModel = GRUModel(NbFeatures, 12).to(Device)\n",
    "Model_InputPurificationAutoEncoder = DefenseTool.InputPurificationAutoEncoder(CurrentModel, TrainLoader, ValidationLoader, TestLoader, EpochsAutoEncoder = 30, EpochsModel = 30, Device=\"cuda\", Verbose=0)"
   ]
  },
  {
   "cell_type": "code",
   "execution_count": 16,
   "id": "2b633f9c",
   "metadata": {},
   "outputs": [
    {
     "name": "stderr",
     "output_type": "stream",
     "text": [
      "100%|██████████| 30/30 [02:17<00:00,  4.59s/it]\n",
      "100%|██████████| 30/30 [02:04<00:00,  4.17s/it]\n"
     ]
    }
   ],
   "source": [
    "CurrentModel = GRUModel(NbFeatures, 12).to(Device)\n",
    "Model_EnsembleInputSqueezing = DefenseTool.EnsembleInputSqueezing(CurrentModel, TrainLoader, ValidationLoader, TestLoader, Epochs = 30, Device=\"cuda\", Verbose=0, MaxCoefficient=2)\n",
    "\n",
    "CurrentModel = GRUModel(NbFeatures, 12).to(Device)\n",
    "Model_InputSqueezing = DefenseTool.InputSqueezing(CurrentModel, TrainLoader, ValidationLoader, TestLoader, Epochs = 30, Coefficient = 0.1, Device=\"cuda\",  Verbose=0)"
   ]
  },
  {
   "cell_type": "code",
   "execution_count": 17,
   "id": "f2ebb35a",
   "metadata": {},
   "outputs": [
    {
     "name": "stderr",
     "output_type": "stream",
     "text": [
      "100%|██████████| 30/30 [02:10<00:00,  4.35s/it]\n"
     ]
    }
   ],
   "source": [
    "AttackParameters = {\n",
    "        \"Epsilon\": 0.01\n",
    "    }\n",
    "\n",
    "CurrentModel = GRUModel(NbFeatures, 12).to(Device)\n",
    "DetectionModel = DefenseTool.GenerateDetectionModel(CurrentModel, TrainLoader, ValidationLoader, Device=\"cuda\", Epochs = 30, LearningRate = 0.001,AttackParameters=AttackParameters, AdversarialMethod=\"Fgsm\", Verbose=0)"
   ]
  },
  {
   "cell_type": "code",
   "execution_count": 18,
   "id": "00c2fd5b",
   "metadata": {},
   "outputs": [
    {
     "name": "stderr",
     "output_type": "stream",
     "text": [
      "100%|██████████| 30/30 [01:58<00:00,  3.96s/it]\n"
     ]
    }
   ],
   "source": [
    "Model_Distillation = DefenseTool.DefensiveDistillation(MyGRUModel, TrainLoader, ValidationLoader, TestLoader, Epochs = 30, Device=\"cuda\", Verbose=0)"
   ]
  },
  {
   "cell_type": "code",
   "execution_count": 19,
   "id": "435ffa58",
   "metadata": {},
   "outputs": [],
   "source": [
    "RFModel, XGBModel = DefenseTool.EnsembleMethods(TrainLoader, ValidationLoader, TestLoader)"
   ]
  },
  {
   "cell_type": "code",
   "execution_count": 33,
   "id": "c3377d63",
   "metadata": {},
   "outputs": [
    {
     "name": "stdout",
     "output_type": "stream",
     "text": [
      "Classicial : RMSE:14.36\n",
      "Adversarial training FGSM: RMSE:20.37\n",
      "Adversarial training BIM: RMSE:22.51\n",
      "Adversarial training CW: RMSE:22.22\n",
      "Ensemble squeezing : RMSE:21.41\n",
      "Squeezing: RMSE:17.92\n",
      "Randomization: RMSE:14.53\n",
      "AutoEncoder: RMSE:18.94\n",
      "Distillation: RMSE:15.71\n",
      "Detection rate: RMSE  0.0\n",
      "Random Forest test RMSE: 14.16\n",
      "XGB RMSE: 16.95\n"
     ]
    }
   ],
   "source": [
    "mse, l1, Rrmse, y_pred_rnn, y = UtilsTool.TestModel(MyGRUModel, TestLoader, Device)\n",
    "print(f'Classicial : RMSE:{round(Rrmse,2)}')\n",
    "\n",
    "mse, l1, Rrmse, y_pred_rnn, y = UtilsTool.TestModel(Model_AdvTrainingFgsm, TestLoader, Device)\n",
    "print(f'Adversarial training FGSM: RMSE:{round(Rrmse,2)}')\n",
    "\n",
    "mse, l1, Rrmse, y_pred_rnn, y = UtilsTool.TestModel(Model_AdvTrainingBim, TestLoader, Device)\n",
    "print(f'Adversarial training BIM: RMSE:{round(Rrmse,2)}')\n",
    "\n",
    "mse, l1, Rrmse, y_pred_rnn, y = UtilsTool.TestModel(Model_AdvTrainingCw, TestLoader, Device)\n",
    "print(f'Adversarial training CW: RMSE:{round(Rrmse,2)}')\n",
    "\n",
    "mse, l1, Rrmse, y_pred_rnn, y = UtilsTool.TestModel(Model_EnsembleInputSqueezing, TestLoader, Device)\n",
    "print(f'Ensemble squeezing : RMSE:{round(Rrmse,2)}')\n",
    "\n",
    "mse, l1, Rrmse, y_pred_rnn, y = UtilsTool.TestModel(Model_InputSqueezing, TestLoader, Device)\n",
    "print(f'Squeezing: RMSE:{round(Rrmse,2)}')\n",
    "\n",
    "mse, l1, Rrmse, y_pred_rnn, y = UtilsTool.TestModel(Model_InputRandomization, TestLoader, Device)\n",
    "print(f'Randomization: RMSE:{round(Rrmse,2)}')\n",
    "\n",
    "mse, l1, Rrmse, y_pred_rnn, y = UtilsTool.TestModel(Model_InputPurificationAutoEncoder, TestLoader, Device)\n",
    "print(f'AutoEncoder: RMSE:{round(Rrmse,2)}')\n",
    "\n",
    "mse, l1, Rrmse, y_pred_rnn, y = UtilsTool.TestModel(Model_Distillation, TestLoader, Device)\n",
    "print(f'Distillation: RMSE:{round(Rrmse,2)}')\n",
    "\n",
    "DetectionRate = torch.round(DetectionModel(X.float())).sum()/len(X.float())\n",
    "print(\"Detection rate: RMSE \", DetectionRate.item())\n",
    "\n",
    "X_test, y_test = UtilsTool.DataLoaderToNumpy(TestLoader)\n",
    "XTest = UtilsTool.Flatten_sequences(X.cpu().numpy())\n",
    "MyRMSE = np.sqrt(mean_squared_error(RFModel.predict(XTest), y_test))\n",
    "print(f'Random Forest test RMSE: {MyRMSE:.2f}')\n",
    "\n",
    "X_test, y_test = UtilsTool.DataLoaderToNumpy(TestLoader)\n",
    "XTest = UtilsTool.Flatten_sequences(X.cpu().numpy())\n",
    "MyRMSE = np.sqrt(mean_squared_error(XGBModel.predict(XTest), y_test))\n",
    "print(f'XGB RMSE: {MyRMSE:.2f}')"
   ]
  },
  {
   "cell_type": "code",
   "execution_count": 34,
   "id": "768eeb30",
   "metadata": {},
   "outputs": [
    {
     "name": "stdout",
     "output_type": "stream",
     "text": [
      "Classical\n",
      "0 RMSE  14.36225414276123\n",
      "1 RMSE  29.44731903076172\n",
      "2 RMSE  31.117568969726562\n",
      "3 RMSE  53.595619201660156\n",
      "\n",
      "Model_AdvTrainingFgsm\n",
      "0 RMSE  20.369470596313477\n",
      "1 RMSE  16.026695251464844\n",
      "2 RMSE  16.071840286254883\n",
      "3 RMSE  24.9797306060791\n",
      "\n",
      "Model_AdvTrainingBim\n",
      "0 RMSE  22.51228141784668\n",
      "1 RMSE  19.993263244628906\n",
      "2 RMSE  19.9820556640625\n",
      "3 RMSE  23.448793411254883\n",
      "\n",
      "Model_AdvTrainingCw\n",
      "0 RMSE  22.223268508911133\n",
      "1 RMSE  22.12845230102539\n",
      "2 RMSE  21.922340393066406\n",
      "3 RMSE  20.174945831298828\n",
      "\n",
      "Model_EnsembleInputSqueezing\n",
      "0 RMSE  21.41400146484375\n",
      "1 RMSE  21.694990158081055\n",
      "2 RMSE  21.696256637573242\n",
      "3 RMSE  29.076948165893555\n",
      "\n",
      "Model_InputSqueezing\n",
      "0 RMSE  17.922433853149414\n",
      "1 RMSE  28.179719924926758\n",
      "2 RMSE  27.568754196166992\n",
      "3 RMSE  38.082637786865234\n",
      "\n",
      "Model_InputRandomization\n",
      "0 RMSE  17.019573211669922\n",
      "1 RMSE  27.910348892211914\n",
      "2 RMSE  26.116485595703125\n",
      "3 RMSE  35.74281692504883\n",
      "\n",
      "Model_InputPurificationAutoEncoder\n",
      "0 RMSE  18.94183921813965\n",
      "1 RMSE  18.371000289916992\n",
      "2 RMSE  19.21048355102539\n",
      "3 RMSE  23.501197814941406\n",
      "\n",
      "Model_Distillation\n",
      "0 RMSE  15.711506843566895\n",
      "1 RMSE  25.318584442138672\n",
      "2 RMSE  24.925277709960938\n",
      "3 RMSE  39.918060302734375\n",
      "\n",
      "0 Detection rate 0.0\n",
      "1 Detection rate 1.0\n",
      "2 Detection rate 1.0\n",
      "3 Detection rate 0.06493506580591202\n",
      "\n",
      "XFG\n",
      "0 RMSE  16.952824\n",
      "1 RMSE  21.592035\n",
      "2 RMSE  21.464003\n",
      "3 RMSE  43.892372\n",
      "\n",
      "RF\n",
      "0 RMSE  14.159189434941021\n",
      "1 RMSE  13.5481549038495\n",
      "2 RMSE  13.659485025755222\n",
      "3 RMSE  28.91408478062722\n",
      "\n"
     ]
    }
   ],
   "source": [
    "AdversarialExamples = [X, GRUAdversarialDataFgsm, GRUAdversarialDataBim, GRUAdversarialDataCW]\n",
    "Models = [MyGRUModel, Model_AdvTrainingFgsm, Model_AdvTrainingBim, Model_AdvTrainingCw, Model_EnsembleInputSqueezing, Model_InputSqueezing, Model_InputRandomization, Model_InputPurificationAutoEncoder, Model_Distillation]\n",
    "ModelsName = [\"Classical\", \"Model_AdvTrainingFgsm\", \"Model_AdvTrainingBim\", \"Model_AdvTrainingCw\", \"Model_EnsembleInputSqueezing\", \"Model_InputSqueezing\", \"Model_InputRandomization\", \"Model_InputPurificationAutoEncoder\", \"Model_Distillation\"]\n",
    "EnsemblModels = [XGBModel, RFModel]\n",
    "EnsemblModelsName = [ \"XFG\", \"RF\"]\n",
    "\n",
    "UtilsTool.DisplayRMSEAll(Models, ModelsName, AdversarialExamples, y)\n",
    "UtilsTool.DisplayDetection(DetectionModel, AdversarialExamples)\n",
    "UtilsTool.DisplayEnsembleModels(EnsemblModels, EnsemblModelsName, AdversarialExamples, y)"
   ]
  },
  {
   "cell_type": "code",
   "execution_count": 22,
   "id": "f79041ad",
   "metadata": {},
   "outputs": [
    {
     "name": "stdout",
     "output_type": "stream",
     "text": [
      "Classical Model\n",
      "FGSM: {'RealRUL': 64.4935073852539, 'Objective': 0, 'PredRUL': 44.0766487121582, 'RMSE_adversarial': 0.0092728640884161, 'RMSE_pred': 27.123380661010742}\n",
      "BIM: {'RealRUL': 64.4935073852539, 'Objective': 0, 'PredRUL': 42.32912826538086, 'RMSE_adversarial': 0.009346951730549335, 'RMSE_pred': 29.091541290283203}\n",
      "CW: {'RealRUL': 64.4935073852539, 'Objective': 0, 'PredRUL': 22.986116409301758, 'RMSE_adversarial': 0.011925701051950455, 'RMSE_pred': 53.595619201660156}\n",
      "\n",
      "Adversarial Model FGSM\n",
      "FGSM: {'RealRUL': 64.4935073852539, 'Objective': 0, 'PredRUL': 64.70822143554688, 'RMSE_adversarial': 0.008275505155324936, 'RMSE_pred': 16.089548110961914}\n",
      "BIM: {'RealRUL': 64.4935073852539, 'Objective': 0, 'PredRUL': 63.73583984375, 'RMSE_adversarial': 0.00816867034882307, 'RMSE_pred': 16.298864364624023}\n",
      "CW: {'RealRUL': 64.4935073852539, 'Objective': 0, 'PredRUL': 24.760828018188477, 'RMSE_adversarial': 0.013250578194856644, 'RMSE_pred': 53.43511199951172}\n",
      "\n",
      "Adversarial Model BIM\n",
      "FGSM: {'RealRUL': 64.4935073852539, 'Objective': 0, 'PredRUL': 71.73133087158203, 'RMSE_adversarial': 0.008377172984182835, 'RMSE_pred': 18.58905792236328}\n",
      "BIM: {'RealRUL': 64.4935073852539, 'Objective': 0, 'PredRUL': 71.65093231201172, 'RMSE_adversarial': 0.0069903102703392506, 'RMSE_pred': 17.666170120239258}\n",
      "CW: {'RealRUL': 64.4935073852539, 'Objective': 0, 'PredRUL': 31.826204299926758, 'RMSE_adversarial': 0.015524962916970253, 'RMSE_pred': 45.06593704223633}\n",
      "\n",
      "Adversarial Model CW\n",
      "FGSM: {'RealRUL': 64.4935073852539, 'Objective': 0, 'PredRUL': 75.20551300048828, 'RMSE_adversarial': 0.008253570646047592, 'RMSE_pred': 22.17995262145996}\n",
      "BIM: {'RealRUL': 64.4935073852539, 'Objective': 0, 'PredRUL': 74.880615234375, 'RMSE_adversarial': 0.008332917466759682, 'RMSE_pred': 21.97747230529785}\n",
      "CW: {'RealRUL': 64.4935073852539, 'Objective': 0, 'PredRUL': 58.204368591308594, 'RMSE_adversarial': 0.019715167582035065, 'RMSE_pred': 19.299571990966797}\n",
      "\n",
      "Adversarial Model Ensemble squeezing\n",
      "FGSM: {'RealRUL': 64.4935073852539, 'Objective': 0, 'PredRUL': 68.40690612792969, 'RMSE_adversarial': 7.740424189250916e-05, 'RMSE_pred': 21.41400146484375}\n",
      "BIM: {'RealRUL': 64.4935073852539, 'Objective': 0, 'PredRUL': 68.40690612792969, 'RMSE_adversarial': 7.740424189250916e-05, 'RMSE_pred': 21.41400146484375}\n",
      "CW: {'RealRUL': 64.4935073852539, 'Objective': 0, 'PredRUL': 68.40690612792969, 'RMSE_adversarial': 7.740424189250916e-05, 'RMSE_pred': 21.41400146484375}\n",
      "\n",
      "Adversarial Model squeezing\n",
      "FGSM: {'RealRUL': 64.4935073852539, 'Objective': 0, 'PredRUL': 66.541015625, 'RMSE_adversarial': 7.740424189250916e-05, 'RMSE_pred': 17.922433853149414}\n",
      "BIM: {'RealRUL': 64.4935073852539, 'Objective': 0, 'PredRUL': 66.541015625, 'RMSE_adversarial': 7.740424189250916e-05, 'RMSE_pred': 17.922433853149414}\n",
      "CW: {'RealRUL': 64.4935073852539, 'Objective': 0, 'PredRUL': 66.541015625, 'RMSE_adversarial': 7.740424189250916e-05, 'RMSE_pred': 17.922433853149414}\n",
      "\n",
      "Adversarial Distillation\n",
      "FGSM: {'RealRUL': 64.4935073852539, 'Objective': 0, 'PredRUL': 44.1403694152832, 'RMSE_adversarial': 0.011083860881626606, 'RMSE_pred': 27.013961791992188}\n",
      "BIM: {'RealRUL': 64.4935073852539, 'Objective': 0, 'PredRUL': 43.69770812988281, 'RMSE_adversarial': 0.010804343037307262, 'RMSE_pred': 27.499094009399414}\n",
      "CW: {'RealRUL': 64.4935073852539, 'Objective': 0, 'PredRUL': 25.147098541259766, 'RMSE_adversarial': 0.011145418509840965, 'RMSE_pred': 50.368553161621094}\n",
      "\n",
      "Adversarial Randomization\n",
      "FGSM: {'RealRUL': 64.4935073852539, 'Objective': 0, 'PredRUL': 43.57328796386719, 'RMSE_adversarial': 0.009658453054726124, 'RMSE_pred': 27.607765197753906}\n",
      "BIM: {'RealRUL': 64.4935073852539, 'Objective': 0, 'PredRUL': 39.237545013427734, 'RMSE_adversarial': 0.011218735948204994, 'RMSE_pred': 32.25431823730469}\n",
      "CW: {'RealRUL': 64.4935073852539, 'Objective': 0, 'PredRUL': 36.84201431274414, 'RMSE_adversarial': 0.008240784518420696, 'RMSE_pred': 38.644378662109375}\n",
      "\n",
      "Adversarial Autoencoder\n",
      "FGSM: {'RealRUL': 64.4935073852539, 'Objective': 0, 'PredRUL': 47.682071685791016, 'RMSE_adversarial': 0.010888410732150078, 'RMSE_pred': 23.153152465820312}\n",
      "BIM: {'RealRUL': 64.4935073852539, 'Objective': 0, 'PredRUL': 47.41862869262695, 'RMSE_adversarial': 0.010135436430573463, 'RMSE_pred': 23.244747161865234}\n",
      "CW: {'RealRUL': 64.4935073852539, 'Objective': 0, 'PredRUL': 40.85966873168945, 'RMSE_adversarial': 0.009059026837348938, 'RMSE_pred': 34.821449279785156}\n"
     ]
    }
   ],
   "source": [
    "AttacksParameters = {\n",
    "    \"FGSM\": {\n",
    "        \"Objective\": 300,\n",
    "        \"Epsilon\": 0.010\n",
    "    },\n",
    "    \"BIM\": {\n",
    "        \"Objective\": 300,\n",
    "        \"Iterations\": 105,\n",
    "        \"Epsilon\": 0.0001\n",
    "    },\n",
    "    \"CW\": {\n",
    "        \"Objective\": 0,\n",
    "        \"Iterations\": 1000,\n",
    "        \"LearningRate\": 0.01,\n",
    "        \"c\": 0.0000002,\n",
    "    }\n",
    "}\n",
    "print(\"Classical Model\")\n",
    "_, _, _ = AttacksTool.TestAttacks(MyGRUModel, X, y, AttacksParameters, Device = Device)\n",
    "print()\n",
    "print(\"Adversarial Model FGSM\")\n",
    "_, _, _ = AttacksTool.TestAttacks(Model_AdvTrainingFgsm, X, y, AttacksParameters, Device = Device)\n",
    "print()\n",
    "print(\"Adversarial Model BIM\")\n",
    "_, _, _ = AttacksTool.TestAttacks(Model_AdvTrainingBim, X, y, AttacksParameters, Device = Device)\n",
    "print()\n",
    "print(\"Adversarial Model CW\")\n",
    "_, _, _ = AttacksTool.TestAttacks(Model_AdvTrainingCw, X, y, AttacksParameters, Device = Device)\n",
    "print()\n",
    "print(\"Adversarial Model Ensemble squeezing\")\n",
    "_, _, _ = AttacksTool.TestAttacks(Model_EnsembleInputSqueezing, X, y, AttacksParameters, Device = Device)\n",
    "print()\n",
    "print(\"Adversarial Model squeezing\")\n",
    "_, _, _ = AttacksTool.TestAttacks(Model_InputSqueezing, X, y, AttacksParameters, Device = Device)\n",
    "print()\n",
    "\n",
    "AttacksParameters = {\n",
    "    \"FGSM\": {\n",
    "        \"Objective\": 300,\n",
    "        \"Epsilon\": 0.012\n",
    "    },\n",
    "    \"BIM\": {\n",
    "        \"Objective\": 300,\n",
    "        \"Iterations\": 120,\n",
    "        \"Epsilon\": 0.0001\n",
    "    },\n",
    "    \"CW\": {\n",
    "        \"Objective\": 0,\n",
    "        \"Iterations\": 1000,\n",
    "        \"LearningRate\": 0.01,\n",
    "        \"c\": 0.00000015,\n",
    "    }\n",
    "}\n",
    "\n",
    "print(\"Adversarial Distillation\")\n",
    "_, _, _ = AttacksTool.TestAttacks(Model_Distillation, X, y, AttacksParameters, Device = Device)\n",
    "print()\n",
    "\n",
    "AttacksParameters = {\n",
    "    \"FGSM\": {\n",
    "        \"Objective\": 300,\n",
    "        \"Epsilon\": 0.011\n",
    "    },\n",
    "    \"BIM\": {\n",
    "        \"Objective\": 300,\n",
    "        \"Iterations\": 140,\n",
    "        \"Epsilon\": 0.0001\n",
    "    },\n",
    "    \"CW\": {\n",
    "        \"Objective\": 0,\n",
    "        \"Iterations\": 1000,\n",
    "        \"LearningRate\": 0.01,\n",
    "        \"c\": 0.00000007,\n",
    "    }\n",
    "}\n",
    "print(\"Adversarial Randomization\")\n",
    "_, _, _ = AttacksTool.TestAttacks(Model_InputRandomization, X, y, AttacksParameters, Device = Device)\n",
    "print()\n",
    "AttacksParameters = {\n",
    "    \"FGSM\": {\n",
    "        \"Objective\": 300,\n",
    "        \"Epsilon\": 0.012\n",
    "    },\n",
    "    \"BIM\": {\n",
    "        \"Objective\": 300,\n",
    "        \"Iterations\": 130,\n",
    "        \"Epsilon\": 0.00009\n",
    "    },\n",
    "    \"CW\": {\n",
    "        \"Objective\": 0,\n",
    "        \"Iterations\": 1000,\n",
    "        \"LearningRate\": 0.01,\n",
    "        \"c\": 0.00000009,\n",
    "    }\n",
    "}\n",
    "print(\"Adversarial Autoencoder\")\n",
    "_, _, _ = AttacksTool.TestAttacks(Model_InputPurificationAutoEncoder, X, y, AttacksParameters, Device = Device)"
   ]
  },
  {
   "cell_type": "code",
   "execution_count": 23,
   "id": "47c1d828",
   "metadata": {},
   "outputs": [
    {
     "name": "stderr",
     "output_type": "stream",
     "text": [
      "100%|██████████| 100/100 [04:56<00:00,  2.97s/it]\n",
      "100%|██████████| 30/30 [02:37<00:00,  5.26s/it]\n"
     ]
    }
   ],
   "source": [
    "SurrogateModelXGB = AttacksTool.CreateSurrogateModel(XGBModel, Epochs = 100, Device = \"cuda\", Verbose = 0)\n",
    "SurrogateModelRF = AttacksTool.CreateSurrogateModel(RFModel, Epochs = 30, Device = \"cuda\", Verbose = 0)"
   ]
  },
  {
   "cell_type": "code",
   "execution_count": 24,
   "id": "fbcd9ad2",
   "metadata": {},
   "outputs": [
    {
     "name": "stdout",
     "output_type": "stream",
     "text": [
      "FGSM: {'RealRUL': 64.4935073852539, 'Objective': 0, 'PredRUL': 99.42424011230469, 'RMSE_adversarial': 0.011052585206925869, 'RMSE_pred': 41.838844299316406}\n",
      "BIM: {'RealRUL': 64.4935073852539, 'Objective': 0, 'PredRUL': 99.5365219116211, 'RMSE_adversarial': 0.010664956644177437, 'RMSE_pred': 41.92062759399414}\n",
      "CW: {'RealRUL': 64.4935073852539, 'Objective': 0, 'PredRUL': 66.63797760009766, 'RMSE_adversarial': 0.011023596860468388, 'RMSE_pred': 31.324317932128906}\n",
      "XFG\n",
      "0 RMSE  16.952824\n",
      "1 RMSE  21.592035\n",
      "2 RMSE  21.464003\n",
      "3 RMSE  43.892372\n",
      "4 RMSE  18.847664\n",
      "5 RMSE  18.313028\n",
      "6 RMSE  48.79011\n",
      "\n",
      "FGSM: {'RealRUL': 64.4935073852539, 'Objective': 0, 'PredRUL': 87.1653823852539, 'RMSE_adversarial': 0.010904734022915363, 'RMSE_pred': 30.609468460083008}\n",
      "BIM: {'RealRUL': 64.4935073852539, 'Objective': 0, 'PredRUL': 87.27487182617188, 'RMSE_adversarial': 0.010515548288822174, 'RMSE_pred': 30.70024299621582}\n",
      "CW: {'RealRUL': 64.4935073852539, 'Objective': 0, 'PredRUL': 33.564186096191406, 'RMSE_adversarial': 0.008178489282727242, 'RMSE_pred': 46.168174743652344}\n",
      "RF\n",
      "0 RMSE  14.159189434941021\n",
      "1 RMSE  13.5481549038495\n",
      "2 RMSE  13.659485025755222\n",
      "3 RMSE  28.91408478062722\n",
      "4 RMSE  13.612125562808417\n",
      "5 RMSE  13.712292901749752\n",
      "6 RMSE  43.16655108376777\n",
      "\n"
     ]
    }
   ],
   "source": [
    "AttacksParameters = {\n",
    "    \"FGSM\": {\n",
    "        \"Objective\": 300,\n",
    "        \"Epsilon\": 0.012\n",
    "    },\n",
    "    \"BIM\": {\n",
    "        \"Objective\": 300,\n",
    "        \"Iterations\": 130,\n",
    "        \"Epsilon\": 0.00009\n",
    "    },\n",
    "    \"CW\": {\n",
    "        \"Objective\": 0,\n",
    "        \"Iterations\": 1000,\n",
    "        \"LearningRate\": 0.01,\n",
    "        \"c\": 0.00000009,\n",
    "    }\n",
    "}\n",
    "A, B, C = AttacksTool.TestAttacks(SurrogateModelXGB, X, y, AttacksParameters, Device = Device)\n",
    "AdversarialExamples = [X, GRUAdversarialDataFgsm, GRUAdversarialDataBim, GRUAdversarialDataCW, A, B, C]\n",
    "EnsemblModels = [XGBModel]\n",
    "EnsemblModelNames = [\"XGBModel\"]\n",
    "UtilsTool.DisplayEnsembleModels(EnsemblModels, EnsemblModelsName, AdversarialExamples, y)\n",
    "\n",
    "AttacksParameters = {\n",
    "    \"FGSM\": {\n",
    "        \"Objective\": 300,\n",
    "        \"Epsilon\": 0.012\n",
    "    },\n",
    "    \"BIM\": {\n",
    "        \"Objective\": 300,\n",
    "        \"Iterations\": 130,\n",
    "        \"Epsilon\": 0.00009\n",
    "    },\n",
    "    \"CW\": {\n",
    "        \"Objective\": 0,\n",
    "        \"Iterations\": 1000,\n",
    "        \"LearningRate\": 0.01,\n",
    "        \"c\": 0.00000009,\n",
    "    }\n",
    "}\n",
    "A, B, C = AttacksTool.TestAttacks(SurrogateModelRF, X, y, AttacksParameters, Device = Device)\n",
    "AdversarialExamples = [X, GRUAdversarialDataFgsm, GRUAdversarialDataBim, GRUAdversarialDataCW, A, B, C]\n",
    "EnsemblModels = [RFModel]\n",
    "EnsemblModelNames = [\"RF\"]\n",
    "UtilsTool.DisplayEnsembleModels(EnsemblModels, EnsemblModelNames, AdversarialExamples, y)"
   ]
  },
  {
   "cell_type": "code",
   "execution_count": 35,
   "id": "cfa5b179",
   "metadata": {},
   "outputs": [
    {
     "name": "stderr",
     "output_type": "stream",
     "text": [
      " 88%|████████▊ | 265/300 [1:01:55<08:02, 13.79s/it]"
     ]
    }
   ],
   "source": [
    "#SurrogateSqueezing = AttacksTool.CreateSurrogateModelSqueezing(Model_InputSqueezing, Epochs = 300, LearningRate=0.01, Device =\"cuda\", Verbose = 0)\n",
    "SurrogateSqueezing2 = AttacksTool.CreateSurrogateModelSqueezing(Model_EnsembleInputSqueezing, Epochs = 300, LearningRate=0.001, Device = \"cuda\", Verbose = 0)"
   ]
  },
  {
   "cell_type": "code",
   "execution_count": null,
   "id": "c51e4cf7",
   "metadata": {},
   "outputs": [
    {
     "name": "stdout",
     "output_type": "stream",
     "text": [
      "FGSM: {'RealRUL': 64.4935073852539, 'Objective': 0, 'PredRUL': 91.16725158691406, 'RMSE_adversarial': 0.010865531861782074, 'RMSE_pred': 39.140316009521484}\n",
      "BIM: {'RealRUL': 64.4935073852539, 'Objective': 0, 'PredRUL': 88.52751159667969, 'RMSE_adversarial': 0.011064878664910793, 'RMSE_pred': 37.43061447143555}\n",
      "CW: {'RealRUL': 64.4935073852539, 'Objective': 0, 'PredRUL': 0.4576401114463806, 'RMSE_adversarial': 0.05241324380040169, 'RMSE_pred': 75.5243911743164}\n",
      "Model_EnsembleInputSqueezing\n",
      "0 RMSE  21.41400146484375\n",
      "1 RMSE  21.694990158081055\n",
      "2 RMSE  21.696256637573242\n",
      "3 RMSE  29.076948165893555\n",
      "4 RMSE  21.515195846557617\n",
      "5 RMSE  21.366626739501953\n",
      "6 RMSE  61.627342224121094\n",
      "\n",
      "FGSM: {'RealRUL': 64.4935073852539, 'Objective': 0, 'PredRUL': 29.176677703857422, 'RMSE_adversarial': 0.01084749773144722, 'RMSE_pred': 50.749698638916016}\n",
      "BIM: {'RealRUL': 64.4935073852539, 'Objective': 0, 'PredRUL': 29.205724716186523, 'RMSE_adversarial': 0.01028687134385109, 'RMSE_pred': 50.717586517333984}\n",
      "CW: {'RealRUL': 64.4935073852539, 'Objective': 0, 'PredRUL': 0.9287999272346497, 'RMSE_adversarial': 0.017600564286112785, 'RMSE_pred': 75.23416137695312}\n",
      "Model_InputSqueezing\n",
      "0 RMSE  17.922433853149414\n",
      "1 RMSE  28.179719924926758\n",
      "2 RMSE  27.568754196166992\n",
      "3 RMSE  38.082637786865234\n",
      "4 RMSE  19.412124633789062\n",
      "5 RMSE  19.072317123413086\n",
      "6 RMSE  22.133649826049805\n",
      "\n"
     ]
    }
   ],
   "source": [
    "AttacksParameters = {\n",
    "    \"FGSM\": {\n",
    "        \"Objective\": 300,\n",
    "        \"Epsilon\": 0.012\n",
    "    },\n",
    "    \"BIM\": {\n",
    "        \"Objective\": 300,\n",
    "        \"Iterations\": 130,\n",
    "        \"Epsilon\": 0.0001\n",
    "    },\n",
    "    \"CW\": {\n",
    "        \"Objective\": 0,\n",
    "        \"Iterations\": 1000,\n",
    "        \"LearningRate\": 0.01,\n",
    "        \"c\": 0.0003,\n",
    "    }\n",
    "}\n",
    "\n",
    "A, B, C = AttacksTool.TestAttacks(SurrogateSqueezing, X, y, AttacksParameters, Device = Device)\n",
    "AdversarialExamples = [X, GRUAdversarialDataFgsm, GRUAdversarialDataBim, GRUAdversarialDataCW, A, B, C]\n",
    "Models = [Model_EnsembleInputSqueezing]\n",
    "ModelsName = [\"Model_EnsembleInputSqueezing\"]\n",
    "UtilsTool.DisplayRMSEAll(Models, ModelsName, AdversarialExamples, y)\n",
    "\n",
    "\n",
    "AttacksParameters = {\n",
    "    \"FGSM\": {\n",
    "        \"Objective\": 300,\n",
    "        \"Epsilon\": 0.012\n",
    "    },\n",
    "    \"BIM\": {\n",
    "        \"Objective\": 300,\n",
    "        \"Iterations\": 130,\n",
    "        \"Epsilon\": 0.00009\n",
    "    },\n",
    "    \"CW\": {\n",
    "        \"Objective\": 0,\n",
    "        \"Iterations\": 1000,\n",
    "        \"LearningRate\": 0.01,\n",
    "        \"c\": 0.00002,\n",
    "    }\n",
    "}\n",
    "A, B, C = AttacksTool.TestAttacks(SurrogateSqueezing2, X, y, AttacksParameters, Device = Device)\n",
    "AdversarialExamples = [X, GRUAdversarialDataFgsm, GRUAdversarialDataBim, GRUAdversarialDataCW, A, B, C]\n",
    "Models = [Model_InputSqueezing]\n",
    "ModelsName = [\"Model_InputSqueezing\"]\n",
    "UtilsTool.DisplayRMSEAll(Models, ModelsName, AdversarialExamples, y)"
   ]
  },
  {
   "cell_type": "code",
   "execution_count": 27,
   "id": "b9e5f241",
   "metadata": {},
   "outputs": [
    {
     "name": "stderr",
     "output_type": "stream",
     "text": [
      "  0%|          | 0/1000 [00:00<?, ?it/s]/home/pierre/.local/lib/python3.10/site-packages/torch/nn/modules/loss.py:535: UserWarning: Using a target size (torch.Size([])) that is different to the input size (torch.Size([77])). This will likely lead to incorrect results due to broadcasting. Please ensure they have the same size.\n",
      "  return F.mse_loss(input, target, reduction=self.reduction)\n",
      "100%|██████████| 1000/1000 [00:01<00:00, 613.41it/s]"
     ]
    },
    {
     "name": "stdout",
     "output_type": "stream",
     "text": [
      "RMSE: 0.012999294977453951\n",
      "RMSE: 33.495845794677734\n",
      "0 Detection rate 0.0\n",
      "\n"
     ]
    },
    {
     "name": "stderr",
     "output_type": "stream",
     "text": [
      "\n"
     ]
    }
   ],
   "source": [
    "Adv = AttacksTool.CwAttackDetection(MyGRUModel, DetectionModel, X, y, LearningRate= 0.00002, c = 1, d = 10000, Device = \"cuda\", Verbose =0)\n",
    "mse = torch.mean((Adv - X) ** 2)\n",
    "rmse = torch.sqrt(mse)\n",
    "print(f\"RMSE: {rmse.item()}\")\n",
    "\n",
    "mse = torch.mean((MyGRUModel(Adv) - y) ** 2)\n",
    "rmse = torch.sqrt(mse)\n",
    "print(f\"RMSE: {rmse.item()}\")\n",
    "UtilsTool.DisplayDetection(DetectionModel, [Adv])"
   ]
  }
 ],
 "metadata": {
  "kernelspec": {
   "display_name": "Python 3 (ipykernel)",
   "language": "python",
   "name": "python3"
  },
  "language_info": {
   "codemirror_mode": {
    "name": "ipython",
    "version": 3
   },
   "file_extension": ".py",
   "mimetype": "text/x-python",
   "name": "python",
   "nbconvert_exporter": "python",
   "pygments_lexer": "ipython3",
   "version": "3.10.12"
  },
  "papermill": {
   "default_parameters": {},
   "duration": 1671.427631,
   "end_time": "2022-11-23T16:08:50.145405",
   "environment_variables": {},
   "exception": null,
   "input_path": "__notebook__.ipynb",
   "output_path": "__notebook__.ipynb",
   "parameters": {},
   "start_time": "2022-11-23T15:40:58.717774",
   "version": "2.3.4"
  }
 },
 "nbformat": 4,
 "nbformat_minor": 5
}
