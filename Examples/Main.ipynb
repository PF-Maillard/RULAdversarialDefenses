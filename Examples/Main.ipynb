{
 "cells": [
  {
   "cell_type": "code",
   "execution_count": 1,
   "id": "b10920c7",
   "metadata": {
    "execution": {
     "iopub.execute_input": "2022-11-23T15:41:07.424260Z",
     "iopub.status.busy": "2022-11-23T15:41:07.423547Z",
     "iopub.status.idle": "2022-11-23T15:41:09.327810Z",
     "shell.execute_reply": "2022-11-23T15:41:09.326355Z"
    },
    "papermill": {
     "duration": 1.918804,
     "end_time": "2022-11-23T15:41:09.331049",
     "exception": false,
     "start_time": "2022-11-23T15:41:07.412245",
     "status": "completed"
    },
    "tags": []
   },
   "outputs": [],
   "source": [
    "from os import listdir\n",
    "import pandas as pd\n",
    "import numpy as np\n",
    "from sklearn.metrics import mean_squared_error\n",
    "\n",
    "import torch\n",
    "from torch.utils.data import DataLoader\n",
    "\n",
    "import Sources.DataNasaFan as DataTool\n",
    "from Sources.ModelsNasaFan import RNNModel, GRUModel, LSTMModel\n",
    "\n",
    "import AdversarialRulLib.Utils as UtilsTool\n",
    "import AdversarialRulLib.Attacks as AttacksTool\n",
    "import AdversarialRulLib.Defense as DefenseTool"
   ]
  },
  {
   "cell_type": "code",
   "execution_count": 2,
   "id": "85000d04",
   "metadata": {},
   "outputs": [],
   "source": [
    "pd.set_option('display.max_columns', 50)\n",
    "pd.set_option('display.max_rows', 50)\n",
    "\n",
    "TrainMode = 0\n",
    "\n",
    "DatasetPath = 'DatasetNasaFan/'\n",
    "ModelPath = 'Models/'\n",
    "Window = 80"
   ]
  },
  {
   "cell_type": "code",
   "execution_count": 3,
   "id": "99a09448",
   "metadata": {},
   "outputs": [
    {
     "name": "stdout",
     "output_type": "stream",
     "text": [
      "Using device: cuda\n"
     ]
    }
   ],
   "source": [
    "Device = torch.device(\"cuda\" if torch.cuda.is_available() else \"cpu\")\n",
    "print(f\"Using device: {Device}\")"
   ]
  },
  {
   "cell_type": "code",
   "execution_count": 4,
   "id": "727cd407",
   "metadata": {
    "execution": {
     "iopub.execute_input": "2022-11-23T15:41:09.371162Z",
     "iopub.status.busy": "2022-11-23T15:41:09.369654Z",
     "iopub.status.idle": "2022-11-23T15:41:09.688330Z",
     "shell.execute_reply": "2022-11-23T15:41:09.687086Z"
    },
    "papermill": {
     "duration": 0.331643,
     "end_time": "2022-11-23T15:41:09.690880",
     "exception": false,
     "start_time": "2022-11-23T15:41:09.359237",
     "status": "completed"
    },
    "tags": []
   },
   "outputs": [],
   "source": [
    "listdir(DatasetPath)\n",
    "\n",
    "DfTrain = pd.read_csv(DatasetPath + 'train_FD001.txt', header = None, sep = ' ')\n",
    "DfTest = pd.read_csv(DatasetPath + 'test_FD001.txt', header = None, sep = ' ')\n",
    "RulTest = pd.read_csv(DatasetPath + 'RUL_FD001.txt', header = None)"
   ]
  },
  {
   "cell_type": "code",
   "execution_count": 5,
   "id": "b064a33d",
   "metadata": {
    "execution": {
     "iopub.execute_input": "2022-11-23T15:41:09.736166Z",
     "iopub.status.busy": "2022-11-23T15:41:09.735740Z",
     "iopub.status.idle": "2022-11-23T15:41:09.812797Z",
     "shell.execute_reply": "2022-11-23T15:41:09.811536Z"
    },
    "papermill": {
     "duration": 0.091155,
     "end_time": "2022-11-23T15:41:09.815373",
     "exception": false,
     "start_time": "2022-11-23T15:41:09.724218",
     "status": "completed"
    },
    "tags": []
   },
   "outputs": [],
   "source": [
    "DfTrain, DfTest, RulTest = DataTool.SetDatasets(DfTrain, DfTest, RulTest)"
   ]
  },
  {
   "cell_type": "code",
   "execution_count": 6,
   "id": "ea46a2d8",
   "metadata": {
    "execution": {
     "iopub.execute_input": "2022-11-23T15:41:14.752510Z",
     "iopub.status.busy": "2022-11-23T15:41:14.752105Z",
     "iopub.status.idle": "2022-11-23T15:41:14.816285Z",
     "shell.execute_reply": "2022-11-23T15:41:14.815113Z"
    },
    "papermill": {
     "duration": 0.091725,
     "end_time": "2022-11-23T15:41:14.819125",
     "exception": false,
     "start_time": "2022-11-23T15:41:14.727400",
     "status": "completed"
    },
    "tags": []
   },
   "outputs": [],
   "source": [
    "MinMaxDict = DataTool.GetMinMaxDictionnary(DfTrain)\n",
    "NdfTrain  = DataTool.NormalizeDataset(DfTrain, MinMaxDict)    \n",
    "NdfTest  = DataTool.NormalizeDataset(DfTest, MinMaxDict)   "
   ]
  },
  {
   "cell_type": "code",
   "execution_count": 7,
   "id": "a63fb82b",
   "metadata": {
    "execution": {
     "iopub.execute_input": "2022-11-23T15:41:20.981489Z",
     "iopub.status.busy": "2022-11-23T15:41:20.980892Z",
     "iopub.status.idle": "2022-11-23T15:41:20.987713Z",
     "shell.execute_reply": "2022-11-23T15:41:20.986262Z"
    },
    "papermill": {
     "duration": 0.044458,
     "end_time": "2022-11-23T15:41:20.990277",
     "exception": false,
     "start_time": "2022-11-23T15:41:20.945819",
     "status": "completed"
    },
    "tags": []
   },
   "outputs": [],
   "source": [
    "NbFeatures = len([c for c in NdfTrain.columns if 's' in c])"
   ]
  },
  {
   "cell_type": "code",
   "execution_count": 8,
   "id": "4c6b0dd4",
   "metadata": {
    "execution": {
     "iopub.execute_input": "2022-11-23T15:41:21.126530Z",
     "iopub.status.busy": "2022-11-23T15:41:21.125398Z",
     "iopub.status.idle": "2022-11-23T15:41:21.132885Z",
     "shell.execute_reply": "2022-11-23T15:41:21.131463Z"
    },
    "papermill": {
     "duration": 0.045,
     "end_time": "2022-11-23T15:41:21.135314",
     "exception": false,
     "start_time": "2022-11-23T15:41:21.090314",
     "status": "completed"
    },
    "tags": []
   },
   "outputs": [],
   "source": [
    "np.random.seed(5)\n",
    "torch.manual_seed(5)\n",
    "\n",
    "Units = np.arange(1,101)\n",
    "TrainUnits = list(np.random.choice(Units, 80, replace = False))\n",
    "ValUnits = list(set(Units) - set(TrainUnits))\n",
    "\n",
    "TrainData = NdfTrain[NdfTrain['unit'].isin(TrainUnits)].copy()\n",
    "ValData = NdfTrain[NdfTrain['unit'].isin(ValUnits)].copy()\n",
    "\n",
    "TrainIndices = list(TrainData[(TrainData['rul'] >= (Window - 1)) & (TrainData['time'] > 10)].index)\n",
    "ValIndices = list(ValData[(ValData['rul'] >= (Window - 1)) & (ValData['time'] > 10)].index)\n",
    "\n",
    "TrainDataset = DataTool.data(TrainIndices, NdfTrain, Window)\n",
    "ValidationDataset = DataTool.data(ValIndices, NdfTrain, Window)\n",
    "\n",
    "UnitBySize = NdfTest.groupby('unit')['time'].max().tolist()\n",
    "Units = []\n",
    "for i in range(len(UnitBySize)):\n",
    "    if UnitBySize[i] > Window:\n",
    "        Units.append(i+1)\n",
    "\n",
    "TestDataset = DataTool.test(NdfTest, Window)"
   ]
  },
  {
   "cell_type": "code",
   "execution_count": 9,
   "id": "d80622da",
   "metadata": {},
   "outputs": [
    {
     "name": "stdout",
     "output_type": "stream",
     "text": [
      "Train 9615\n",
      "Val 2116\n",
      "Test 77\n"
     ]
    }
   ],
   "source": [
    "print(\"Train\", len(TrainDataset))\n",
    "print(\"Val\", len(ValidationDataset))\n",
    "print(\"Test\", len(TestDataset))"
   ]
  },
  {
   "cell_type": "code",
   "execution_count": 10,
   "id": "8bc63df6",
   "metadata": {},
   "outputs": [],
   "source": [
    "TrainLoader = DataLoader(TrainDataset, batch_size = 64, shuffle = True)\n",
    "ValidationLoader = DataLoader(ValidationDataset, batch_size = len(ValIndices), shuffle = True)\n",
    "TestLoader = DataLoader(TestDataset, batch_size = 300)"
   ]
  },
  {
   "cell_type": "code",
   "execution_count": 11,
   "id": "2f17f2e2",
   "metadata": {
    "execution": {
     "iopub.execute_input": "2022-11-23T15:41:21.973759Z",
     "iopub.status.busy": "2022-11-23T15:41:21.972943Z",
     "iopub.status.idle": "2022-11-23T16:08:07.459582Z",
     "shell.execute_reply": "2022-11-23T16:08:07.458414Z"
    },
    "papermill": {
     "duration": 1605.563583,
     "end_time": "2022-11-23T16:08:07.502071",
     "exception": false,
     "start_time": "2022-11-23T15:41:21.938488",
     "status": "completed"
    },
    "tags": []
   },
   "outputs": [],
   "source": [
    "if TrainMode == 1:\n",
    "    epochs = 40\n",
    "    learning_rate= 0.01\n",
    "    \n",
    "    MyRNNModel = RNNModel().to(Device)\n",
    "    UtilsTool.InitModel(MyRNNModel, Device)\n",
    "    UtilsTool.TrainModel(MyRNNModel, TrainLoader, ValidationLoader, epochs, learning_rate, Device)        \n",
    "    torch.save(MyRNNModel, ModelPath + 'MyRNNmodel.pth')\n",
    "\n",
    "    MyGRUModel = GRUModel().to(Device)\n",
    "    UtilsTool.InitModel(MyGRUModel, Device)\n",
    "    UtilsTool.TrainModel(MyGRUModel, TrainLoader, ValidationLoader, epochs, learning_rate, Device)        \n",
    "    torch.save(MyGRUModel, ModelPath + 'MyGRUmodel.pth')\n",
    "\n",
    "    MyLSTMModel = LSTMModel().to(Device)\n",
    "    UtilsTool.InitModel(MyLSTMModel, Device)\n",
    "    UtilsTool.TrainModel(MyLSTMModel, TrainLoader, ValidationLoader, epochs, learning_rate, Device)     \n",
    "    torch.save(MyLSTMModel, ModelPath + 'MyLSTMmodel.pth')\n",
    "    \n",
    "else:     \n",
    "    MyRNNModel = torch.load(ModelPath + 'MyRNNmodel.pth').to(Device)\n",
    "    MyGRUModel = torch.load(ModelPath + 'MyGRUmodel.pth').to(Device)\n",
    "    MyLSTMModel = torch.load(ModelPath + 'MyLSTMmodel.pth').to(Device)\n"
   ]
  },
  {
   "cell_type": "markdown",
   "id": "15a2d305",
   "metadata": {
    "papermill": {
     "duration": 0.041459,
     "end_time": "2022-11-23T16:08:48.445943",
     "exception": false,
     "start_time": "2022-11-23T16:08:48.404484",
     "status": "completed"
    },
    "tags": []
   },
   "source": [
    "![](./animation3.gif)"
   ]
  },
  {
   "cell_type": "code",
   "execution_count": 12,
   "id": "2adc90d3",
   "metadata": {
    "execution": {
     "iopub.execute_input": "2022-11-23T16:08:48.617567Z",
     "iopub.status.busy": "2022-11-23T16:08:48.616798Z",
     "iopub.status.idle": "2022-11-23T16:08:48.818815Z",
     "shell.execute_reply": "2022-11-23T16:08:48.817568Z"
    },
    "papermill": {
     "duration": 0.248564,
     "end_time": "2022-11-23T16:08:48.821338",
     "exception": false,
     "start_time": "2022-11-23T16:08:48.572774",
     "status": "completed"
    },
    "tags": []
   },
   "outputs": [
    {
     "name": "stdout",
     "output_type": "stream",
     "text": [
      "RNN: MSE:447.7, L1:15.27, RMSE:21.16\n",
      "GRU: MSE:206.27, L1:9.65, RMSE:14.36\n",
      "LSTM: MSE:360.85, L1:13.55, RMSE:19.0\n"
     ]
    }
   ],
   "source": [
    "Mse, L1, Rrmse, _ , _ = UtilsTool.TestModel(MyRNNModel, TestLoader, Device)\n",
    "print(f'RNN: MSE:{round(Mse,2)}, L1:{round(L1,2)}, RMSE:{round(Rrmse,2)}')\n",
    "Mse, L1, Rrmse, _ , _ = UtilsTool.TestModel(MyGRUModel, TestLoader, Device)\n",
    "print(f'GRU: MSE:{round(Mse,2)}, L1:{round(L1,2)}, RMSE:{round(Rrmse,2)}')\n",
    "Mse, L1, Rrmse, _ , _ = UtilsTool.TestModel(MyLSTMModel, TestLoader, Device)\n",
    "print(f'LSTM: MSE:{round(Mse,2)}, L1:{round(L1,2)}, RMSE:{round(Rrmse,2)}')"
   ]
  },
  {
   "cell_type": "code",
   "execution_count": 13,
   "id": "59e3ffa6",
   "metadata": {},
   "outputs": [],
   "source": [
    "TestLoaderAttack = DataLoader(TestLoader.dataset, batch_size=300, shuffle=False)\n",
    "X, y = next(iter(TestLoaderAttack))\n",
    "X, y = X.to(Device), y.to(Device)"
   ]
  },
  {
   "cell_type": "code",
   "execution_count": 19,
   "id": "ba3e1b99",
   "metadata": {},
   "outputs": [
    {
     "name": "stdout",
     "output_type": "stream",
     "text": [
      "GRU\n",
      "FGSM: {'RealRUL': 64.4935073852539, 'Objective': 0, 'PredRUL': 41.70381546020508, 'RMSE_adversarial': 0.011127319186925888, 'RMSE_pred': 29.44731903076172, 'L0': tensor(24.)}\n",
      "BIM: {'RealRUL': 64.4935073852539, 'Objective': 0, 'PredRUL': 40.320762634277344, 'RMSE_adversarial': 0.010623765178024769, 'RMSE_pred': 31.117568969726562, 'L0': tensor(24.)}\n",
      "L2: {'RealRUL': 64.4935073852539, 'Objective': 0, 'PredRUL': 22.986116409301758, 'RMSE_adversarial': 0.011925701051950455, 'RMSE_pred': 53.595619201660156, 'L0': tensor(24.)}\n",
      "L0: {'RealRUL': 64.4935073852539, 'Objective': 0, 'PredRUL': 3.925652027130127, 'RMSE_adversarial': 0.06638193130493164, 'RMSE_pred': 72.87480926513672, 'L0': tensor(1.9091)}\n",
      "\n"
     ]
    }
   ],
   "source": [
    "AttacksParameters = {\n",
    "    \"FGSM\": {\n",
    "        \"Objective\": 300,\n",
    "        \"Epsilon\": 0.012\n",
    "    },\n",
    "    \"BIM\": {\n",
    "        \"Objective\": 300,\n",
    "        \"Iterations\": 120,\n",
    "        \"Epsilon\": 0.0001\n",
    "    },\n",
    "    \"L2\": {\n",
    "        \"Objective\": 0,\n",
    "        \"Iterations\": 1000,\n",
    "        \"LearningRate\": 0.01,\n",
    "        \"c\": 0.0000002\n",
    "    },\n",
    "    \n",
    "    \"L0\": {\n",
    "        \"Objective\": 0,\n",
    "        \"Iterations\": 1000,\n",
    "        \"LearningRate\": 0.01,\n",
    "        \"c\": 0.01,\n",
    "        \"k\": 2,\n",
    "        \"p\": 8,\n",
    "        \"s\": 0.1\n",
    "    } \n",
    "}\n",
    "\n",
    "print(\"GRU\")\n",
    "GRUAdversarialDataFgsm, GRUAdversarialDataBim, GRUAdversarialDataL2,  GRUAdversarialDataL0 = AttacksTool.TestAttacks(MyGRUModel, X, y, AttacksParameters, Device = Device)\n",
    "print()"
   ]
  },
  {
   "cell_type": "code",
   "execution_count": 44,
   "id": "12c0e62b",
   "metadata": {},
   "outputs": [
    {
     "name": "stderr",
     "output_type": "stream",
     "text": [
      "100%|██████████| 80/80 [14:34<00:00, 10.93s/it]\n",
      "100%|██████████| 80/80 [1:39:01<00:00, 74.27s/it] \n",
      "100%|██████████| 80/80 [3:03:31<00:00, 137.64s/it]  \n"
     ]
    }
   ],
   "source": [
    "AttackParameters = {\n",
    "        \"Epsilon\": 0.02\n",
    "    }\n",
    "\n",
    "CurrentModel = GRUModel(NbFeatures, 12).to(Device)\n",
    "Model_AdvTrainingFgsm = DefenseTool.AdversarialTraining(CurrentModel, TrainLoader, ValidationLoader, TestLoader, AdversarialMethod = \"Fgsm\", AttackParameters = AttackParameters,  Epochs = 80, Device=\"cuda\", Verbose=0)\n",
    "\n",
    "AttackParameters = {\n",
    "        \"Iterations\": 30,\n",
    "        \"Epsilon\": 0.001\n",
    "    }\n",
    "CurrentModel = GRUModel(NbFeatures, 12).to(Device)\n",
    "Model_AdvTrainingBim = DefenseTool.AdversarialTraining(CurrentModel, TrainLoader, ValidationLoader, TestLoader, AdversarialMethod = \"Bim\", AttackParameters = AttackParameters,  Epochs = 80, Device=\"cuda\", Verbose=0)\n",
    "\n",
    "AttackParameters = {\n",
    "        \"Iterations\": 50,\n",
    "        \"LearningRate\": 0.01,\n",
    "        \"c\": 0.0000002,\n",
    "    }\n",
    "\n",
    "CurrentModel = GRUModel(NbFeatures, 12).to(Device)\n",
    "Model_AdvTrainingL2 = DefenseTool.AdversarialTraining(CurrentModel, TrainLoader, ValidationLoader, TestLoader, AdversarialMethod = \"L2\", AttackParameters = AttackParameters,  Epochs = 80 , Device=\"cuda\", Verbose=0)"
   ]
  },
  {
   "cell_type": "code",
   "execution_count": 45,
   "id": "d3d7791c",
   "metadata": {},
   "outputs": [
    {
     "name": "stderr",
     "output_type": "stream",
     "text": [
      "  0%|          | 0/30 [00:00<?, ?it/s]"
     ]
    },
    {
     "name": "stderr",
     "output_type": "stream",
     "text": [
      "100%|██████████| 30/30 [16:31<00:00, 33.06s/it]\n",
      "100%|██████████| 30/30 [04:52<00:00,  9.74s/it]\n",
      "100%|██████████| 30/30 [04:54<00:00,  9.80s/it]\n",
      "100%|██████████| 30/30 [11:03<00:00, 22.13s/it]\n",
      "100%|██████████| 30/30 [16:27<00:00, 32.92s/it]\n"
     ]
    }
   ],
   "source": [
    "CurrentModel = GRUModel(NbFeatures, 12).to(Device)\n",
    "Model_EnsembleInputSqueezing = DefenseTool.EnsembleInputSqueezing(CurrentModel, TrainLoader, ValidationLoader, TestLoader, Epochs = 30, Device=\"cuda\", Verbose=0, MaxCoefficient=2)\n",
    "CurrentModel = GRUModel(NbFeatures, 12).to(Device)\n",
    "Model_InputSqueezing = DefenseTool.InputSqueezing(CurrentModel, TrainLoader, ValidationLoader, TestLoader, Epochs = 30, Device=\"cuda\", Verbose=0)\n",
    "\n",
    "CurrentModel = GRUModel(NbFeatures, 12).to(Device)\n",
    "Model_InputRandomization = DefenseTool.InputRandomization(CurrentModel, TrainLoader, ValidationLoader, TestLoader, Epochs = 30, Device=\"cuda\", Verbose=0)\n",
    "\n",
    "CurrentModel = GRUModel(NbFeatures, 12).to(Device)\n",
    "Model_InputPurificationAutoEncoder = DefenseTool.InputPurificationAutoEncoder(CurrentModel, TrainLoader, ValidationLoader, TestLoader, EpochsAutoEncoder = 30, EpochsModel = 30, Device=\"cuda\", Verbose=0)"
   ]
  },
  {
   "cell_type": "code",
   "execution_count": 80,
   "id": "f2ebb35a",
   "metadata": {},
   "outputs": [
    {
     "name": "stderr",
     "output_type": "stream",
     "text": [
      "100%|██████████| 30/30 [02:10<00:00,  4.36s/it]\n",
      "100%|██████████| 30/30 [03:28<00:00,  6.94s/it]\n",
      "100%|██████████| 30/30 [09:21<00:00, 18.72s/it]\n"
     ]
    }
   ],
   "source": [
    "AttackParameters = {\n",
    "        \"Epsilon\": 0.01\n",
    "    }\n",
    "\n",
    "CurrentModel = GRUModel(NbFeatures, 12).to(Device)\n",
    "DetectionModelFgsm = DefenseTool.GenerateDetectionModel(CurrentModel, TrainLoader, ValidationLoader, Device=\"cuda\", Epochs = 30, LearningRate = 0.001,AttackParameters=AttackParameters, AdversarialMethod=\"Fgsm\", Verbose=0)\n",
    "\n",
    "AttackParameters = {\n",
    "        \"Objective\": 300,\n",
    "        \"Iterations\": 10,\n",
    "        \"Epsilon\": 0.001\n",
    "}\n",
    "\n",
    "CurrentModel = GRUModel(NbFeatures, 12).to(Device)\n",
    "DetectionModelBim = DefenseTool.GenerateDetectionModel(CurrentModel, TrainLoader, ValidationLoader, Device=\"cuda\", Epochs = 30, LearningRate = 0.001,AttackParameters=AttackParameters, AdversarialMethod=\"Bim\", Verbose=0)\n",
    "\n",
    "AttackParameters = {\n",
    "        \"Iterations\": 50,\n",
    "        \"LearningRate\": 0.01,\n",
    "        \"c\": 0.0002,\n",
    "    }\n",
    "\n",
    "CurrentModel = GRUModel(NbFeatures, 12).to(Device)\n",
    "DetectionModelL2 = DefenseTool.GenerateDetectionModel(CurrentModel, TrainLoader, ValidationLoader, Device=\"cuda\", Epochs = 30, LearningRate = 0.001,AttackParameters=AttackParameters, AdversarialMethod=\"L2\", Verbose=0)"
   ]
  },
  {
   "cell_type": "code",
   "execution_count": 48,
   "id": "435ffa58",
   "metadata": {},
   "outputs": [],
   "source": [
    "RFModel, XGBModel = DefenseTool.EnsembleMethods(TrainLoader, ValidationLoader, TestLoader)"
   ]
  },
  {
   "cell_type": "code",
   "execution_count": 34,
   "id": "c3377d63",
   "metadata": {},
   "outputs": [
    {
     "name": "stdout",
     "output_type": "stream",
     "text": [
      "Classicial : RMSE:14.36\n"
     ]
    },
    {
     "ename": "NameError",
     "evalue": "name 'Model_AdvTrainingFgsm' is not defined",
     "output_type": "error",
     "traceback": [
      "\u001b[0;31m---------------------------------------------------------------------------\u001b[0m",
      "\u001b[0;31mNameError\u001b[0m                                 Traceback (most recent call last)",
      "Cell \u001b[0;32mIn[34], line 4\u001b[0m\n\u001b[1;32m      1\u001b[0m mse, l1, Rrmse, y_pred_rnn, y \u001b[38;5;241m=\u001b[39m UtilsTool\u001b[38;5;241m.\u001b[39mTestModel(MyGRUModel, TestLoader, Device)\n\u001b[1;32m      2\u001b[0m \u001b[38;5;28mprint\u001b[39m(\u001b[38;5;124mf\u001b[39m\u001b[38;5;124m'\u001b[39m\u001b[38;5;124mClassicial : RMSE:\u001b[39m\u001b[38;5;132;01m{\u001b[39;00m\u001b[38;5;28mround\u001b[39m(Rrmse,\u001b[38;5;241m2\u001b[39m)\u001b[38;5;132;01m}\u001b[39;00m\u001b[38;5;124m'\u001b[39m)\n\u001b[0;32m----> 4\u001b[0m mse, l1, Rrmse, y_pred_rnn, y \u001b[38;5;241m=\u001b[39m UtilsTool\u001b[38;5;241m.\u001b[39mTestModel(\u001b[43mModel_AdvTrainingFgsm\u001b[49m, TestLoader, Device)\n\u001b[1;32m      5\u001b[0m \u001b[38;5;28mprint\u001b[39m(\u001b[38;5;124mf\u001b[39m\u001b[38;5;124m'\u001b[39m\u001b[38;5;124mAdversarial training FGSM: RMSE:\u001b[39m\u001b[38;5;132;01m{\u001b[39;00m\u001b[38;5;28mround\u001b[39m(Rrmse,\u001b[38;5;241m2\u001b[39m)\u001b[38;5;132;01m}\u001b[39;00m\u001b[38;5;124m'\u001b[39m)\n\u001b[1;32m      7\u001b[0m mse, l1, Rrmse, y_pred_rnn, y \u001b[38;5;241m=\u001b[39m UtilsTool\u001b[38;5;241m.\u001b[39mTestModel(Model_AdvTrainingBim, TestLoader, Device)\n",
      "\u001b[0;31mNameError\u001b[0m: name 'Model_AdvTrainingFgsm' is not defined"
     ]
    }
   ],
   "source": [
    "mse, l1, Rrmse, y_pred_rnn, y = UtilsTool.TestModel(MyGRUModel, TestLoader, Device)\n",
    "print(f'Classicial : RMSE:{round(Rrmse,2)}')\n",
    "\n",
    "mse, l1, Rrmse, y_pred_rnn, y = UtilsTool.TestModel(Model_AdvTrainingFgsm, TestLoader, Device)\n",
    "print(f'Adversarial training FGSM: RMSE:{round(Rrmse,2)}')\n",
    "\n",
    "mse, l1, Rrmse, y_pred_rnn, y = UtilsTool.TestModel(Model_AdvTrainingBim, TestLoader, Device)\n",
    "print(f'Adversarial training BIM: RMSE:{round(Rrmse,2)}')\n",
    "\n",
    "mse, l1, Rrmse, y_pred_rnn, y = UtilsTool.TestModel(Model_AdvTrainingL2, TestLoader, Device)\n",
    "print(f'Adversarial training L2: RMSE:{round(Rrmse,2)}')\n",
    "\n",
    "mse, l1, Rrmse, y_pred_rnn, y = UtilsTool.TestModel(Model_EnsembleInputSqueezing, TestLoader, Device)\n",
    "print(f'Ensemble squeezing : RMSE:{round(Rrmse,2)}')\n",
    "\n",
    "mse, l1, Rrmse, y_pred_rnn, y = UtilsTool.TestModel(Model_InputSqueezing, TestLoader, Device)\n",
    "print(f'Squeezing: RMSE:{round(Rrmse,2)}')\n",
    "\n",
    "mse, l1, Rrmse, y_pred_rnn, y = UtilsTool.TestModel(Model_InputRandomization, TestLoader, Device)\n",
    "print(f'Randomization: RMSE:{round(Rrmse,2)}')\n",
    "\n",
    "mse, l1, Rrmse, y_pred_rnn, y = UtilsTool.TestModel(Model_InputPurificationAutoEncoder, TestLoader, Device)\n",
    "print(f'AutoEncoder: RMSE:{round(Rrmse,2)}')\n",
    "\n",
    "DetectionRate = torch.round(DetectionModelFgsm(X.float())).sum()/len(X.float())\n",
    "print(\"Detection rate: RMSE \", DetectionRate.item())\n",
    "\n",
    "DetectionRate = torch.round(DetectionModelBim(X.float())).sum()/len(X.float())\n",
    "print(\"Detection rate: RMSE \", DetectionRate.item())\n",
    "\n",
    "DetectionRate = torch.round(DetectionModelL2(X.float())).sum()/len(X.float())\n",
    "print(\"Detection rate: RMSE \", DetectionRate.item())\n",
    "\n",
    "X_test, y_test = UtilsTool.DataLoaderToNumpy(TestLoader)\n",
    "XTest = UtilsTool.Flatten_sequences(X.cpu().numpy())\n",
    "MyRMSE = np.sqrt(mean_squared_error(RFModel.predict(XTest), y_test))\n",
    "print(f'Random Forest test RMSE: {MyRMSE:.2f}')\n",
    "\n",
    "X_test, y_test = UtilsTool.DataLoaderToNumpy(TestLoader)\n",
    "XTest = UtilsTool.Flatten_sequences(X.cpu().numpy())\n",
    "MyRMSE = np.sqrt(mean_squared_error(XGBModel.predict(XTest), y_test))\n",
    "print(f'XGB RMSE: {MyRMSE:.2f}')"
   ]
  },
  {
   "cell_type": "code",
   "execution_count": 83,
   "id": "768eeb30",
   "metadata": {},
   "outputs": [
    {
     "ename": "NameError",
     "evalue": "name 'Model_AdvTrainingFgsm' is not defined",
     "output_type": "error",
     "traceback": [
      "\u001b[0;31m---------------------------------------------------------------------------\u001b[0m",
      "\u001b[0;31mNameError\u001b[0m                                 Traceback (most recent call last)",
      "Cell \u001b[0;32mIn[83], line 2\u001b[0m\n\u001b[1;32m      1\u001b[0m AdversarialExamples \u001b[38;5;241m=\u001b[39m [X, GRUAdversarialDataFgsm, GRUAdversarialDataBim, GRUAdversarialDataL2, GRUAdversarialDataL0]\n\u001b[0;32m----> 2\u001b[0m Models \u001b[38;5;241m=\u001b[39m [MyGRUModel, \u001b[43mModel_AdvTrainingFgsm\u001b[49m, Model_AdvTrainingBim, Model_AdvTrainingL2, Model_EnsembleInputSqueezing, Model_InputSqueezing, Model_InputRandomization, Model_InputPurificationAutoEncoder]\n\u001b[1;32m      3\u001b[0m ModelsName \u001b[38;5;241m=\u001b[39m [\u001b[38;5;124m\"\u001b[39m\u001b[38;5;124mClassical\u001b[39m\u001b[38;5;124m\"\u001b[39m, \u001b[38;5;124m\"\u001b[39m\u001b[38;5;124mModel_AdvTrainingFgsm\u001b[39m\u001b[38;5;124m\"\u001b[39m, \u001b[38;5;124m\"\u001b[39m\u001b[38;5;124mModel_AdvTrainingBim\u001b[39m\u001b[38;5;124m\"\u001b[39m, \u001b[38;5;124m\"\u001b[39m\u001b[38;5;124mModel_AdvTrainingL2\u001b[39m\u001b[38;5;124m\"\u001b[39m, \u001b[38;5;124m\"\u001b[39m\u001b[38;5;124mModel_EnsembleInputSqueezing\u001b[39m\u001b[38;5;124m\"\u001b[39m, \u001b[38;5;124m\"\u001b[39m\u001b[38;5;124mModel_InputSqueezing\u001b[39m\u001b[38;5;124m\"\u001b[39m, \u001b[38;5;124m\"\u001b[39m\u001b[38;5;124mModel_InputRandomization\u001b[39m\u001b[38;5;124m\"\u001b[39m, \u001b[38;5;124m\"\u001b[39m\u001b[38;5;124mModel_InputPurificationAutoEncoder\u001b[39m\u001b[38;5;124m\"\u001b[39m]\n\u001b[1;32m      4\u001b[0m EnsemblModels \u001b[38;5;241m=\u001b[39m [XGBModel, RFModel]\n",
      "\u001b[0;31mNameError\u001b[0m: name 'Model_AdvTrainingFgsm' is not defined"
     ]
    }
   ],
   "source": [
    "AdversarialExamples = [X, GRUAdversarialDataFgsm, GRUAdversarialDataBim, GRUAdversarialDataL2, GRUAdversarialDataL0]\n",
    "Models = [MyGRUModel, Model_AdvTrainingFgsm, Model_AdvTrainingBim, Model_AdvTrainingL2, Model_EnsembleInputSqueezing, Model_InputSqueezing, Model_InputRandomization, Model_InputPurificationAutoEncoder]\n",
    "ModelsName = [\"Classical\", \"Model_AdvTrainingFgsm\", \"Model_AdvTrainingBim\", \"Model_AdvTrainingL2\", \"Model_EnsembleInputSqueezing\", \"Model_InputSqueezing\", \"Model_InputRandomization\", \"Model_InputPurificationAutoEncoder\"]\n",
    "EnsemblModels = [XGBModel, RFModel]\n",
    "EnsemblModelsName = [ \"XFG\", \"RF\"]\n",
    "\n",
    "UtilsTool.DisplayRMSEAll(Models, ModelsName, AdversarialExamples, y)\n",
    "UtilsTool.DisplayDetection(DetectionModelFgsm, AdversarialExamples)\n",
    "UtilsTool.DisplayDetection(DetectionModelBim, AdversarialExamples)\n",
    "UtilsTool.DisplayDetection(DetectionModelL2, AdversarialExamples)\n",
    "UtilsTool.DisplayEnsembleModels(EnsemblModels, EnsemblModelsName, AdversarialExamples, y)"
   ]
  },
  {
   "cell_type": "code",
   "execution_count": 51,
   "id": "f79041ad",
   "metadata": {},
   "outputs": [
    {
     "name": "stdout",
     "output_type": "stream",
     "text": [
      "Classical Model\n",
      "FGSM: {'RealRUL': 64.4935073852539, 'Objective': 0, 'PredRUL': 44.0766487121582, 'RMSE_adversarial': 0.0092728640884161, 'RMSE_pred': 27.123380661010742, 'L0': tensor(24.)}\n",
      "BIM: {'RealRUL': 64.4935073852539, 'Objective': 0, 'PredRUL': 42.32912826538086, 'RMSE_adversarial': 0.00934695452451706, 'RMSE_pred': 29.091541290283203, 'L0': tensor(24.)}\n",
      "L2: {'RealRUL': 64.4935073852539, 'Objective': 0, 'PredRUL': 22.969768524169922, 'RMSE_adversarial': 0.011934179812669754, 'RMSE_pred': 53.648399353027344, 'L0': tensor(24.)}\n",
      "L0: {'RealRUL': 64.4935073852539, 'Objective': 0, 'PredRUL': 3.7247250080108643, 'RMSE_adversarial': 0.06574776023626328, 'RMSE_pred': 73.14331817626953, 'L0': tensor(2.0779)}\n",
      "\n",
      "Adversarial Model FGSM\n",
      "FGSM: {'RealRUL': 64.4935073852539, 'Objective': 0, 'PredRUL': 64.87660217285156, 'RMSE_adversarial': 0.008537886664271355, 'RMSE_pred': 15.745138168334961, 'L0': tensor(21.0909)}\n",
      "BIM: {'RealRUL': 64.4935073852539, 'Objective': 0, 'PredRUL': 63.81242370605469, 'RMSE_adversarial': 0.008035814389586449, 'RMSE_pred': 15.607569694519043, 'L0': tensor(20.8701)}\n",
      "L2: {'RealRUL': 64.4935073852539, 'Objective': 0, 'PredRUL': 28.118833541870117, 'RMSE_adversarial': 0.014371918514370918, 'RMSE_pred': 48.09370803833008, 'L0': tensor(21.0649)}\n",
      "L0: {'RealRUL': 64.4935073852539, 'Objective': 0, 'PredRUL': 4.692763805389404, 'RMSE_adversarial': 0.08876222372055054, 'RMSE_pred': 73.03717803955078, 'L0': tensor(3.7013)}\n",
      "\n",
      "Adversarial Model BIM\n",
      "FGSM: {'RealRUL': 64.4935073852539, 'Objective': 0, 'PredRUL': 71.56025695800781, 'RMSE_adversarial': 0.008851442486047745, 'RMSE_pred': 20.158594131469727, 'L0': tensor(22.2468)}\n",
      "BIM: {'RealRUL': 64.4935073852539, 'Objective': 0, 'PredRUL': 71.35604858398438, 'RMSE_adversarial': 0.008843617513775826, 'RMSE_pred': 20.07004737854004, 'L0': tensor(22.1039)}\n",
      "L2: {'RealRUL': 64.4935073852539, 'Objective': 0, 'PredRUL': 27.3027400970459, 'RMSE_adversarial': 0.01530837919563055, 'RMSE_pred': 49.205265045166016, 'L0': tensor(21.9481)}\n",
      "L0: {'RealRUL': 64.4935073852539, 'Objective': 0, 'PredRUL': 8.915497779846191, 'RMSE_adversarial': 0.05845864117145538, 'RMSE_pred': 69.06439208984375, 'L0': tensor(3.8182)}\n",
      "\n",
      "Adversarial Model L2\n",
      "FGSM: {'RealRUL': 64.4935073852539, 'Objective': 0, 'PredRUL': 69.1972885131836, 'RMSE_adversarial': 0.008331306278705597, 'RMSE_pred': 18.9429988861084, 'L0': tensor(18.8182)}\n",
      "BIM: {'RealRUL': 64.4935073852539, 'Objective': 0, 'PredRUL': 68.76372528076172, 'RMSE_adversarial': 0.008453154005110264, 'RMSE_pred': 18.778776168823242, 'L0': tensor(18.2078)}\n",
      "L2: {'RealRUL': 64.4935073852539, 'Objective': 0, 'PredRUL': 53.9542350769043, 'RMSE_adversarial': 0.01827000267803669, 'RMSE_pred': 19.506046295166016, 'L0': tensor(18.3377)}\n",
      "L0: {'RealRUL': 64.4935073852539, 'Objective': 0, 'PredRUL': 2.6642048358917236, 'RMSE_adversarial': 0.09941335022449493, 'RMSE_pred': 75.1661376953125, 'L0': tensor(8.7013)}\n",
      "\n",
      "Adversarial Model Ensemble squeezing\n",
      "FGSM: {'RealRUL': 64.4935073852539, 'Objective': 0, 'PredRUL': 66.76919555664062, 'RMSE_adversarial': 7.740424189250916e-05, 'RMSE_pred': 19.756303787231445, 'L0': tensor(0.0130)}\n",
      "BIM: {'RealRUL': 64.4935073852539, 'Objective': 0, 'PredRUL': 66.76919555664062, 'RMSE_adversarial': 7.740424189250916e-05, 'RMSE_pred': 19.756303787231445, 'L0': tensor(0.0130)}\n",
      "L2: {'RealRUL': 64.4935073852539, 'Objective': 0, 'PredRUL': 66.76919555664062, 'RMSE_adversarial': 7.740424189250916e-05, 'RMSE_pred': 19.756303787231445, 'L0': tensor(0.0130)}\n",
      "L0: {'RealRUL': 64.4935073852539, 'Objective': 0, 'PredRUL': 66.76919555664062, 'RMSE_adversarial': 0.0, 'RMSE_pred': 19.756303787231445, 'L0': tensor(0.)}\n",
      "\n",
      "Adversarial Model squeezing\n",
      "FGSM: {'RealRUL': 64.4935073852539, 'Objective': 0, 'PredRUL': 65.46985626220703, 'RMSE_adversarial': 7.740424189250916e-05, 'RMSE_pred': 17.564226150512695, 'L0': tensor(0.0130)}\n",
      "BIM: {'RealRUL': 64.4935073852539, 'Objective': 0, 'PredRUL': 65.46985626220703, 'RMSE_adversarial': 7.740424189250916e-05, 'RMSE_pred': 17.564226150512695, 'L0': tensor(0.0130)}\n",
      "L2: {'RealRUL': 64.4935073852539, 'Objective': 0, 'PredRUL': 65.46985626220703, 'RMSE_adversarial': 7.740424189250916e-05, 'RMSE_pred': 17.564226150512695, 'L0': tensor(0.0130)}\n",
      "L0: {'RealRUL': 64.4935073852539, 'Objective': 0, 'PredRUL': 65.46985626220703, 'RMSE_adversarial': 0.0, 'RMSE_pred': 17.564226150512695, 'L0': tensor(0.)}\n",
      "\n",
      "Adversarial Distillation\n",
      "FGSM: {'RealRUL': 64.4935073852539, 'Objective': 0, 'PredRUL': 44.442535400390625, 'RMSE_adversarial': 0.011028843931853771, 'RMSE_pred': 27.353946685791016, 'L0': tensor(24.)}\n",
      "BIM: {'RealRUL': 64.4935073852539, 'Objective': 0, 'PredRUL': 43.18541717529297, 'RMSE_adversarial': 0.01064316090196371, 'RMSE_pred': 28.59723472595215, 'L0': tensor(24.)}\n",
      "L2: {'RealRUL': 64.4935073852539, 'Objective': 0, 'PredRUL': 29.694690704345703, 'RMSE_adversarial': 0.010771917179226875, 'RMSE_pred': 46.04608154296875, 'L0': tensor(24.)}\n",
      "L0: {'RealRUL': 64.4935073852539, 'Objective': 0, 'PredRUL': 7.52065372467041, 'RMSE_adversarial': 0.08855488151311874, 'RMSE_pred': 71.1091537475586, 'L0': tensor(3.7403)}\n",
      "\n",
      "Adversarial Randomization\n",
      "FGSM: {'RealRUL': 64.4935073852539, 'Objective': 0, 'PredRUL': 64.2109603881836, 'RMSE_adversarial': 0.009519972838461399, 'RMSE_pred': 19.184242248535156, 'L0': tensor(23.1818)}\n",
      "BIM: {'RealRUL': 64.4935073852539, 'Objective': 0, 'PredRUL': 63.37334442138672, 'RMSE_adversarial': 0.010316414758563042, 'RMSE_pred': 20.873310089111328, 'L0': tensor(23.1818)}\n",
      "L2: {'RealRUL': 64.4935073852539, 'Objective': 0, 'PredRUL': 42.06868362426758, 'RMSE_adversarial': 0.01006254181265831, 'RMSE_pred': 33.835365295410156, 'L0': tensor(23.)}\n",
      "L0: {'RealRUL': 64.4935073852539, 'Objective': 0, 'PredRUL': 8.00918960571289, 'RMSE_adversarial': 0.10882990807294846, 'RMSE_pred': 70.47052001953125, 'L0': tensor(4.0260)}\n",
      "\n",
      "Adversarial Autoencoder\n",
      "FGSM: {'RealRUL': 64.4935073852539, 'Objective': 0, 'PredRUL': 47.23845672607422, 'RMSE_adversarial': 0.010863334871828556, 'RMSE_pred': 24.270204544067383, 'L0': tensor(23.8831)}\n",
      "BIM: {'RealRUL': 64.4935073852539, 'Objective': 0, 'PredRUL': 47.25285339355469, 'RMSE_adversarial': 0.010100353509187698, 'RMSE_pred': 24.243812561035156, 'L0': tensor(23.9091)}\n",
      "L2: {'RealRUL': 64.4935073852539, 'Objective': 0, 'PredRUL': 40.70431137084961, 'RMSE_adversarial': 0.009726683609187603, 'RMSE_pred': 35.16613006591797, 'L0': tensor(23.9221)}\n",
      "L0: {'RealRUL': 64.4935073852539, 'Objective': 0, 'PredRUL': 4.052597999572754, 'RMSE_adversarial': 0.08937495946884155, 'RMSE_pred': 74.51966857910156, 'L0': tensor(6.7143)}\n"
     ]
    }
   ],
   "source": [
    "AttacksParameters = {\n",
    "    \"FGSM\": {\n",
    "        \"Objective\": 300,\n",
    "        \"Epsilon\": 0.010\n",
    "    },\n",
    "    \"BIM\": {\n",
    "        \"Objective\": 300,\n",
    "        \"Iterations\": 105,\n",
    "        \"Epsilon\": 0.0001\n",
    "    },\n",
    "    \"L2\": {\n",
    "        \"Objective\": 0,\n",
    "        \"Iterations\": 1000,\n",
    "        \"LearningRate\": 0.01,\n",
    "        \"c\": 0.0000002,\n",
    "    },\n",
    "    \"L0\": {\n",
    "        \"Objective\": 0,\n",
    "        \"Iterations\": 1000,\n",
    "        \"LearningRate\": 0.01,\n",
    "        \"c\": 0.01,\n",
    "        \"k\": 2,\n",
    "        \"p\": 8,\n",
    "        \"s\": 0.1\n",
    "    } \n",
    "}\n",
    "print(\"Classical Model\")\n",
    "_, _, _, _ = AttacksTool.TestAttacks(MyGRUModel, X, y, AttacksParameters, Device = Device)\n",
    "print()\n",
    "print(\"Adversarial Model FGSM\")\n",
    "_, _, _, _ = AttacksTool.TestAttacks(Model_AdvTrainingFgsm, X, y, AttacksParameters, Device = Device)\n",
    "print()\n",
    "print(\"Adversarial Model BIM\")\n",
    "_, _, _, _ = AttacksTool.TestAttacks(Model_AdvTrainingBim, X, y, AttacksParameters, Device = Device)\n",
    "print()\n",
    "print(\"Adversarial Model L2\")\n",
    "_, _, _, _ = AttacksTool.TestAttacks(Model_AdvTrainingL2, X, y, AttacksParameters, Device = Device)\n",
    "print()\n",
    "print(\"Adversarial Model Ensemble squeezing\")\n",
    "_, _, _, _ = AttacksTool.TestAttacks(Model_EnsembleInputSqueezing, X, y, AttacksParameters, Device = Device)\n",
    "print()\n",
    "print(\"Adversarial Model squeezing\")\n",
    "_, _, _, _ = AttacksTool.TestAttacks(Model_InputSqueezing, X, y, AttacksParameters, Device = Device)\n",
    "print()\n",
    "\n",
    "AttacksParameters = {\n",
    "    \"FGSM\": {\n",
    "        \"Objective\": 300,\n",
    "        \"Epsilon\": 0.011\n",
    "    },\n",
    "    \"BIM\": {\n",
    "        \"Objective\": 300,\n",
    "        \"Iterations\": 140,\n",
    "        \"Epsilon\": 0.0001\n",
    "    },\n",
    "    \"L2\": {\n",
    "        \"Objective\": 0,\n",
    "        \"Iterations\": 1000,\n",
    "        \"LearningRate\": 0.01,\n",
    "        \"c\": 0.00000007,\n",
    "    },\n",
    "    \"L0\": {\n",
    "        \"Objective\": 0,\n",
    "        \"Iterations\": 1000,\n",
    "        \"LearningRate\": 0.01,\n",
    "        \"c\": 0.01,\n",
    "        \"k\": 2,\n",
    "        \"p\": 8,\n",
    "        \"s\": 0.1\n",
    "    } \n",
    "}\n",
    "print(\"Adversarial Randomization\")\n",
    "_, _, _, _ = AttacksTool.TestAttacks(Model_InputRandomization, X, y, AttacksParameters, Device = Device)\n",
    "print()\n",
    "AttacksParameters = {\n",
    "    \"FGSM\": {\n",
    "        \"Objective\": 300,\n",
    "        \"Epsilon\": 0.012\n",
    "    },\n",
    "    \"BIM\": {\n",
    "        \"Objective\": 300,\n",
    "        \"Iterations\": 130,\n",
    "        \"Epsilon\": 0.00009\n",
    "    },\n",
    "    \"L2\": {\n",
    "        \"Objective\": 0,\n",
    "        \"Iterations\": 1000,\n",
    "        \"LearningRate\": 0.01,\n",
    "        \"c\": 0.00000009,\n",
    "    },\n",
    "    \"L0\": {\n",
    "        \"Objective\": 0,\n",
    "        \"Iterations\": 1000,\n",
    "        \"LearningRate\": 0.01,\n",
    "        \"c\": 0.01,\n",
    "        \"k\": 2,\n",
    "        \"p\": 8,\n",
    "        \"s\": 0.1\n",
    "    } \n",
    "}\n",
    "print(\"Adversarial Autoencoder\")\n",
    "_, _, _, _ = AttacksTool.TestAttacks(Model_InputPurificationAutoEncoder, X, y, AttacksParameters, Device = Device)"
   ]
  },
  {
   "cell_type": "code",
   "execution_count": 65,
   "id": "14656141",
   "metadata": {},
   "outputs": [
    {
     "name": "stdout",
     "output_type": "stream",
     "text": [
      "Classical Model\n",
      "FGSM: {'RealRUL': 64.4935073852539, 'Objective': 0, 'PredRUL': 44.0766487121582, 'RMSE_adversarial': 0.0092728640884161, 'RMSE_pred': 27.123380661010742, 'L0': tensor(24.)}\n",
      "BIM: {'RealRUL': 64.4935073852539, 'Objective': 0, 'PredRUL': 42.32912826538086, 'RMSE_adversarial': 0.00934695452451706, 'RMSE_pred': 29.091541290283203, 'L0': tensor(24.)}\n",
      "L2: {'RealRUL': 64.4935073852539, 'Objective': 0, 'PredRUL': 29.761899948120117, 'RMSE_adversarial': 0.009029235690832138, 'RMSE_pred': 45.8763313293457, 'L0': tensor(24.)}\n",
      "L0: {'RealRUL': 64.4935073852539, 'Objective': 0, 'PredRUL': 14.649861335754395, 'RMSE_adversarial': 0.06373099237680435, 'RMSE_pred': 66.77864837646484, 'L0': tensor(1.2338)}\n",
      "\n",
      "Adversarial Model FGSM\n",
      "FGSM: {'RealRUL': 64.4935073852539, 'Objective': 0, 'PredRUL': 64.87660217285156, 'RMSE_adversarial': 0.008537886664271355, 'RMSE_pred': 15.745138168334961, 'L0': tensor(21.0909)}\n",
      "BIM: {'RealRUL': 64.4935073852539, 'Objective': 0, 'PredRUL': 63.81242370605469, 'RMSE_adversarial': 0.008035814389586449, 'RMSE_pred': 15.607569694519043, 'L0': tensor(20.8701)}\n",
      "L2: {'RealRUL': 64.4935073852539, 'Objective': 0, 'PredRUL': 35.665435791015625, 'RMSE_adversarial': 0.010917427949607372, 'RMSE_pred': 40.361019134521484, 'L0': tensor(21.2987)}\n",
      "L0: {'RealRUL': 64.4935073852539, 'Objective': 0, 'PredRUL': 28.15966796875, 'RMSE_adversarial': 0.06373311579227448, 'RMSE_pred': 51.98503875732422, 'L0': tensor(2.2597)}\n",
      "\n",
      "Adversarial Model BIM\n",
      "FGSM: {'RealRUL': 64.4935073852539, 'Objective': 0, 'PredRUL': 71.56025695800781, 'RMSE_adversarial': 0.008851442486047745, 'RMSE_pred': 20.158594131469727, 'L0': tensor(22.2468)}\n",
      "BIM: {'RealRUL': 64.4935073852539, 'Objective': 0, 'PredRUL': 71.35604858398438, 'RMSE_adversarial': 0.008843617513775826, 'RMSE_pred': 20.07004737854004, 'L0': tensor(22.1039)}\n",
      "L2: {'RealRUL': 64.4935073852539, 'Objective': 0, 'PredRUL': 35.026363372802734, 'RMSE_adversarial': 0.012162852101027966, 'RMSE_pred': 41.6276969909668, 'L0': tensor(21.8961)}\n",
      "L0: {'RealRUL': 64.4935073852539, 'Objective': 0, 'PredRUL': 24.811424255371094, 'RMSE_adversarial': 0.04602665826678276, 'RMSE_pred': 56.06681823730469, 'L0': tensor(2.7532)}\n",
      "\n",
      "Adversarial Model L2\n",
      "FGSM: {'RealRUL': 64.4935073852539, 'Objective': 0, 'PredRUL': 69.1972885131836, 'RMSE_adversarial': 0.008331306278705597, 'RMSE_pred': 18.9429988861084, 'L0': tensor(18.8182)}\n",
      "BIM: {'RealRUL': 64.4935073852539, 'Objective': 0, 'PredRUL': 68.76372528076172, 'RMSE_adversarial': 0.008453154005110264, 'RMSE_pred': 18.778776168823242, 'L0': tensor(18.2078)}\n",
      "L2: {'RealRUL': 64.4935073852539, 'Objective': 0, 'PredRUL': 65.87993621826172, 'RMSE_adversarial': 0.008478503674268723, 'RMSE_pred': 17.020862579345703, 'L0': tensor(18.0649)}\n",
      "L0: {'RealRUL': 64.4935073852539, 'Objective': 0, 'PredRUL': 49.37589645385742, 'RMSE_adversarial': 0.058885056525468826, 'RMSE_pred': 36.138694763183594, 'L0': tensor(7.5195)}\n"
     ]
    }
   ],
   "source": [
    "AttacksParameters = {\n",
    "    \"FGSM\": {\n",
    "        \"Objective\": 300,\n",
    "        \"Epsilon\": 0.010\n",
    "    },\n",
    "    \"BIM\": {\n",
    "        \"Objective\": 300,\n",
    "        \"Iterations\": 105,\n",
    "        \"Epsilon\": 0.0001\n",
    "    },\n",
    "    \"L2\": {\n",
    "        \"Objective\": 0,\n",
    "        \"Iterations\": 1000,\n",
    "        \"LearningRate\": 0.02,\n",
    "        \"c\": 0.0000001,\n",
    "    },\n",
    "    \"L0\": {\n",
    "        \"Objective\": 0,\n",
    "        \"Iterations\": 1000,\n",
    "        \"LearningRate\": 0.02,\n",
    "        \"c\": 0.001,\n",
    "        \"k\": 2,\n",
    "        \"p\": 8,\n",
    "        \"s\": 0.1\n",
    "    } \n",
    "}\n",
    "print(\"Classical Model\")\n",
    "_, _, _, _ = AttacksTool.TestAttacks(MyGRUModel, X, y, AttacksParameters, Device = Device)\n",
    "print()\n",
    "print(\"Adversarial Model FGSM\")\n",
    "_, _, _, _ = AttacksTool.TestAttacks(Model_AdvTrainingFgsm, X, y, AttacksParameters, Device = Device)\n",
    "print()\n",
    "print(\"Adversarial Model BIM\")\n",
    "_, _, _, _ = AttacksTool.TestAttacks(Model_AdvTrainingBim, X, y, AttacksParameters, Device = Device)\n",
    "print()\n",
    "print(\"Adversarial Model L2\")\n",
    "_, _, _, _ = AttacksTool.TestAttacks(Model_AdvTrainingL2, X, y, AttacksParameters, Device = Device)"
   ]
  },
  {
   "cell_type": "code",
   "execution_count": 52,
   "id": "47c1d828",
   "metadata": {},
   "outputs": [
    {
     "name": "stderr",
     "output_type": "stream",
     "text": [
      "100%|██████████| 100/100 [37:39<00:00, 22.60s/it]\n",
      "100%|██████████| 30/30 [07:41<00:00, 15.37s/it]\n"
     ]
    }
   ],
   "source": [
    "SurrogateModelXGB = AttacksTool.CreateSurrogateModel(XGBModel, Epochs = 100, Device = \"cuda\", Verbose = 0)\n",
    "SurrogateModelRF = AttacksTool.CreateSurrogateModel(RFModel, Epochs = 30, Device = \"cuda\", Verbose = 0)"
   ]
  },
  {
   "cell_type": "code",
   "execution_count": 53,
   "id": "fbcd9ad2",
   "metadata": {},
   "outputs": [
    {
     "name": "stdout",
     "output_type": "stream",
     "text": [
      "FGSM: {'RealRUL': 64.4935073852539, 'Objective': 0, 'PredRUL': 96.48160552978516, 'RMSE_adversarial': 0.01144420076161623, 'RMSE_pred': 37.34797668457031, 'L0': tensor(24.)}\n",
      "BIM: {'RealRUL': 64.4935073852539, 'Objective': 0, 'PredRUL': 96.56033325195312, 'RMSE_adversarial': 0.010999324731528759, 'RMSE_pred': 37.41765594482422, 'L0': tensor(24.)}\n",
      "L2: {'RealRUL': 64.4935073852539, 'Objective': 0, 'PredRUL': 66.31300354003906, 'RMSE_adversarial': 0.009540744125843048, 'RMSE_pred': 32.20648956298828, 'L0': tensor(24.)}\n",
      "L0: {'RealRUL': 64.4935073852539, 'Objective': 0, 'PredRUL': 42.31998825073242, 'RMSE_adversarial': 0.1732914000749588, 'RMSE_pred': 46.81394958496094, 'L0': tensor(7.4026)}\n",
      "XFG\n",
      "0 RMSE  17.05215\n",
      "1 RMSE  20.380913\n",
      "2 RMSE  20.593645\n",
      "3 RMSE  41.136745\n",
      "4 RMSE  43.810425\n",
      "5 RMSE  16.649055\n",
      "6 RMSE  15.767556\n",
      "7 RMSE  39.050587\n",
      "8 RMSE  73.39851\n",
      "\n",
      "FGSM: {'RealRUL': 64.4935073852539, 'Objective': 0, 'PredRUL': 83.72765350341797, 'RMSE_adversarial': 0.011321657337248325, 'RMSE_pred': 27.71297264099121, 'L0': tensor(23.9740)}\n",
      "BIM: {'RealRUL': 64.4935073852539, 'Objective': 0, 'PredRUL': 83.8110580444336, 'RMSE_adversarial': 0.010921362787485123, 'RMSE_pred': 27.777137756347656, 'L0': tensor(23.9481)}\n",
      "L2: {'RealRUL': 64.4935073852539, 'Objective': 0, 'PredRUL': 34.43345260620117, 'RMSE_adversarial': 0.007658143062144518, 'RMSE_pred': 44.75325393676758, 'L0': tensor(23.9481)}\n",
      "L0: {'RealRUL': 64.4935073852539, 'Objective': 0, 'PredRUL': 15.184391021728516, 'RMSE_adversarial': 0.08219069987535477, 'RMSE_pred': 64.16763305664062, 'L0': tensor(2.4026)}\n",
      "RF\n",
      "0 RMSE  14.465640661244832\n",
      "1 RMSE  13.920135840507513\n",
      "2 RMSE  14.03663046479442\n",
      "3 RMSE  28.502763935240594\n",
      "4 RMSE  31.746930110304703\n",
      "5 RMSE  14.038929501868779\n",
      "6 RMSE  14.057103440711288\n",
      "7 RMSE  41.85520408612182\n",
      "8 RMSE  61.95713284513423\n",
      "\n"
     ]
    }
   ],
   "source": [
    "AttacksParameters = {\n",
    "    \"FGSM\": {\n",
    "        \"Objective\": 300,\n",
    "        \"Epsilon\": 0.012\n",
    "    },\n",
    "    \"BIM\": {\n",
    "        \"Objective\": 300,\n",
    "        \"Iterations\": 130,\n",
    "        \"Epsilon\": 0.00009\n",
    "    },\n",
    "    \"L2\": {\n",
    "        \"Objective\": 0,\n",
    "        \"Iterations\": 1000,\n",
    "        \"LearningRate\": 0.01,\n",
    "        \"c\": 0.00000009,\n",
    "    },\n",
    "    \"L0\": {\n",
    "        \"Objective\": 0,\n",
    "        \"Iterations\": 1000,\n",
    "        \"LearningRate\": 0.01,\n",
    "        \"c\": 0.01,\n",
    "        \"k\": 2,\n",
    "        \"p\": 8,\n",
    "        \"s\": 0.1\n",
    "    } \n",
    "}\n",
    "A, B, C, D = AttacksTool.TestAttacks(SurrogateModelXGB, X, y, AttacksParameters, Device = Device)\n",
    "AdversarialExamples = [X, GRUAdversarialDataFgsm, GRUAdversarialDataBim, GRUAdversarialDataL2, GRUAdversarialDataL0, A, B, C, D]\n",
    "EnsemblModels = [XGBModel]\n",
    "EnsemblModelNames = [\"XGBModel\"]\n",
    "UtilsTool.DisplayEnsembleModels(EnsemblModels, EnsemblModelsName, AdversarialExamples, y)\n",
    "\n",
    "AttacksParameters = {\n",
    "    \"FGSM\": {\n",
    "        \"Objective\": 300,\n",
    "        \"Epsilon\": 0.012\n",
    "    },\n",
    "    \"BIM\": {\n",
    "        \"Objective\": 300,\n",
    "        \"Iterations\": 130,\n",
    "        \"Epsilon\": 0.00009\n",
    "    },\n",
    "    \"L2\": {\n",
    "        \"Objective\": 0,\n",
    "        \"Iterations\": 1000,\n",
    "        \"LearningRate\": 0.01,\n",
    "        \"c\": 0.00000009,\n",
    "    },\n",
    "    \"L0\": {\n",
    "        \"Objective\": 0,\n",
    "        \"Iterations\": 1000,\n",
    "        \"LearningRate\": 0.01,\n",
    "        \"c\": 0.01,\n",
    "        \"k\": 2,\n",
    "        \"p\": 8,\n",
    "        \"s\": 0.1\n",
    "    } \n",
    "}\n",
    "A, B, C, D = AttacksTool.TestAttacks(SurrogateModelRF, X, y, AttacksParameters, Device = Device)\n",
    "AdversarialExamples = [X, GRUAdversarialDataFgsm, GRUAdversarialDataBim, GRUAdversarialDataL2, GRUAdversarialDataL0, A, B, C, D]\n",
    "EnsemblModels = [RFModel]\n",
    "EnsemblModelNames = [\"RF\"]\n",
    "UtilsTool.DisplayEnsembleModels(EnsemblModels, EnsemblModelNames, AdversarialExamples, y)"
   ]
  },
  {
   "cell_type": "code",
   "execution_count": 54,
   "id": "cfa5b179",
   "metadata": {},
   "outputs": [
    {
     "name": "stderr",
     "output_type": "stream",
     "text": [
      "100%|██████████| 300/300 [2:02:17<00:00, 24.46s/it]  \n",
      "100%|██████████| 300/300 [4:52:05<00:00, 58.42s/it]     \n"
     ]
    }
   ],
   "source": [
    "SurrogateSqueezing = AttacksTool.CreateSurrogateModelSqueezing(Model_InputSqueezing, Epochs = 300, LearningRate=0.01, Device =\"cuda\", Verbose = 0)\n",
    "SurrogateSqueezing2 = AttacksTool.CreateSurrogateModelSqueezing(Model_EnsembleInputSqueezing, Epochs = 300, LearningRate=0.001, Device = \"cuda\", Verbose = 0)"
   ]
  },
  {
   "cell_type": "code",
   "execution_count": 55,
   "id": "c51e4cf7",
   "metadata": {},
   "outputs": [
    {
     "name": "stdout",
     "output_type": "stream",
     "text": [
      "FGSM: {'RealRUL': 64.4935073852539, 'Objective': 0, 'PredRUL': 80.4784927368164, 'RMSE_adversarial': 0.011116898618638515, 'RMSE_pred': 32.265769958496094, 'L0': tensor(23.9870)}\n",
      "BIM: {'RealRUL': 64.4935073852539, 'Objective': 0, 'PredRUL': 78.2060546875, 'RMSE_adversarial': 0.011251232586801052, 'RMSE_pred': 31.521615982055664, 'L0': tensor(23.9740)}\n",
      "L2: {'RealRUL': 64.4935073852539, 'Objective': 0, 'PredRUL': 3.1504223346710205, 'RMSE_adversarial': 0.08472742140293121, 'RMSE_pred': 72.91426086425781, 'L0': tensor(23.9870)}\n",
      "L0: {'RealRUL': 64.4935073852539, 'Objective': 0, 'PredRUL': 7.0261454582214355, 'RMSE_adversarial': 0.1305360198020935, 'RMSE_pred': 70.29898071289062, 'L0': tensor(5.5065)}\n",
      "Model_EnsembleInputSqueezing\n",
      "0 RMSE  19.756303787231445\n",
      "1 RMSE  28.158884048461914\n",
      "2 RMSE  28.20350456237793\n",
      "3 RMSE  37.87398910522461\n",
      "4 RMSE  49.26209259033203\n",
      "5 RMSE  24.028709411621094\n",
      "6 RMSE  25.935449600219727\n",
      "7 RMSE  61.20918273925781\n",
      "8 RMSE  83.63777923583984\n",
      "\n",
      "FGSM: {'RealRUL': 64.4935073852539, 'Objective': 0, 'PredRUL': 71.27439880371094, 'RMSE_adversarial': 0.01091954205185175, 'RMSE_pred': 32.96864318847656, 'L0': tensor(23.9221)}\n",
      "BIM: {'RealRUL': 64.4935073852539, 'Objective': 0, 'PredRUL': 71.3158187866211, 'RMSE_adversarial': 0.01031620241701603, 'RMSE_pred': 33.006591796875, 'L0': tensor(23.8961)}\n",
      "L2: {'RealRUL': 64.4935073852539, 'Objective': 0, 'PredRUL': 0.19856202602386475, 'RMSE_adversarial': 0.015934079885482788, 'RMSE_pred': 75.85563659667969, 'L0': tensor(23.6883)}\n",
      "L0: {'RealRUL': 64.4935073852539, 'Objective': 0, 'PredRUL': 0.3637895882129669, 'RMSE_adversarial': 0.04278688505291939, 'RMSE_pred': 75.86724090576172, 'L0': tensor(1.3636)}\n",
      "Model_InputSqueezing\n",
      "0 RMSE  17.564226150512695\n",
      "1 RMSE  28.724876403808594\n",
      "2 RMSE  28.12258529663086\n",
      "3 RMSE  40.24281311035156\n",
      "4 RMSE  59.04916000366211\n",
      "5 RMSE  18.970308303833008\n",
      "6 RMSE  17.834074020385742\n",
      "7 RMSE  20.72557830810547\n",
      "8 RMSE  28.467031478881836\n",
      "\n"
     ]
    }
   ],
   "source": [
    "AttacksParameters = {\n",
    "    \"FGSM\": {\n",
    "        \"Objective\": 300,\n",
    "        \"Epsilon\": 0.012\n",
    "    },\n",
    "    \"BIM\": {\n",
    "        \"Objective\": 300,\n",
    "        \"Iterations\": 130,\n",
    "        \"Epsilon\": 0.0001\n",
    "    },\n",
    "    \"L2\": {\n",
    "        \"Objective\": 0,\n",
    "        \"Iterations\": 1000,\n",
    "        \"LearningRate\": 0.01,\n",
    "        \"c\": 0.0003,\n",
    "    },\n",
    "    \"L0\": {\n",
    "        \"Objective\": 0,\n",
    "        \"Iterations\": 1000,\n",
    "        \"LearningRate\": 0.01,\n",
    "        \"c\": 0.01,\n",
    "        \"k\": 2,\n",
    "        \"p\": 8,\n",
    "        \"s\": 0.1\n",
    "    } \n",
    "}\n",
    "\n",
    "A, B, C, D = AttacksTool.TestAttacks(SurrogateSqueezing, X, y, AttacksParameters, Device = Device)\n",
    "AdversarialExamples = [X, GRUAdversarialDataFgsm, GRUAdversarialDataBim, GRUAdversarialDataL2, GRUAdversarialDataL0, A, B, C, D]\n",
    "Models = [Model_EnsembleInputSqueezing]\n",
    "ModelsName = [\"Model_EnsembleInputSqueezing\"]\n",
    "UtilsTool.DisplayRMSEAll(Models, ModelsName, AdversarialExamples, y)\n",
    "\n",
    "\n",
    "AttacksParameters = {\n",
    "    \"FGSM\": {\n",
    "        \"Objective\": 300,\n",
    "        \"Epsilon\": 0.012\n",
    "    },\n",
    "    \"BIM\": {\n",
    "        \"Objective\": 300,\n",
    "        \"Iterations\": 130,\n",
    "        \"Epsilon\": 0.00009\n",
    "    },\n",
    "    \"L2\": {\n",
    "        \"Objective\": 0,\n",
    "        \"Iterations\": 1000,\n",
    "        \"LearningRate\": 0.01,\n",
    "        \"c\": 0.00002,\n",
    "    },\n",
    "    \"L0\": {\n",
    "        \"Objective\": 0,\n",
    "        \"Iterations\": 1000,\n",
    "        \"LearningRate\": 0.01,\n",
    "        \"c\": 0.01,\n",
    "        \"k\": 2,\n",
    "        \"p\": 8,\n",
    "        \"s\": 0.1\n",
    "    } \n",
    "}\n",
    "A, B, C, D = AttacksTool.TestAttacks(SurrogateSqueezing2, X, y, AttacksParameters, Device = Device)\n",
    "AdversarialExamples = [X, GRUAdversarialDataFgsm, GRUAdversarialDataBim, GRUAdversarialDataL2, GRUAdversarialDataL0, A, B, C, D]\n",
    "Models = [Model_InputSqueezing]\n",
    "ModelsName = [\"Model_InputSqueezing\"]\n",
    "UtilsTool.DisplayRMSEAll(Models, ModelsName, AdversarialExamples, y)"
   ]
  },
  {
   "cell_type": "code",
   "execution_count": 42,
   "id": "c4a5001b",
   "metadata": {},
   "outputs": [
    {
     "name": "stderr",
     "output_type": "stream",
     "text": [
      "100%|██████████| 30/30 [02:11<00:00,  4.38s/it]\n"
     ]
    }
   ],
   "source": [
    "AttackParameters = {\n",
    "        \"Epsilon\": 0.01\n",
    "    }\n",
    "\n",
    "CurrentModel = GRUModel(NbFeatures, 12).to(Device)\n",
    "DetectionModelFgsm = DefenseTool.GenerateDetectionModel(CurrentModel, TrainLoader, ValidationLoader, Device=\"cuda\", Epochs = 30, LearningRate = 0.001,AttackParameters=AttackParameters, AdversarialMethod=\"Fgsm\", Verbose=0)"
   ]
  },
  {
   "cell_type": "code",
   "execution_count": 54,
   "id": "2265e993",
   "metadata": {},
   "outputs": [
    {
     "name": "stdout",
     "output_type": "stream",
     "text": [
      "0 Detection rate 0.0\n",
      "\n",
      "0 Detection rate 0.9870129823684692\n",
      "\n"
     ]
    }
   ],
   "source": [
    "UtilsTool.DisplayDetection(DetectionModelFgsm, [X])\n",
    "UtilsTool.DisplayDetection(DetectionModelFgsm, [Adv])"
   ]
  },
  {
   "cell_type": "code",
   "execution_count": 71,
   "id": "b9e5f241",
   "metadata": {},
   "outputs": [
    {
     "name": "stderr",
     "output_type": "stream",
     "text": [
      "100%|██████████| 1000/1000 [00:01<00:00, 582.83it/s]\n"
     ]
    },
    {
     "name": "stdout",
     "output_type": "stream",
     "text": [
      "RMSE: 0.07811340840946272\n",
      "RMSE: 74.65697479248047\n",
      "0 Detection rate 0.0\n",
      "\n"
     ]
    },
    {
     "name": "stderr",
     "output_type": "stream",
     "text": [
      "100%|██████████| 1000/1000 [00:01<00:00, 604.61it/s]\n"
     ]
    },
    {
     "name": "stdout",
     "output_type": "stream",
     "text": [
      "RMSE: 0.08393743382917641\n",
      "RMSE: 74.6404037475586\n",
      "0 Detection rate 0.0\n",
      "\n"
     ]
    },
    {
     "name": "stderr",
     "output_type": "stream",
     "text": [
      "100%|██████████| 1000/1000 [00:01<00:00, 604.00it/s]"
     ]
    },
    {
     "name": "stdout",
     "output_type": "stream",
     "text": [
      "RMSE: 0.08488626198288438\n",
      "RMSE: 74.63932800292969\n",
      "0 Detection rate 0.0\n",
      "\n"
     ]
    },
    {
     "name": "stderr",
     "output_type": "stream",
     "text": [
      "\n"
     ]
    }
   ],
   "source": [
    "Adv = AttacksTool.L2AttackDetection(MyGRUModel, DetectionModelFgsm, X, y, LearningRate= 0.01, c = 1, d = 100000, Device = \"cuda\", Verbose =0)\n",
    "mse = torch.mean((Adv - X) ** 2)\n",
    "rmse = torch.sqrt(mse)\n",
    "print(f\"RMSE: {rmse.item()}\")\n",
    "mse = torch.mean((MyGRUModel(Adv) - y) ** 2)\n",
    "rmse = torch.sqrt(mse)\n",
    "print(f\"RMSE: {rmse.item()}\")\n",
    "UtilsTool.DisplayDetection(DetectionModelFgsm, [Adv])\n",
    "\n",
    "Adv = AttacksTool.L2AttackDetection(MyGRUModel, DetectionModelBim, X, y, LearningRate= 0.01, c = 1, d = 100000, Device = \"cuda\", Verbose =0)\n",
    "mse = torch.mean((Adv - X) ** 2)\n",
    "rmse = torch.sqrt(mse)\n",
    "print(f\"RMSE: {rmse.item()}\")\n",
    "\n",
    "mse = torch.mean((MyGRUModel(Adv) - y) ** 2)\n",
    "rmse = torch.sqrt(mse)\n",
    "print(f\"RMSE: {rmse.item()}\")\n",
    "UtilsTool.DisplayDetection(DetectionModelBim, [Adv])\n",
    "\n",
    "Adv = AttacksTool.L2AttackDetection(MyGRUModel, DetectionModelL2, X, y, LearningRate= 0.01, c = 1, d = 10000000, Device = \"cuda\", Verbose =0)\n",
    "mse = torch.mean((Adv - X) ** 2)\n",
    "rmse = torch.sqrt(mse)\n",
    "print(f\"RMSE: {rmse.item()}\")\n",
    "\n",
    "mse = torch.mean((MyGRUModel(Adv) - y) ** 2)\n",
    "rmse = torch.sqrt(mse)\n",
    "print(f\"RMSE: {rmse.item()}\")\n",
    "UtilsTool.DisplayDetection(DetectionModelL2, [Adv])"
   ]
  }
 ],
 "metadata": {
  "kernelspec": {
   "display_name": "Python 3 (ipykernel)",
   "language": "python",
   "name": "python3"
  },
  "language_info": {
   "codemirror_mode": {
    "name": "ipython",
    "version": 3
   },
   "file_extension": ".py",
   "mimetype": "text/x-python",
   "name": "python",
   "nbconvert_exporter": "python",
   "pygments_lexer": "ipython3",
   "version": "3.10.12"
  },
  "papermill": {
   "default_parameters": {},
   "duration": 1671.427631,
   "end_time": "2022-11-23T16:08:50.145405",
   "environment_variables": {},
   "exception": null,
   "input_path": "__notebook__.ipynb",
   "output_path": "__notebook__.ipynb",
   "parameters": {},
   "start_time": "2022-11-23T15:40:58.717774",
   "version": "2.3.4"
  }
 },
 "nbformat": 4,
 "nbformat_minor": 5
}
